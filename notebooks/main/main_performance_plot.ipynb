{
 "cells": [
  {
   "cell_type": "code",
   "execution_count": null,
   "id": "071629d1",
   "metadata": {},
   "outputs": [],
   "source": [
    "import matplotlib.pyplot as plt\n",
    "import numpy as np"
   ]
  },
  {
   "cell_type": "code",
   "execution_count": null,
   "id": "886b1232",
   "metadata": {},
   "outputs": [],
   "source": [
    "times_array = np.array([12.8498, 6.0076, 2.8859, 1.4725])\n",
    "times_std_array = np.array([1.5329, 1.0503, 0.4367, 0.2687])\n",
    "tA = np.array([1, 2, 4, 8], dtype=float)"
   ]
  },
  {
   "cell_type": "code",
   "execution_count": null,
   "id": "d6595879",
   "metadata": {},
   "outputs": [],
   "source": [
    "n_per_point = np.array([2, 2, 4, 8], dtype=int)\n",
    "marker_map = {2: \"^\", 4: \"*\", 8: \"o\"}\n",
    "\n",
    "fig, ax = plt.subplots(figsize=(5, 3), dpi=200)\n",
    "\n",
    "# Use a single color for everything\n",
    "base_color = \"C0\"\n",
    "\n",
    "# Continuous line through all points\n",
    "ax.plot(tA, times_array, \"-\", linewidth=1, color=base_color, zorder=1)\n",
    "\n",
    "# Error bars (no markers), same color\n",
    "ax.errorbar(\n",
    "    tA,\n",
    "    times_array,\n",
    "    yerr=times_std_array,\n",
    "    fmt=\"none\",\n",
    "    capsize=4,\n",
    "    linewidth=1.2,\n",
    "    ecolor=base_color,\n",
    "    color=base_color,\n",
    "    zorder=1,\n",
    ")\n",
    "\n",
    "# Distinguish points by marker only (same color)\n",
    "for n in sorted(np.unique(n_per_point)):\n",
    "    idx = n_per_point == n\n",
    "    ax.scatter(\n",
    "        tA[idx],\n",
    "        times_array[idx],\n",
    "        marker=marker_map[n],\n",
    "        s=30,\n",
    "        color=\"black\",\n",
    "        label=rf\"$n={n}$\",\n",
    "        zorder=2,\n",
    "    )\n",
    "\n",
    "ax.set_xticks(tA)\n",
    "ax.set_xlabel(r\"$t_{\\mathcal{A}}$\")\n",
    "ax.set_ylabel(\"Rollout time (mean ± 1 SD)\")\n",
    "ax.set_title(r\"Rollout performance vs. $t_{\\mathcal{A}}$\")\n",
    "ax.grid(True, which=\"both\", linestyle=\"--\", linewidth=0.5, alpha=0.7)\n",
    "ax.legend(title=\"Configuration\", handlelength=2)\n",
    "\n",
    "plt.tight_layout()\n",
    "plt.show()\n"
   ]
  },
  {
   "cell_type": "code",
   "execution_count": null,
   "id": "1ce8044b",
   "metadata": {},
   "outputs": [],
   "source": [
    "times_array = np.array([1.4984, 1.4017, 1.589])\n",
    "times_std_array = np.array([0.3789, 0.3132, 0.3648])\n",
    "particles_array = np.array([224, 714, 997], dtype=float)"
   ]
  },
  {
   "cell_type": "code",
   "execution_count": null,
   "id": "1e48a74a",
   "metadata": {},
   "outputs": [],
   "source": [
    "fig, ax = plt.subplots(figsize=(5, 3), dpi=200)\n",
    "ax.errorbar(\n",
    "    particles_array,\n",
    "    times_array,\n",
    "    yerr=times_std_array,\n",
    "    fmt='o-',\n",
    "    capsize=4,\n",
    "    linewidth=1.5,\n",
    "    markersize=5,\n",
    ")\n",
    "ax.set_xticks(particles_array)\n",
    "ax.set_xlabel(\"Number of particles\")\n",
    "ax.set_ylabel(\"Rollout time (mean ± 1 SD)\")\n",
    "ax.set_title(\"Rollout performance vs. Number of particles\")\n",
    "ax.grid(True, which=\"both\", linestyle=\"--\", linewidth=0.5, alpha=0.7)\n",
    "\n",
    "plt.tight_layout()\n",
    "plt.show()"
   ]
  },
  {
   "cell_type": "code",
   "execution_count": null,
   "id": "afd1236b",
   "metadata": {},
   "outputs": [],
   "source": []
  }
 ],
 "metadata": {
  "kernelspec": {
   "display_name": "UPT",
   "language": "python",
   "name": "python3"
  },
  "language_info": {
   "codemirror_mode": {
    "name": "ipython",
    "version": 3
   },
   "file_extension": ".py",
   "mimetype": "text/x-python",
   "name": "python",
   "nbconvert_exporter": "python",
   "pygments_lexer": "ipython3",
   "version": "3.10.13"
  }
 },
 "nbformat": 4,
 "nbformat_minor": 5
}
