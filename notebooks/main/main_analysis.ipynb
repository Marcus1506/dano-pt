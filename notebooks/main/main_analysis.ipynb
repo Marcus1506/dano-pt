{
 "cells": [
  {
   "cell_type": "code",
   "execution_count": null,
   "id": "6b96646c",
   "metadata": {},
   "outputs": [],
   "source": [
    "from omegaconf import OmegaConf\n",
    "from hydra.core.global_hydra import GlobalHydra\n",
    "from hydra.utils import instantiate\n",
    "from src.models.autoencoder import AutoencoderLitModule\n",
    "from src.models.physics import PhysicsLitModule\n",
    "from src.utils import animate\n",
    "\n",
    "import os\n",
    "import random\n",
    "import sys\n",
    "from pathlib import Path\n",
    "from IPython.display import HTML\n",
    "from tqdm import tqdm\n",
    "import torch\n",
    "from torch_geometric.data import Data\n",
    "import numpy as np\n",
    "import matplotlib\n",
    "import matplotlib.pyplot as plt\n",
    "import matplotlib.animation as animation\n",
    "matplotlib.rcParams['animation.embed_limit'] = 400  # set 100 MB limit for animations\n",
    "\n",
    "import numpy as np\n",
    "import einops\n",
    "from functools import partial\n",
    "from src.datasets.particle_datamodule import ParticleDataModule\n",
    "from src.utils.metric import mean_iou\n",
    "\n",
    "GlobalHydra.instance().clear()\n",
    "\n",
    "os.environ[\"PROJECT_ROOT\"] = os.path.abspath(\".\")\n",
    "\n",
    "SEED = 42\n",
    "\n",
    "random.seed(SEED)\n",
    "np.random.seed(SEED)\n",
    "torch.manual_seed(SEED)\n",
    "torch.cuda.manual_seed(SEED)\n",
    "torch.cuda.manual_seed_all(SEED)\n",
    "\n",
    "# Force deterministic algorithms (and fail if a nondet op is hit)\n",
    "torch.use_deterministic_algorithms(True)          # raises on nondeterministic ops\n",
    "torch.set_deterministic_debug_mode(\"error\")       # PyTorch ≥2.1 alias: set_deterministic_debug\n",
    "# cuDNN settings\n",
    "torch.backends.cudnn.deterministic = True         # force det conv algos\n",
    "torch.backends.cudnn.benchmark = False            # disable autotune nondet selection\n",
    "# Keep math mode consistent\n",
    "torch.backends.cuda.matmul.allow_tf32 = False\n",
    "torch.backends.cudnn.allow_tf32 = False\n",
    "os.environ[\"CUBLAS_WORKSPACE_CONFIG\"] = \":4096:8\""
   ]
  },
  {
   "cell_type": "code",
   "execution_count": null,
   "id": "f7414e11",
   "metadata": {},
   "outputs": [],
   "source": [
    "def plot_metric(mse, title: str, log: bool = False):\n",
    "    plt.clf()\n",
    "    fig, ax = plt.subplots(figsize=(10, 5))\n",
    "    ax.plot(mse, label='Metric')\n",
    "    ax.set_xlabel('Timestep')\n",
    "    ax.set_ylabel('Metric')\n",
    "    ax.set_title(f\"{title} Metric Over Time\")\n",
    "    ax.legend()\n",
    "    if log: ax.set_yscale('log')\n",
    "    plt.tight_layout()\n",
    "    plt.show()\n",
    "\n",
    "def plot_two_series(y1: np.ndarray,\n",
    "                    y2: np.ndarray,\n",
    "                    labels=('Series 1', 'Series 2'),\n",
    "                    xlabel: str = 'Index',\n",
    "                    ylabel: str = 'Value',\n",
    "                    title: str = 'Two Series on One Plot',\n",
    "                    log: bool = False) -> None:\n",
    "    \"\"\"\n",
    "    Plots two same-length sequences/arrays on the same axes.\n",
    "\n",
    "    Parameters\n",
    "    ----------\n",
    "    y1 : np.ndarray\n",
    "        First data series (plotted in default style).\n",
    "    y2 : np.ndarray\n",
    "        Second data series (plotted in dashed style).\n",
    "    labels : tuple of str, optional\n",
    "        Labels for the two series (default ('Series 1', 'Series 2')).\n",
    "    xlabel : str, optional\n",
    "        Label for the x-axis (default 'Index').\n",
    "    ylabel : str, optional\n",
    "        Label for the y-axis (default 'Value').\n",
    "    title : str, optional\n",
    "        Title of the plot (default 'Two Series on One Plot').\n",
    "\n",
    "    Raises\n",
    "    ------\n",
    "    ValueError\n",
    "        If y1 and y2 are not the same length.\n",
    "    \"\"\"\n",
    "    if len(y1) != len(y2):\n",
    "        raise ValueError(f\"Input arrays must have the same length; got {len(y1)} and {len(y2)}\")\n",
    "\n",
    "    x = np.arange(len(y1))              # common x-axis\n",
    "    plt.figure()                        # new figure\n",
    "    plt.plot(x, y1, label=labels[0])    # first series\n",
    "    plt.plot(x, y2, label=labels[1])  # second series with dashed line\n",
    "    plt.xlabel(xlabel)                  # x-axis label\n",
    "    plt.ylabel(ylabel)                  # y-axis label\n",
    "    plt.title(title)                    # plot title\n",
    "    plt.legend()                        # show legend\n",
    "    plt.grid(True)                      # optional grid\n",
    "    if log: plt.yscale('log')           # set y-axis to logarithmic scale if requested\n",
    "    plt.tight_layout()                  # nicely fit elements\n",
    "    plt.show()                          # display\n",
    "\n",
    "def compute_mse(preds, targets):\n",
    "    preds = einops.rearrange(preds, 't n c -> t (n c)')\n",
    "    targets = einops.rearrange(targets, 't n c -> t (n c)')\n",
    "    mse = torch.mean((preds - targets) ** 2, dim=1).cpu().numpy()\n",
    "    return mse"
   ]
  },
  {
   "cell_type": "code",
   "execution_count": null,
   "id": "8a4e0501",
   "metadata": {},
   "outputs": [],
   "source": [
    "from __future__ import annotations\n",
    "from typing import Sequence, Tuple, Optional\n",
    "import numpy as np\n",
    "import matplotlib.pyplot as plt\n",
    "from itertools import cycle\n",
    "\n",
    "# Optional torch support (avoid hard dependency)\n",
    "try:\n",
    "    import torch  # type: ignore\n",
    "    _HAS_TORCH = True\n",
    "except Exception:\n",
    "    _HAS_TORCH = False\n",
    "\n",
    "\n",
    "def _as_list(arrs: Sequence[np.ndarray] | np.ndarray) -> list[np.ndarray]:\n",
    "    if isinstance(arrs, np.ndarray) and arrs.ndim == 1:\n",
    "        return [arrs]\n",
    "    return [np.asarray(a).ravel() for a in arrs]\n",
    "\n",
    "\n",
    "def _as_list_optional(arrs: Optional[Sequence[np.ndarray] | np.ndarray]) -> Optional[list[Optional[np.ndarray]]]:\n",
    "    if arrs is None:\n",
    "        return None\n",
    "    if isinstance(arrs, np.ndarray) and arrs.ndim == 1:\n",
    "        return [arrs]\n",
    "    out: list[Optional[np.ndarray]] = []\n",
    "    for a in arrs:\n",
    "        out.append(None if a is None else np.asarray(a).ravel())\n",
    "    return out\n",
    "\n",
    "\n",
    "def _get_kw(kws: dict | Sequence[dict] | None, i: int, base: dict) -> dict:\n",
    "    if kws is None:\n",
    "        return base.copy()\n",
    "    if isinstance(kws, dict):\n",
    "        out = base.copy(); out.update(kws); return out\n",
    "    out = base.copy()\n",
    "    if i < len(kws) and kws[i] is not None:\n",
    "        out.update(kws[i])\n",
    "    return out\n",
    "\n",
    "\n",
    "def plot_means_variances(\n",
    "        means: Sequence[np.ndarray] | np.ndarray,\n",
    "        stds:  Optional[Sequence[np.ndarray] | np.ndarray] = None,\n",
    "        xlabel: str = \"\",\n",
    "        ylabel: str = \"\",\n",
    "        ax: plt.Axes | None = None,\n",
    "        *,\n",
    "        labels: Sequence[str] | None = None,\n",
    "        colors: Sequence[str] | None = None,\n",
    "        upper_bound: float | None = None,\n",
    "        lower_bound: float | None = None,\n",
    "        line_kw: dict | Sequence[dict] | None = None,\n",
    "        fill_kw: dict | Sequence[dict] | None = None,\n",
    "        lower_value: float | None = None,\n",
    "        figsize: Tuple[float, float] | None = None,\n",
    "        dpi: int | None = None,\n",
    "        start_idx: float = 0.0,\n",
    "        stride: float = 1.0,\n",
    "        # NEW legend controls\n",
    "        legend_outside: bool = False,\n",
    "        legend_pos: str = \"right\",         # \"right\" | \"left\" | \"bottom\" | \"top\"\n",
    "        legend_ncol: int = 1,\n",
    "        legend_kw: Optional[dict] = None,\n",
    "    ) -> plt.Axes:\n",
    "    \"\"\"\n",
    "    Plot one or more mean time series, optionally with ±1 SD envelopes.\n",
    "\n",
    "    Parameters\n",
    "    ----------\n",
    "    means : seq[1D array] or 1D array\n",
    "    stds : seq[1D array] or 1D array or None\n",
    "        If None (global) or stds[i] is None (per-series), no bounds are drawn.\n",
    "    labels : seq[str], optional\n",
    "    colors : seq[str], optional\n",
    "    upper_bound, lower_bound : float, optional\n",
    "        Clip envelopes where stds are present.\n",
    "    line_kw, fill_kw : dict or seq[dict], optional\n",
    "    lower_value : float, optional\n",
    "    figsize, dpi : used only if `ax` is None.\n",
    "    start_idx : float, default 0.0\n",
    "        X-value at the first point (global for all series).\n",
    "    stride : float, default 1.0\n",
    "        Increment added to x for each step (global for all series).\n",
    "    legend_outside : bool, default False\n",
    "        If True, places the legend outside the axes and adjusts margins when\n",
    "        this function created the axes.\n",
    "    legend_pos : {\"right\",\"left\",\"bottom\",\"top\"}, default \"right\"\n",
    "        Side on which to park an outside legend.\n",
    "    legend_ncol : int, default 1\n",
    "        Number of columns in the legend.\n",
    "    legend_kw : dict, optional\n",
    "        Additional kwargs forwarded to `ax.legend(...)`.\n",
    "    \"\"\"\n",
    "    if _HAS_TORCH and isinstance(means, torch.Tensor):\n",
    "        means = means.numpy(force=True)\n",
    "    if _HAS_TORCH and isinstance(stds, torch.Tensor):\n",
    "        stds = stds.numpy(force=True)\n",
    "\n",
    "    m_list = _as_list(means)\n",
    "    s_list = _as_list_optional(stds)\n",
    "\n",
    "    if s_list is not None and len(m_list) != len(s_list):\n",
    "        raise ValueError(f\"Got {len(m_list)} mean series but {len(s_list)} std series.\")\n",
    "    if s_list is not None:\n",
    "        for i, (m, s) in enumerate(zip(m_list, s_list)):\n",
    "            if s is not None and m.shape != s.shape:\n",
    "                raise ValueError(f\"Series {i} mean/std length mismatch: {m.shape} vs {s.shape}.\")\n",
    "\n",
    "    created_ax = False\n",
    "    if ax is None:\n",
    "        _figsize = figsize if figsize is not None else (6, 4)\n",
    "        _dpi     = dpi if dpi is not None else 200\n",
    "        _, ax = plt.subplots(figsize=_figsize, dpi=_dpi)\n",
    "        created_ax = True\n",
    "\n",
    "    # color handling\n",
    "    if colors is None:\n",
    "        prop = plt.rcParams.get(\"axes.prop_cycle\", None)\n",
    "        base_colors = [d.get(\"color\") for d in (prop or [])] if prop else None\n",
    "        if not base_colors:\n",
    "            base_colors = [\"C0\", \"C1\", \"C2\", \"C3\", \"C4\", \"C5\"]\n",
    "    else:\n",
    "        base_colors = list(colors)\n",
    "    color_cycler = cycle(base_colors)\n",
    "\n",
    "    base_line_kw = dict(lw=2.2, zorder=3)\n",
    "    base_fill_kw = dict(alpha=0.18, linewidth=0, zorder=1)\n",
    "\n",
    "    for i, m in enumerate(m_list):\n",
    "        s = None if s_list is None else s_list[i]\n",
    "        x = start_idx + stride * np.arange(m.shape[0])  # <-- stride + start\n",
    "        color = next(color_cycler)\n",
    "\n",
    "        lk = _get_kw(line_kw, i, base_line_kw)\n",
    "        fk = _get_kw(fill_kw, i, base_fill_kw)\n",
    "\n",
    "        if labels is not None:\n",
    "            lk = {**lk, \"label\": labels[i] if i < len(labels) else f\"series {i+1}\"}\n",
    "\n",
    "        # mean line\n",
    "        ax.plot(x, m, color=color, **lk)\n",
    "\n",
    "        # optional envelopes\n",
    "        if s is not None:\n",
    "            upper = m + s\n",
    "            lower = m - s\n",
    "            if lower_bound is not None:\n",
    "                lower = np.clip(lower, a_min=lower_bound, a_max=None)\n",
    "            if upper_bound is not None:\n",
    "                upper = np.clip(upper, a_min=None, a_max=upper_bound)\n",
    "            ax.plot(x, upper, color=color, alpha=0.55, lw=1.2, zorder=2)\n",
    "            ax.plot(x, lower, color=color, alpha=0.55, lw=1.2, zorder=2)\n",
    "            ax.fill_between(x, lower, upper, color=color, **fk)\n",
    "\n",
    "    # cosmetics\n",
    "    ax.set_xlabel(xlabel)\n",
    "    ax.set_ylabel(ylabel)\n",
    "    ax.spines[\"top\"].set_visible(False)\n",
    "    ax.spines[\"right\"].set_visible(False)\n",
    "    ax.margins(x=0.02)\n",
    "    ax.grid(True, which=\"both\", ls=\":\", lw=0.5, zorder=0)\n",
    "\n",
    "    if lower_value is not None:\n",
    "        ymin, ymax = ax.get_ylim()\n",
    "        ax.set_ylim(bottom=lower_value, top=ymax)\n",
    "\n",
    "    if labels is not None:\n",
    "        base_leg_kw = dict(frameon=False, ncol=legend_ncol)\n",
    "        if legend_kw:\n",
    "            base_leg_kw.update(legend_kw)\n",
    "\n",
    "        if legend_outside:\n",
    "            if legend_pos in (\"right\", \"left\"):\n",
    "                loc = \"center left\" if legend_pos == \"right\" else \"center right\"\n",
    "                x_anchor = 1.02 if legend_pos == \"right\" else -0.02\n",
    "                ax.legend(loc=loc, bbox_to_anchor=(x_anchor, 0.5),\n",
    "                          borderaxespad=0.0, **base_leg_kw)\n",
    "                if created_ax:\n",
    "                    if legend_pos == \"right\":\n",
    "                        ax.figure.subplots_adjust(right=0.78)\n",
    "                    else:\n",
    "                        ax.figure.subplots_adjust(left=0.22)\n",
    "            else:\n",
    "                loc = \"lower center\" if legend_pos == \"bottom\" else \"upper center\"\n",
    "                y_anchor = -0.02 if legend_pos == \"bottom\" else 1.02\n",
    "                ax.legend(loc=loc, bbox_to_anchor=(0.5, y_anchor),\n",
    "                          borderaxespad=0.0, **base_leg_kw)\n",
    "                if created_ax:\n",
    "                    if legend_pos == \"bottom\":\n",
    "                        ax.figure.subplots_adjust(bottom=0.20)\n",
    "                    else:\n",
    "                        ax.figure.subplots_adjust(top=0.88)\n",
    "        else:\n",
    "            ax.legend(**base_leg_kw)\n",
    "\n",
    "    return ax"
   ]
  },
  {
   "cell_type": "markdown",
   "id": "65bbddb4",
   "metadata": {},
   "source": [
    "# n_fields = 2\n",
    "## n_jump = 1"
   ]
  },
  {
   "cell_type": "markdown",
   "id": "7349d4c7",
   "metadata": {},
   "source": [
    "### n_skip = 1 from practical work"
   ]
  },
  {
   "cell_type": "code",
   "execution_count": null,
   "id": "82f6aa51",
   "metadata": {},
   "outputs": [],
   "source": [
    "cfg          = OmegaConf.load(\n",
    "    \"logs/train/runs/2025-09-04_07-13-04/.hydra/config.yaml\"\n",
    ")\n",
    "\n",
    "# factories\n",
    "latent_model_factory = instantiate(cfg.model.latent_model, _partial_=True)\n",
    "model_factory        = instantiate(cfg.model,            _partial_=True)\n",
    "loss_function        = instantiate(cfg.model.loss_function)\n",
    "\n",
    "lit_model = PhysicsLitModule.load_from_checkpoint(\n",
    "    \"logs/train/runs/2025-09-04_07-13-04/waterdrop_physics/w55pl0j7/checkpoints/epoch=15-step=239520.ckpt\",\n",
    "    latent_model = latent_model_factory,\n",
    "    model        = model_factory,\n",
    "    loss_function= loss_function,\n",
    "    strict       = True,\n",
    "    map_location = \"cuda\"\n",
    ")\n",
    "lit_model.eval()\n",
    "dataset_PH = instantiate(cfg.data)\n",
    "dataset_PH.setup(stage=\"physics\")"
   ]
  },
  {
   "cell_type": "code",
   "execution_count": null,
   "id": "ac51593c",
   "metadata": {},
   "outputs": [],
   "source": [
    "TRAJ_IDX = list(range(dataset_PH.get_dataset(split=\"test\").n_traj))\n",
    "n_per_traj_PH = dataset_PH.get_dataset(split=\"test\").n_per_traj\n",
    "IDX_PH = [[0]] * len(TRAJ_IDX)"
   ]
  },
  {
   "cell_type": "code",
   "execution_count": null,
   "id": "2299abad",
   "metadata": {},
   "outputs": [],
   "source": [
    "rollout_physics, fields, GT_physics, GT_vel_fields_normalized_physics, MSE_fields_normalized_physics, MSE_Field_latent_physics, propagated_latents = lit_model.rollout_physics(\n",
    "    particle_dm=dataset_PH,\n",
    "    traj_idx=TRAJ_IDX,\n",
    "    idx=IDX_PH,\n",
    "    query_gt_pos=False,\n",
    "    split=\"test\",\n",
    "    use_gt_field=False,\n",
    ")"
   ]
  },
  {
   "cell_type": "code",
   "execution_count": null,
   "id": "704c42e4",
   "metadata": {},
   "outputs": [],
   "source": [
    "ious = []\n",
    "for (GT, rollout) in tqdm(zip(GT_physics, rollout_physics), total=len(GT_physics)):\n",
    "    iou_traj = []\n",
    "    for (GT_pos, rollout_pos) in zip(GT, rollout):\n",
    "        # Calculate IoU for each pair of GT and rollout positions\n",
    "        iou_traj.append(mean_iou(rollout_pos.unsqueeze(0), GT_pos.unsqueeze(0), n_compartments=64, bounding_box=(-0.9, 1.9, -0.9, 1.9)))\n",
    "    ious.append(torch.stack(iou_traj))"
   ]
  },
  {
   "cell_type": "code",
   "execution_count": null,
   "id": "b6628819",
   "metadata": {},
   "outputs": [],
   "source": [
    "ious = torch.stack(ious, dim=0)"
   ]
  },
  {
   "cell_type": "code",
   "execution_count": null,
   "id": "0a7849b1",
   "metadata": {},
   "outputs": [],
   "source": [
    "ious.shape"
   ]
  },
  {
   "cell_type": "code",
   "execution_count": null,
   "id": "77ccd682",
   "metadata": {},
   "outputs": [],
   "source": [
    "ious_mean_2_1_1 = ious.mean(axis=0)\n",
    "ious_std_2_1_1 = ious.std(axis=0)"
   ]
  },
  {
   "cell_type": "code",
   "execution_count": null,
   "id": "99d4c277",
   "metadata": {},
   "outputs": [],
   "source": [
    "torch.save(ious_mean_2_1_1, \"D:/Projects/Master/UPT/data/ious/ious_mean_2_1_1.pth\")\n",
    "torch.save(ious_std_2_1_1, \"D:/Projects/Master/UPT/data/ious/ious_std_2_1_1.pth\")\n",
    "# ious_mean_2_1_1 = torch.load(\"D:/Projects/Master/UPT/data/ious/ious_mean_2_1_1.pth\")\n",
    "# ious_std_2_1_1 = torch.load(\"D:/Projects/Master/UPT/data/ious/ious_std_2_1_1.pth\")"
   ]
  },
  {
   "cell_type": "code",
   "execution_count": null,
   "id": "61935a3c",
   "metadata": {},
   "outputs": [],
   "source": [
    "plot_means_variances(\n",
    "    ious_mean_2_1_1,\n",
    "    ious_std_2_1_1,\n",
    "    xlabel=\"Rollout Timestep\",\n",
    "    ylabel=\"IoU\",\n",
    "    upper_bound=1.0,\n",
    "    lower_bound=0.0,\n",
    ")\n",
    "plt.show()"
   ]
  },
  {
   "cell_type": "code",
   "execution_count": null,
   "id": "5282e3d2",
   "metadata": {},
   "outputs": [],
   "source": [
    "cfg          = OmegaConf.load(\n",
    "    Path(\"logs/train/runs/2025-09-04_10-37-42/.hydra/config.yaml\")\n",
    ")\n",
    "\n",
    "# factories\n",
    "latent_model_factory = instantiate(cfg.model.latent_model, _partial_=True)\n",
    "model_factory        = instantiate(cfg.model,            _partial_=True)\n",
    "loss_function        = instantiate(cfg.model.loss_function)\n",
    "\n",
    "lit_model = PhysicsLitModule.load_from_checkpoint(\n",
    "    Path(\"logs/train/runs/2025-09-04_10-37-42/waterdrop_physics/jo5ef1v0/checkpoints/epoch=22-step=343965.ckpt\"),\n",
    "    latent_model = latent_model_factory,\n",
    "    model        = model_factory,\n",
    "    loss_function= loss_function,\n",
    "    strict       = True,\n",
    "    map_location = \"cuda\"\n",
    ")\n",
    "lit_model.eval()\n",
    "dataset_PH = instantiate(cfg.data)\n",
    "dataset_PH.setup(stage=\"physics\")\n",
    "\n",
    "dataset_PH.test_dataset.rollout = True"
   ]
  },
  {
   "cell_type": "code",
   "execution_count": null,
   "id": "309ac1d9",
   "metadata": {},
   "outputs": [],
   "source": [
    "TRAJ_IDX = list(range(dataset_PH.get_dataset(split=\"test\").n_traj))\n",
    "n_per_traj_PH = dataset_PH.get_dataset(split=\"test\").n_per_traj\n",
    "IDX_PH = [[0]] * len(TRAJ_IDX)"
   ]
  },
  {
   "cell_type": "code",
   "execution_count": null,
   "id": "c023474a",
   "metadata": {},
   "outputs": [],
   "source": [
    "rollout_physics, fields, GT_physics, GT_vel_fields_normalized_physics, MSE_fields_normalized_physics, MSE_Field_latent_physics, propagated_latents = lit_model.rollout_physics(\n",
    "    particle_dm=dataset_PH,\n",
    "    traj_idx=TRAJ_IDX,\n",
    "    idx=IDX_PH,\n",
    "    query_gt_pos=False,\n",
    "    split=\"test\",\n",
    "    use_gt_field=False,\n",
    ")"
   ]
  },
  {
   "cell_type": "code",
   "execution_count": null,
   "id": "16c26fb8",
   "metadata": {},
   "outputs": [],
   "source": [
    "ious = []\n",
    "for (GT, rollout) in tqdm(zip(GT_physics, rollout_physics), total=len(GT_physics)):\n",
    "    iou_traj = []\n",
    "    for (GT_pos, rollout_pos) in zip(GT, rollout):\n",
    "        # Calculate IoU for each pair of GT and rollout positions\n",
    "        iou_traj.append(mean_iou(rollout_pos.unsqueeze(0), GT_pos.unsqueeze(0), n_compartments=64, bounding_box=(-0.9, 1.9, -0.9, 1.9)))\n",
    "    ious.append(torch.stack(iou_traj))"
   ]
  },
  {
   "cell_type": "code",
   "execution_count": null,
   "id": "4e9847de",
   "metadata": {},
   "outputs": [],
   "source": [
    "ious = torch.stack(ious, dim=0)"
   ]
  },
  {
   "cell_type": "code",
   "execution_count": null,
   "id": "266cd2a4",
   "metadata": {},
   "outputs": [],
   "source": [
    "ious.shape"
   ]
  },
  {
   "cell_type": "code",
   "execution_count": null,
   "id": "a9a54270",
   "metadata": {},
   "outputs": [],
   "source": [
    "ious_mean_2_1 = ious.mean(axis=0)\n",
    "ious_std_2_1 = ious.std(axis=0)"
   ]
  },
  {
   "cell_type": "code",
   "execution_count": null,
   "id": "68eee30a",
   "metadata": {},
   "outputs": [],
   "source": [
    "plot_means_variances(\n",
    "    ious_mean_2_1,\n",
    "    ious_std_2_1,\n",
    "    xlabel=\"Rollout Timestep\",\n",
    "    ylabel=\"IoU\",\n",
    "    upper_bound=1.0,\n",
    "    lower_bound=0.0,\n",
    ")\n",
    "plt.show()"
   ]
  },
  {
   "cell_type": "markdown",
   "id": "d8bdc603",
   "metadata": {},
   "source": [
    "## n_jump = 2"
   ]
  },
  {
   "cell_type": "code",
   "execution_count": null,
   "id": "774889fd",
   "metadata": {},
   "outputs": [],
   "source": [
    "cfg          = OmegaConf.load(\n",
    "    Path(\"logs/train/runs/2025-09-03_21-24-57/.hydra/config.yaml\")\n",
    ")\n",
    "\n",
    "# factories\n",
    "latent_model_factory = instantiate(cfg.model.latent_model, _partial_=True)\n",
    "model_factory        = instantiate(cfg.model,            _partial_=True)\n",
    "loss_function        = instantiate(cfg.model.loss_function)\n",
    "\n",
    "lit_model = PhysicsLitModule.load_from_checkpoint(\n",
    "    Path(\"logs/train/runs/2025-09-03_21-24-57/waterdrop_physics/lw2bv57w/checkpoints/epoch=27-step=417900.ckpt\"),\n",
    "    latent_model = latent_model_factory,\n",
    "    model        = model_factory,\n",
    "    loss_function= loss_function,\n",
    "    strict       = True,\n",
    "    map_location = \"cuda\"\n",
    ")\n",
    "lit_model.eval()\n",
    "dataset_PH = instantiate(cfg.data)\n",
    "dataset_PH.setup(stage=\"physics\")\n",
    "\n",
    "dataset_PH.test_dataset.rollout = True"
   ]
  },
  {
   "cell_type": "code",
   "execution_count": null,
   "id": "ad1091bd",
   "metadata": {},
   "outputs": [],
   "source": [
    "TRAJ_IDX = list(range(dataset_PH.get_dataset(split=\"test\").n_traj))\n",
    "n_per_traj_PH = dataset_PH.get_dataset(split=\"test\").n_per_traj\n",
    "IDX_PH = [[0]] * len(TRAJ_IDX)"
   ]
  },
  {
   "cell_type": "code",
   "execution_count": null,
   "id": "39405ceb",
   "metadata": {},
   "outputs": [],
   "source": [
    "rollout_physics, fields, GT_physics, GT_vel_fields_normalized_physics, MSE_fields_normalized_physics, MSE_Field_latent_physics, propagated_latents = lit_model.rollout_physics(\n",
    "    particle_dm=dataset_PH,\n",
    "    traj_idx=TRAJ_IDX,\n",
    "    idx=IDX_PH,\n",
    "    query_gt_pos=False,\n",
    "    split=\"test\",\n",
    "    use_gt_field=False,\n",
    ")"
   ]
  },
  {
   "cell_type": "code",
   "execution_count": null,
   "id": "ffe50986",
   "metadata": {},
   "outputs": [],
   "source": [
    "ious = []\n",
    "for (GT, rollout) in tqdm(zip(GT_physics, rollout_physics), total=len(GT_physics)):\n",
    "    iou_traj = []\n",
    "    for (GT_pos, rollout_pos) in zip(GT, rollout):\n",
    "        # Calculate IoU for each pair of GT and rollout positions\n",
    "        iou_traj.append(mean_iou(rollout_pos.unsqueeze(0), GT_pos.unsqueeze(0), n_compartments=64, bounding_box=(-0.9, 1.9, -0.9, 1.9)))\n",
    "    ious.append(torch.stack(iou_traj))"
   ]
  },
  {
   "cell_type": "code",
   "execution_count": null,
   "id": "0efd02d1",
   "metadata": {},
   "outputs": [],
   "source": [
    "ious = torch.stack(ious, dim=0)"
   ]
  },
  {
   "cell_type": "code",
   "execution_count": null,
   "id": "68c68f39",
   "metadata": {},
   "outputs": [],
   "source": [
    "ious.shape"
   ]
  },
  {
   "cell_type": "code",
   "execution_count": null,
   "id": "ef12655a",
   "metadata": {},
   "outputs": [],
   "source": [
    "ious_mean_2_2 = ious.mean(axis=0)\n",
    "ious_std_2_2 = ious.std(axis=0)"
   ]
  },
  {
   "cell_type": "code",
   "execution_count": null,
   "id": "7f93c198",
   "metadata": {},
   "outputs": [],
   "source": [
    "plot_means_variances(\n",
    "    ious_mean_2_2,\n",
    "    ious_std_2_2,\n",
    "    xlabel=\"Rollout Timestep\",\n",
    "    ylabel=\"IoU\",\n",
    "    upper_bound=1.0,\n",
    "    lower_bound=0.0,\n",
    ")\n",
    "plt.show()"
   ]
  },
  {
   "cell_type": "markdown",
   "id": "56a38617",
   "metadata": {},
   "source": [
    "## n_jumps = 4"
   ]
  },
  {
   "cell_type": "code",
   "execution_count": null,
   "id": "23972f54",
   "metadata": {},
   "outputs": [],
   "source": [
    "cfg          = OmegaConf.load(\n",
    "    Path(\"logs/train/runs/2025-09-02_20-19-34/.hydra/config.yaml\")\n",
    ")\n",
    "\n",
    "# factories\n",
    "latent_model_factory = instantiate(cfg.model.latent_model, _partial_=True)\n",
    "model_factory        = instantiate(cfg.model,            _partial_=True)\n",
    "loss_function        = instantiate(cfg.model.loss_function)\n",
    "\n",
    "lit_model = PhysicsLitModule.load_from_checkpoint(\n",
    "    Path(\"logs/train/runs/2025-09-02_20-19-34/waterdrop_physics/ovvesbxq/checkpoints/epoch=23-step=356760.ckpt\"),\n",
    "    latent_model = latent_model_factory,\n",
    "    model        = model_factory,\n",
    "    loss_function= loss_function,\n",
    "    strict       = True,\n",
    "    map_location = \"cuda\"\n",
    ")\n",
    "lit_model.eval()\n",
    "dataset_PH = instantiate(cfg.data)\n",
    "dataset_PH.setup(stage=\"physics\")\n",
    "\n",
    "dataset_PH.test_dataset.rollout = True"
   ]
  },
  {
   "cell_type": "code",
   "execution_count": null,
   "id": "7bdf657d",
   "metadata": {},
   "outputs": [],
   "source": [
    "TRAJ_IDX = list(range(dataset_PH.get_dataset(split=\"test\").n_traj))\n",
    "n_per_traj_PH = dataset_PH.get_dataset(split=\"test\").n_per_traj\n",
    "IDX_PH = [[0]] * len(TRAJ_IDX)"
   ]
  },
  {
   "cell_type": "code",
   "execution_count": null,
   "id": "a770077b",
   "metadata": {},
   "outputs": [],
   "source": [
    "rollout_physics, retrieved_fields, GT_physics, GT_vel_fields_normalized_physics, MSE_fields_normalized_physics, MSE_Field_latent_physics, propagated_latents = lit_model.rollout_physics(\n",
    "    particle_dm=dataset_PH,\n",
    "    traj_idx=TRAJ_IDX,\n",
    "    idx=IDX_PH,\n",
    "    query_gt_pos=False,\n",
    "    split=\"test\",\n",
    "    use_gt_field=False,\n",
    ")"
   ]
  },
  {
   "cell_type": "code",
   "execution_count": null,
   "id": "76ac5236",
   "metadata": {},
   "outputs": [],
   "source": [
    "ious = []\n",
    "for (GT, rollout) in tqdm(zip(GT_physics, rollout_physics), total=len(GT_physics)):\n",
    "    iou_traj = []\n",
    "    for (GT_pos, rollout_pos) in zip(GT, rollout):\n",
    "        # Calculate IoU for each pair of GT and rollout positions\n",
    "        iou_traj.append(mean_iou(rollout_pos.unsqueeze(0), GT_pos.unsqueeze(0), n_compartments=64, bounding_box=(-0.9, 1.9, -0.9, 1.9)))\n",
    "    ious.append(torch.stack(iou_traj))"
   ]
  },
  {
   "cell_type": "code",
   "execution_count": null,
   "id": "2e302631",
   "metadata": {},
   "outputs": [],
   "source": [
    "ious = torch.stack(ious, dim=0)"
   ]
  },
  {
   "cell_type": "code",
   "execution_count": null,
   "id": "0ba21d23",
   "metadata": {},
   "outputs": [],
   "source": [
    "ious.shape"
   ]
  },
  {
   "cell_type": "code",
   "execution_count": null,
   "id": "17f6a945",
   "metadata": {},
   "outputs": [],
   "source": [
    "ious_mean_2_4 = ious.mean(axis=0)\n",
    "ious_std_2_4 = ious.std(axis=0)"
   ]
  },
  {
   "cell_type": "code",
   "execution_count": null,
   "id": "478e4878",
   "metadata": {},
   "outputs": [],
   "source": [
    "plot_means_variances(\n",
    "    ious_mean_2_4,\n",
    "    ious_std_2_4,\n",
    "    xlabel=\"Rollout Timestep\",\n",
    "    ylabel=\"IoU\",\n",
    "    upper_bound=1.0,\n",
    "    lower_bound=0.0,\n",
    ")\n",
    "plt.show()"
   ]
  },
  {
   "cell_type": "code",
   "execution_count": null,
   "id": "028739e7",
   "metadata": {},
   "outputs": [],
   "source": [
    "TRAJ_IDX = [0, 1, 2]\n",
    "IDX_PH = [[0, 50], [0, 80], [0, 70]]"
   ]
  },
  {
   "cell_type": "code",
   "execution_count": null,
   "id": "4601297c",
   "metadata": {},
   "outputs": [],
   "source": [
    "rollout_physics, fields, GT_physics, GT_vel_fields_normalized_physics, MSE_fields_normalized_physics, MSE_Field_latent_physics, propagated_latents = lit_model.rollout_physics(\n",
    "    particle_dm=dataset_PH,\n",
    "    traj_idx=TRAJ_IDX,\n",
    "    idx=IDX_PH,\n",
    "    query_gt_pos=False,\n",
    "    split=\"test\",\n",
    "    use_gt_field=False,\n",
    ")"
   ]
  },
  {
   "cell_type": "code",
   "execution_count": null,
   "id": "2c4aa918",
   "metadata": {},
   "outputs": [],
   "source": [
    "plot_two_series(\n",
    "    MSE_fields_normalized_physics[0].numpy(force=True),\n",
    "    MSE_fields_normalized_physics[0].numpy(force=True),\n",
    "    log=True\n",
    ")"
   ]
  },
  {
   "cell_type": "code",
   "execution_count": null,
   "id": "ec664c9c",
   "metadata": {},
   "outputs": [],
   "source": [
    "ani = animate(\n",
    "    rollout_physics[0],\n",
    "    ground_truth=GT_physics[0],\n",
    "    ref_frame=((0, 1), (0, 1)),\n",
    "    start_idx=0,\n",
    "    n_skip_ahead_timesteps=2\n",
    ")\n",
    "HTML(ani.to_jshtml())"
   ]
  },
  {
   "cell_type": "code",
   "execution_count": null,
   "id": "19fe43ee",
   "metadata": {},
   "outputs": [],
   "source": [
    "ani = animate(\n",
    "    rollout_physics[2],\n",
    "    ground_truth=GT_physics[2],\n",
    "    ref_frame=((0, 1), (0, 1)),\n",
    "    start_idx=0,\n",
    "    n_skip_ahead_timesteps=2\n",
    ")\n",
    "HTML(ani.to_jshtml())"
   ]
  },
  {
   "cell_type": "code",
   "execution_count": null,
   "id": "aa8cfc9d",
   "metadata": {},
   "outputs": [],
   "source": [
    "ani = animate(\n",
    "    rollout_physics[4],\n",
    "    ground_truth=GT_physics[4],\n",
    "    ref_frame=((0, 1), (0, 1)),\n",
    "    start_idx=0,\n",
    "    n_skip_ahead_timesteps=2\n",
    ")\n",
    "HTML(ani.to_jshtml())"
   ]
  },
  {
   "cell_type": "code",
   "execution_count": null,
   "id": "321a9ae7",
   "metadata": {},
   "outputs": [],
   "source": [
    "from matplotlib.animation import PillowWriter\n",
    "\n",
    "fps = 40\n",
    "\n",
    "ani.save(\n",
    "    \"rollout.gif\",\n",
    "    writer=PillowWriter(fps=fps),\n",
    "    dpi=150,  # lower for smaller files, e.g., 100\n",
    "    savefig_kwargs={\"facecolor\": \"white\"}  # avoid dark/transparent backgrounds\n",
    ")"
   ]
  },
  {
   "cell_type": "code",
   "execution_count": null,
   "id": "c5898017",
   "metadata": {},
   "outputs": [],
   "source": [
    "print(GT_vel_fields_normalized_physics[4].sum(dim=-1).shape)\n",
    "print(rollout_physics[4].shape)\n",
    "print(fields[4].shape)\n",
    "print(GT_physics[4].shape)"
   ]
  },
  {
   "cell_type": "code",
   "execution_count": null,
   "id": "e46481a1",
   "metadata": {},
   "outputs": [],
   "source": [
    "torch.allclose(dataset_PH.test_dataset.unnormalize(fields[4]).sum(dim=-2)[0], dataset_PH.test_dataset.unnormalize(fields[4]).sum(dim=-2)[1])"
   ]
  },
  {
   "cell_type": "code",
   "execution_count": null,
   "id": "5164258c",
   "metadata": {},
   "outputs": [],
   "source": [
    "dataset_PH.test_dataset.unnormalize(fields[4]).sum(dim=-2).shape"
   ]
  },
  {
   "cell_type": "code",
   "execution_count": null,
   "id": "daa845c4",
   "metadata": {},
   "outputs": [],
   "source": [
    "ani = animate(\n",
    "    rollout_physics[4],\n",
    "    vectors=fields[4].sum(dim=-2),\n",
    "    vector_positions=rollout_physics[4],\n",
    "    ref_frame=((0, 0.6), (0, 0.6)),\n",
    "    start_idx=0,\n",
    "    n_skip_ahead_timesteps=2,\n",
    "    dpi=150\n",
    ")"
   ]
  },
  {
   "cell_type": "code",
   "execution_count": null,
   "id": "bebbd9f6",
   "metadata": {},
   "outputs": [],
   "source": [
    "HTML(ani.to_jshtml())"
   ]
  },
  {
   "cell_type": "code",
   "execution_count": null,
   "id": "8ff76919",
   "metadata": {},
   "outputs": [],
   "source": [
    "from itertools import islice\n",
    "\n",
    "def grab_frames(ani, N):\n",
    "    fig = ani._fig\n",
    "    frames = []\n",
    "    # iterate the same sequence the animation would use\n",
    "    for f in islice(ani.new_frame_seq(), N):\n",
    "        # draw one frame (avoid blit complications)\n",
    "        ani._draw_next_frame(framedata=f, blit=False)   # private API but stable\n",
    "        fig.canvas.draw()\n",
    "        # read back pixels\n",
    "        w, h = fig.canvas.get_width_height()\n",
    "        img = np.frombuffer(fig.canvas.tostring_rgb(), dtype=np.uint8).reshape(h, w, 3)\n",
    "        frames.append(img.copy())\n",
    "    return frames"
   ]
  },
  {
   "cell_type": "code",
   "execution_count": null,
   "id": "4184e374",
   "metadata": {},
   "outputs": [],
   "source": [
    "from itertools import islice\n",
    "from matplotlib.animation import PillowWriter\n",
    "\n",
    "N = 120\n",
    "fps = 40\n",
    "\n",
    "writer = PillowWriter(fps=fps)\n",
    "with writer.saving(ani._fig, \"media/boundary.gif\", dpi=150):\n",
    "    for f in islice(ani.new_frame_seq(), N):\n",
    "        ani._draw_next_frame(f, blit=False)      # draw one frame\n",
    "        writer.grab_frame(facecolor=\"white\")     # same as savefig_kwargs={\"facecolor\":\"white\"}"
   ]
  },
  {
   "cell_type": "markdown",
   "id": "1400274e",
   "metadata": {},
   "source": [
    "# n_fields = 4\n",
    "## n_jumps = 1"
   ]
  },
  {
   "cell_type": "code",
   "execution_count": null,
   "id": "657b7d8c",
   "metadata": {},
   "outputs": [],
   "source": [
    "cfg          = OmegaConf.load(\n",
    "    Path(\"logs/train/runs/2025-09-03_20-37-06/.hydra/config.yaml\")\n",
    ")\n",
    "\n",
    "# factories\n",
    "latent_model_factory = instantiate(cfg.model.latent_model, _partial_=True)\n",
    "model_factory        = instantiate(cfg.model,            _partial_=True)\n",
    "loss_function        = instantiate(cfg.model.loss_function)\n",
    "\n",
    "lit_model = PhysicsLitModule.load_from_checkpoint(\n",
    "    Path(\"logs/train/runs/2025-09-03_20-37-06/waterdrop_physics/zcl1xvms/checkpoints/epoch=24-step=372375.ckpt\"),\n",
    "    latent_model = latent_model_factory,\n",
    "    model        = model_factory,\n",
    "    loss_function= loss_function,\n",
    "    strict       = True,\n",
    "    map_location = \"cuda\"\n",
    ")\n",
    "lit_model.eval()\n",
    "dataset_PH = instantiate(cfg.data)\n",
    "dataset_PH.setup(stage=\"physics\")\n",
    "\n",
    "dataset_PH.test_dataset.rollout = True"
   ]
  },
  {
   "cell_type": "code",
   "execution_count": null,
   "id": "e92dcaf9",
   "metadata": {},
   "outputs": [],
   "source": [
    "TRAJ_IDX = list(range(dataset_PH.get_dataset(split=\"test\").n_traj))\n",
    "n_per_traj_PH = dataset_PH.get_dataset(split=\"test\").n_per_traj\n",
    "IDX_PH = [[0]] * len(TRAJ_IDX)"
   ]
  },
  {
   "cell_type": "code",
   "execution_count": null,
   "id": "99d5e412",
   "metadata": {},
   "outputs": [],
   "source": [
    "rollout_physics, fields, GT_physics, GT_vel_fields_normalized_physics, MSE_fields_normalized_physics, MSE_Field_latent_physics, propagated_latents = lit_model.rollout_physics(\n",
    "    particle_dm=dataset_PH,\n",
    "    traj_idx=TRAJ_IDX,\n",
    "    idx=IDX_PH,\n",
    "    query_gt_pos=False,\n",
    "    split=\"test\",\n",
    "    use_gt_field=False,\n",
    ")"
   ]
  },
  {
   "cell_type": "code",
   "execution_count": null,
   "id": "38dcc037",
   "metadata": {},
   "outputs": [],
   "source": [
    "ious = []\n",
    "for (GT, rollout) in tqdm(zip(GT_physics, rollout_physics), total=len(GT_physics)):\n",
    "    iou_traj = []\n",
    "    for (GT_pos, rollout_pos) in zip(GT, rollout):\n",
    "        # Calculate IoU for each pair of GT and rollout positions\n",
    "        iou_traj.append(mean_iou(rollout_pos.unsqueeze(0), GT_pos.unsqueeze(0), n_compartments=64, bounding_box=(-0.9, 1.9, -0.9, 1.9)))\n",
    "    ious.append(torch.stack(iou_traj))"
   ]
  },
  {
   "cell_type": "code",
   "execution_count": null,
   "id": "a7cd8b54",
   "metadata": {},
   "outputs": [],
   "source": [
    "ious = torch.stack(ious, dim=0)"
   ]
  },
  {
   "cell_type": "code",
   "execution_count": null,
   "id": "bd6321dd",
   "metadata": {},
   "outputs": [],
   "source": [
    "ious.shape"
   ]
  },
  {
   "cell_type": "code",
   "execution_count": null,
   "id": "2c3b9349",
   "metadata": {},
   "outputs": [],
   "source": [
    "ious_mean_4_1 = ious.mean(axis=0)\n",
    "ious_std_4_1 = ious.std(axis=0)"
   ]
  },
  {
   "cell_type": "code",
   "execution_count": null,
   "id": "1371b0c7",
   "metadata": {},
   "outputs": [],
   "source": [
    "plot_means_variances(\n",
    "    ious_mean_4_1,\n",
    "    ious_std_4_1,\n",
    "    xlabel=\"Rollout Timestep\",\n",
    "    ylabel=\"IoU\",\n",
    "    upper_bound=1.0,\n",
    "    lower_bound=0.0,\n",
    ")\n",
    "plt.show()"
   ]
  },
  {
   "cell_type": "markdown",
   "id": "c6620df2",
   "metadata": {},
   "source": [
    "## n_jumps = 2"
   ]
  },
  {
   "cell_type": "code",
   "execution_count": null,
   "id": "c2b27ccf",
   "metadata": {},
   "outputs": [],
   "source": [
    "cfg          = OmegaConf.load(\n",
    "    Path(\"logs/train/runs/2025-09-07_14-23-41/.hydra/config.yaml\")\n",
    ")\n",
    "\n",
    "# factories\n",
    "latent_model_factory = instantiate(cfg.model.latent_model, _partial_=True)\n",
    "model_factory        = instantiate(cfg.model,            _partial_=True)\n",
    "loss_function        = instantiate(cfg.model.loss_function)\n",
    "\n",
    "lit_model = PhysicsLitModule.load_from_checkpoint(\n",
    "    Path(\"logs/train/runs/2025-09-07_14-23-41/waterdrop_physics/nvczsxwy/checkpoints/epoch=27-step=415380.ckpt\"),\n",
    "    latent_model = latent_model_factory,\n",
    "    model        = model_factory,\n",
    "    loss_function= loss_function,\n",
    "    strict       = True,\n",
    "    map_location = \"cuda\"\n",
    ")\n",
    "lit_model.eval()\n",
    "dataset_PH = instantiate(cfg.data)\n",
    "dataset_PH.setup(stage=\"physics\")\n",
    "\n",
    "dataset_PH.test_dataset.rollout = True"
   ]
  },
  {
   "cell_type": "code",
   "execution_count": null,
   "id": "ac32ec56",
   "metadata": {},
   "outputs": [],
   "source": [
    "TRAJ_IDX = list(range(dataset_PH.get_dataset(split=\"test\").n_traj))\n",
    "n_per_traj_PH = dataset_PH.get_dataset(split=\"test\").n_per_traj\n",
    "IDX_PH = [[0]] * len(TRAJ_IDX)"
   ]
  },
  {
   "cell_type": "code",
   "execution_count": null,
   "id": "78333278",
   "metadata": {},
   "outputs": [],
   "source": [
    "rollout_physics, fields, GT_physics, GT_vel_fields_normalized_physics, MSE_fields_normalized_physics, MSE_Field_latent_physics, propagated_latents = lit_model.rollout_physics(\n",
    "    particle_dm=dataset_PH,\n",
    "    traj_idx=TRAJ_IDX,\n",
    "    idx=IDX_PH,\n",
    "    query_gt_pos=False,\n",
    "    split=\"test\",\n",
    "    use_gt_field=False,\n",
    ")"
   ]
  },
  {
   "cell_type": "code",
   "execution_count": null,
   "id": "1437e3ed",
   "metadata": {},
   "outputs": [],
   "source": [
    "ious = []\n",
    "for (GT, rollout) in tqdm(zip(GT_physics, rollout_physics), total=len(GT_physics)):\n",
    "    iou_traj = []\n",
    "    for (GT_pos, rollout_pos) in zip(GT, rollout):\n",
    "        # Calculate IoU for each pair of GT and rollout positions\n",
    "        iou_traj.append(mean_iou(rollout_pos.unsqueeze(0), GT_pos.unsqueeze(0), n_compartments=64, bounding_box=(-0.9, 1.9, -0.9, 1.9)))\n",
    "    ious.append(torch.stack(iou_traj))"
   ]
  },
  {
   "cell_type": "code",
   "execution_count": null,
   "id": "e66ad65d",
   "metadata": {},
   "outputs": [],
   "source": [
    "ious = torch.stack(ious, dim=0)"
   ]
  },
  {
   "cell_type": "code",
   "execution_count": null,
   "id": "6cd52961",
   "metadata": {},
   "outputs": [],
   "source": [
    "ious.shape"
   ]
  },
  {
   "cell_type": "code",
   "execution_count": null,
   "id": "0ed1c7cd",
   "metadata": {},
   "outputs": [],
   "source": [
    "ious_mean_4_2 = ious.mean(axis=0)\n",
    "ious_std_4_2 = ious.std(axis=0)"
   ]
  },
  {
   "cell_type": "code",
   "execution_count": null,
   "id": "030d8453",
   "metadata": {},
   "outputs": [],
   "source": [
    "plot_means_variances(\n",
    "    ious_mean_4_2,\n",
    "    ious_std_4_2,\n",
    "    xlabel=\"Rollout Timestep\",\n",
    "    ylabel=\"IoU\",\n",
    "    upper_bound=1.0,\n",
    "    lower_bound=0.0,\n",
    ")\n",
    "plt.show()"
   ]
  },
  {
   "cell_type": "markdown",
   "id": "0c333ee9",
   "metadata": {},
   "source": [
    "## n_jumps = 4"
   ]
  },
  {
   "cell_type": "code",
   "execution_count": null,
   "id": "d3b68d13",
   "metadata": {},
   "outputs": [],
   "source": [
    "cfg          = OmegaConf.load(\n",
    "    Path(\"logs/train/runs/2025-09-06_23-29-42/.hydra/config.yaml\")\n",
    ")\n",
    "\n",
    "# factories\n",
    "latent_model_factory = instantiate(cfg.model.latent_model, _partial_=True)\n",
    "model_factory        = instantiate(cfg.model,            _partial_=True)\n",
    "loss_function        = instantiate(cfg.model.loss_function)\n",
    "\n",
    "lit_model = PhysicsLitModule.load_from_checkpoint(\n",
    "    Path(\"logs/train/runs/2025-09-06_23-29-42/waterdrop_physics/eygag9o2/checkpoints/epoch=27-step=412020.ckpt\"),\n",
    "    latent_model = latent_model_factory,\n",
    "    model        = model_factory,\n",
    "    loss_function= loss_function,\n",
    "    strict       = True,\n",
    "    map_location = \"cuda\"\n",
    ")\n",
    "lit_model.eval()\n",
    "dataset_PH = instantiate(cfg.data)\n",
    "dataset_PH.setup(stage=\"physics\")\n",
    "\n",
    "dataset_PH.test_dataset.rollout = True"
   ]
  },
  {
   "cell_type": "code",
   "execution_count": null,
   "id": "f1eebd19",
   "metadata": {},
   "outputs": [],
   "source": [
    "TRAJ_IDX = list(range(dataset_PH.get_dataset(split=\"test\").n_traj))\n",
    "n_per_traj_PH = dataset_PH.get_dataset(split=\"test\").n_per_traj\n",
    "IDX_PH = [[0]] * len(TRAJ_IDX)"
   ]
  },
  {
   "cell_type": "code",
   "execution_count": null,
   "id": "e77ce837",
   "metadata": {},
   "outputs": [],
   "source": [
    "rollout_physics, fields, GT_physics, GT_vel_fields_normalized_physics, MSE_fields_normalized_physics, MSE_Field_latent_physics, propagated_latents = lit_model.rollout_physics(\n",
    "    particle_dm=dataset_PH,\n",
    "    traj_idx=TRAJ_IDX,\n",
    "    idx=IDX_PH,\n",
    "    query_gt_pos=False,\n",
    "    split=\"test\",\n",
    "    use_gt_field=False,\n",
    ")"
   ]
  },
  {
   "cell_type": "code",
   "execution_count": null,
   "id": "4bf207fe",
   "metadata": {},
   "outputs": [],
   "source": [
    "ious = []\n",
    "for (GT, rollout) in tqdm(zip(GT_physics, rollout_physics), total=len(GT_physics)):\n",
    "    iou_traj = []\n",
    "    for (GT_pos, rollout_pos) in zip(GT, rollout):\n",
    "        # Calculate IoU for each pair of GT and rollout positions\n",
    "        iou_traj.append(mean_iou(rollout_pos.unsqueeze(0), GT_pos.unsqueeze(0), n_compartments=64, bounding_box=(-0.9, 1.9, -0.9, 1.9)))\n",
    "    ious.append(torch.stack(iou_traj))"
   ]
  },
  {
   "cell_type": "code",
   "execution_count": null,
   "id": "c0856b47",
   "metadata": {},
   "outputs": [],
   "source": [
    "ious = torch.stack(ious, dim=0)"
   ]
  },
  {
   "cell_type": "code",
   "execution_count": null,
   "id": "186acebe",
   "metadata": {},
   "outputs": [],
   "source": [
    "ious.shape"
   ]
  },
  {
   "cell_type": "code",
   "execution_count": null,
   "id": "87d66afc",
   "metadata": {},
   "outputs": [],
   "source": [
    "ious_mean_4_4 = ious.mean(axis=0)\n",
    "ious_std_4_4 = ious.std(axis=0)"
   ]
  },
  {
   "cell_type": "code",
   "execution_count": null,
   "id": "056d6684",
   "metadata": {},
   "outputs": [],
   "source": [
    "plot_means_variances(\n",
    "    ious_mean_4_4,\n",
    "    ious_std_4_4,\n",
    "    xlabel=\"Rollout Timestep\",\n",
    "    ylabel=\"IoU\",\n",
    "    upper_bound=1.0,\n",
    "    lower_bound=0.0,\n",
    ")\n",
    "plt.show()"
   ]
  },
  {
   "cell_type": "code",
   "execution_count": null,
   "id": "eba73ff6",
   "metadata": {},
   "outputs": [],
   "source": []
  },
  {
   "cell_type": "markdown",
   "id": "ee65d820",
   "metadata": {},
   "source": [
    "# n_fields = 8\n",
    "## n_jumps = 1"
   ]
  },
  {
   "cell_type": "code",
   "execution_count": null,
   "id": "2b592f01",
   "metadata": {},
   "outputs": [],
   "source": [
    "cfg          = OmegaConf.load(\n",
    "    Path(\"logs/train/runs/2025-09-05_13-50-41/.hydra/config.yaml\")\n",
    ")\n",
    "\n",
    "# factories\n",
    "latent_model_factory = instantiate(cfg.model.latent_model, _partial_=True)\n",
    "model_factory        = instantiate(cfg.model,            _partial_=True)\n",
    "loss_function        = instantiate(cfg.model.loss_function)\n",
    "\n",
    "lit_model = PhysicsLitModule.load_from_checkpoint(\n",
    "    Path(\"logs/train/runs/2025-09-05_13-50-41/waterdrop_physics/k8sfxcss/checkpoints/epoch=22-step=339825.ckpt\"),\n",
    "    latent_model = latent_model_factory,\n",
    "    model        = model_factory,\n",
    "    loss_function= loss_function,\n",
    "    strict       = True,\n",
    "    map_location = \"cuda\"\n",
    ")\n",
    "lit_model.eval()\n",
    "dataset_PH = instantiate(cfg.data)\n",
    "dataset_PH.setup(stage=\"physics\")\n",
    "\n",
    "dataset_PH.test_dataset.rollout = True"
   ]
  },
  {
   "cell_type": "code",
   "execution_count": null,
   "id": "e2861a07",
   "metadata": {},
   "outputs": [],
   "source": [
    "TRAJ_IDX = list(range(dataset_PH.get_dataset(split=\"test\").n_traj))\n",
    "n_per_traj_PH = dataset_PH.get_dataset(split=\"test\").n_per_traj\n",
    "IDX_PH = [[0]] * len(TRAJ_IDX)"
   ]
  },
  {
   "cell_type": "code",
   "execution_count": null,
   "id": "ebd88dcb",
   "metadata": {},
   "outputs": [],
   "source": [
    "rollout_physics, fields, GT_physics, GT_vel_fields_normalized_physics, MSE_fields_normalized_physics, MSE_Field_latent_physics, propagated_latents = lit_model.rollout_physics(\n",
    "    particle_dm=dataset_PH,\n",
    "    traj_idx=TRAJ_IDX,\n",
    "    idx=IDX_PH,\n",
    "    query_gt_pos=False,\n",
    "    split=\"test\",\n",
    "    use_gt_field=False,\n",
    ")"
   ]
  },
  {
   "cell_type": "code",
   "execution_count": null,
   "id": "55fe31f5",
   "metadata": {},
   "outputs": [],
   "source": [
    "ious = []\n",
    "for (GT, rollout) in tqdm(zip(GT_physics, rollout_physics), total=len(GT_physics)):\n",
    "    iou_traj = []\n",
    "    for (GT_pos, rollout_pos) in zip(GT, rollout):\n",
    "        # Calculate IoU for each pair of GT and rollout positions\n",
    "        iou_traj.append(mean_iou(rollout_pos.unsqueeze(0), GT_pos.unsqueeze(0), n_compartments=64, bounding_box=(-0.9, 1.9, -0.9, 1.9)))\n",
    "    ious.append(torch.stack(iou_traj))"
   ]
  },
  {
   "cell_type": "code",
   "execution_count": null,
   "id": "6fef427b",
   "metadata": {},
   "outputs": [],
   "source": [
    "ious = torch.stack(ious, dim=0)"
   ]
  },
  {
   "cell_type": "code",
   "execution_count": null,
   "id": "aa976d2d",
   "metadata": {},
   "outputs": [],
   "source": [
    "ious.shape"
   ]
  },
  {
   "cell_type": "code",
   "execution_count": null,
   "id": "00c1cbe6",
   "metadata": {},
   "outputs": [],
   "source": [
    "ious_mean_8_1 = ious.mean(axis=0)\n",
    "ious_std_8_1 = ious.std(axis=0)"
   ]
  },
  {
   "cell_type": "code",
   "execution_count": null,
   "id": "e666024d",
   "metadata": {},
   "outputs": [],
   "source": [
    "plot_means_variances(\n",
    "    ious_mean_8_1,\n",
    "    ious_std_8_1,\n",
    "    xlabel=\"Rollout Timestep\",\n",
    "    ylabel=\"IoU\",\n",
    "    upper_bound=1.0,\n",
    "    lower_bound=0.0,\n",
    ")\n",
    "plt.show()"
   ]
  },
  {
   "cell_type": "markdown",
   "id": "b6028a0c",
   "metadata": {},
   "source": [
    "## n_jumps = 2"
   ]
  },
  {
   "cell_type": "code",
   "execution_count": null,
   "id": "d56bcfc8",
   "metadata": {},
   "outputs": [],
   "source": [
    "cfg          = OmegaConf.load(\n",
    "    Path(\"logs/train/runs/2025-09-05_22-24-52/.hydra/config.yaml\")\n",
    ")\n",
    "\n",
    "# factories\n",
    "latent_model_factory = instantiate(cfg.model.latent_model, _partial_=True)\n",
    "model_factory        = instantiate(cfg.model,            _partial_=True)\n",
    "loss_function        = instantiate(cfg.model.loss_function)\n",
    "\n",
    "lit_model = PhysicsLitModule.load_from_checkpoint(\n",
    "    Path(\"logs/train/runs/2025-09-05_22-24-52/waterdrop_physics/7jay9bnh/checkpoints/epoch=26-step=395685.ckpt\"),\n",
    "    latent_model = latent_model_factory,\n",
    "    model        = model_factory,\n",
    "    loss_function= loss_function,\n",
    "    strict       = True,\n",
    "    map_location = \"cuda\"\n",
    ")\n",
    "lit_model.eval()\n",
    "dataset_PH = instantiate(cfg.data)\n",
    "dataset_PH.setup(stage=\"physics\")\n",
    "\n",
    "dataset_PH.test_dataset.rollout = True"
   ]
  },
  {
   "cell_type": "code",
   "execution_count": null,
   "id": "f8d4047a",
   "metadata": {},
   "outputs": [],
   "source": [
    "TRAJ_IDX = list(range(dataset_PH.get_dataset(split=\"test\").n_traj))\n",
    "n_per_traj_PH = dataset_PH.get_dataset(split=\"test\").n_per_traj\n",
    "IDX_PH = [[0]] * len(TRAJ_IDX)"
   ]
  },
  {
   "cell_type": "code",
   "execution_count": null,
   "id": "76a482a5",
   "metadata": {},
   "outputs": [],
   "source": [
    "rollout_physics, fields, GT_physics, GT_vel_fields_normalized_physics, MSE_fields_normalized_physics, MSE_Field_latent_physics, propagated_latents = lit_model.rollout_physics(\n",
    "    particle_dm=dataset_PH,\n",
    "    traj_idx=TRAJ_IDX,\n",
    "    idx=IDX_PH,\n",
    "    query_gt_pos=False,\n",
    "    split=\"test\",\n",
    "    use_gt_field=False,\n",
    ")"
   ]
  },
  {
   "cell_type": "code",
   "execution_count": null,
   "id": "bb2f452b",
   "metadata": {},
   "outputs": [],
   "source": [
    "ious = []\n",
    "for (GT, rollout) in tqdm(zip(GT_physics, rollout_physics), total=len(GT_physics)):\n",
    "    iou_traj = []\n",
    "    for (GT_pos, rollout_pos) in zip(GT, rollout):\n",
    "        # Calculate IoU for each pair of GT and rollout positions\n",
    "        iou_traj.append(mean_iou(rollout_pos.unsqueeze(0), GT_pos.unsqueeze(0), n_compartments=64, bounding_box=(-0.9, 1.9, -0.9, 1.9)))\n",
    "    ious.append(torch.stack(iou_traj))"
   ]
  },
  {
   "cell_type": "code",
   "execution_count": null,
   "id": "f07a2340",
   "metadata": {},
   "outputs": [],
   "source": [
    "ious = torch.stack(ious, dim=0)"
   ]
  },
  {
   "cell_type": "code",
   "execution_count": null,
   "id": "c0804a19",
   "metadata": {},
   "outputs": [],
   "source": [
    "ious.shape"
   ]
  },
  {
   "cell_type": "code",
   "execution_count": null,
   "id": "91250c54",
   "metadata": {},
   "outputs": [],
   "source": [
    "ious_mean_8_2 = ious.mean(axis=0)\n",
    "ious_std_8_2 = ious.std(axis=0)"
   ]
  },
  {
   "cell_type": "code",
   "execution_count": null,
   "id": "b693063f",
   "metadata": {},
   "outputs": [],
   "source": [
    "plot_means_variances(\n",
    "    ious_mean_8_2,\n",
    "    ious_std_8_2,\n",
    "    xlabel=\"Rollout Timestep\",\n",
    "    ylabel=\"IoU\",\n",
    "    upper_bound=1.0,\n",
    "    lower_bound=0.0,\n",
    ")\n",
    "plt.show()"
   ]
  },
  {
   "cell_type": "markdown",
   "id": "ef822ea1",
   "metadata": {},
   "source": [
    "## n_jumps = 4"
   ]
  },
  {
   "cell_type": "code",
   "execution_count": null,
   "id": "ceb65ce5",
   "metadata": {},
   "outputs": [],
   "source": [
    "cfg          = OmegaConf.load(\n",
    "    Path(\"logs/train/runs/2025-09-06_08-42-16/.hydra/config.yaml\")\n",
    ")\n",
    "\n",
    "# factories\n",
    "latent_model_factory = instantiate(cfg.model.latent_model, _partial_=True)\n",
    "model_factory        = instantiate(cfg.model,            _partial_=True)\n",
    "loss_function        = instantiate(cfg.model.loss_function)\n",
    "\n",
    "lit_model = PhysicsLitModule.load_from_checkpoint(\n",
    "    Path(\"logs/train/runs/2025-09-06_08-42-16/waterdrop_physics/nu7i8rej/checkpoints/epoch=27-step=403620.ckpt\"),\n",
    "    latent_model = latent_model_factory,\n",
    "    model        = model_factory,\n",
    "    loss_function= loss_function,\n",
    "    strict       = True,\n",
    "    map_location = \"cuda\"\n",
    ")\n",
    "lit_model.eval()\n",
    "dataset_PH = instantiate(cfg.data)\n",
    "dataset_PH.setup(stage=\"physics\")\n",
    "\n",
    "dataset_PH.test_dataset.rollout = True"
   ]
  },
  {
   "cell_type": "code",
   "execution_count": null,
   "id": "e1b32c42",
   "metadata": {},
   "outputs": [],
   "source": [
    "num_params = sum(p.numel() for p in lit_model.parameters())\n",
    "num_params_latent = sum(p.numel() for p in lit_model.latent_model.parameters())\n",
    "num_params_AE = num_params - num_params_latent"
   ]
  },
  {
   "cell_type": "code",
   "execution_count": null,
   "id": "023affbe",
   "metadata": {},
   "outputs": [],
   "source": [
    "TRAJ_IDX = list(range(dataset_PH.get_dataset(split=\"test\").n_traj))\n",
    "n_per_traj_PH = dataset_PH.get_dataset(split=\"test\").n_per_traj\n",
    "IDX_PH = [[0]] * len(TRAJ_IDX)"
   ]
  },
  {
   "cell_type": "code",
   "execution_count": null,
   "id": "e224cec4",
   "metadata": {},
   "outputs": [],
   "source": [
    "rollout_physics, fields, GT_physics, GT_vel_fields_normalized_physics, MSE_fields_normalized_physics, MSE_Field_latent_physics, propagated_latents = lit_model.rollout_physics(\n",
    "    particle_dm=dataset_PH,\n",
    "    traj_idx=TRAJ_IDX,\n",
    "    idx=IDX_PH,\n",
    "    query_gt_pos=False,\n",
    "    split=\"test\",\n",
    "    use_gt_field=False,\n",
    ")"
   ]
  },
  {
   "cell_type": "code",
   "execution_count": null,
   "id": "ffc893d7",
   "metadata": {},
   "outputs": [],
   "source": [
    "ious = []\n",
    "for (GT, rollout) in tqdm(zip(GT_physics, rollout_physics), total=len(GT_physics)):\n",
    "    iou_traj = []\n",
    "    for (GT_pos, rollout_pos) in zip(GT, rollout):\n",
    "        # Calculate IoU for each pair of GT and rollout positions\n",
    "        iou_traj.append(mean_iou(rollout_pos.unsqueeze(0), GT_pos.unsqueeze(0), n_compartments=64, bounding_box=(-0.9, 1.9, -0.9, 1.9)))\n",
    "    ious.append(torch.stack(iou_traj))"
   ]
  },
  {
   "cell_type": "code",
   "execution_count": null,
   "id": "285b3a90",
   "metadata": {},
   "outputs": [],
   "source": [
    "ious = torch.stack(ious, dim=0)"
   ]
  },
  {
   "cell_type": "code",
   "execution_count": null,
   "id": "2b47cd51",
   "metadata": {},
   "outputs": [],
   "source": [
    "ious.shape"
   ]
  },
  {
   "cell_type": "markdown",
   "id": "810a149e",
   "metadata": {},
   "source": [
    "### a look at the worst trajectories"
   ]
  },
  {
   "cell_type": "code",
   "execution_count": null,
   "id": "e07a2e48",
   "metadata": {},
   "outputs": [],
   "source": [
    "ious[:, 50].min()"
   ]
  },
  {
   "cell_type": "code",
   "execution_count": null,
   "id": "e476e910",
   "metadata": {},
   "outputs": [],
   "source": [
    "ious[:, 52].argmin()"
   ]
  },
  {
   "cell_type": "code",
   "execution_count": null,
   "id": "99886e67",
   "metadata": {},
   "outputs": [],
   "source": [
    "ani = animate( # bad iou around timestep 400\n",
    "    rollout_physics[11],\n",
    "    ground_truth=GT_physics[11],\n",
    "    ref_frame=((0, 1), (0, 1)),\n",
    "    start_idx=0,\n",
    "    n_skip_ahead_timesteps=8\n",
    ")\n",
    "HTML(ani.to_jshtml())"
   ]
  },
  {
   "cell_type": "code",
   "execution_count": null,
   "id": "4a51556c",
   "metadata": {},
   "outputs": [],
   "source": [
    "ani = animate( # bad boundaries still happen\n",
    "    rollout_physics[10],\n",
    "    ground_truth=GT_physics[10],\n",
    "    ref_frame=((0, 1), (0, 1)),\n",
    "    start_idx=0,\n",
    "    n_skip_ahead_timesteps=8\n",
    ")\n",
    "HTML(ani.to_jshtml())"
   ]
  },
  {
   "cell_type": "code",
   "execution_count": null,
   "id": "0fd37a01",
   "metadata": {},
   "outputs": [],
   "source": [
    "ani = animate( # bad iou around timestep 416\n",
    "    rollout_physics[1],\n",
    "    ground_truth=GT_physics[1],\n",
    "    ref_frame=((0, 1), (0, 1)),\n",
    "    start_idx=0,\n",
    "    n_skip_ahead_timesteps=8\n",
    ")\n",
    "HTML(ani.to_jshtml())"
   ]
  },
  {
   "cell_type": "code",
   "execution_count": null,
   "id": "bbaa813a",
   "metadata": {},
   "outputs": [],
   "source": [
    "ious_mean_8_4 = ious.mean(axis=0)\n",
    "ious_std_8_4 = ious.std(axis=0)"
   ]
  },
  {
   "cell_type": "code",
   "execution_count": null,
   "id": "5dbe889a",
   "metadata": {},
   "outputs": [],
   "source": [
    "plot_means_variances(\n",
    "    ious_mean_8_4,\n",
    "    ious_std_8_4,\n",
    "    xlabel=\"Rollout Timestep\",\n",
    "    ylabel=\"IoU\",\n",
    "    upper_bound=1.0,\n",
    "    lower_bound=0.0,\n",
    ")\n",
    "plt.show()"
   ]
  },
  {
   "cell_type": "code",
   "execution_count": null,
   "id": "d123a88f",
   "metadata": {},
   "outputs": [],
   "source": [
    "ani = animate(\n",
    "    rollout_physics[5],\n",
    "    ground_truth=GT_physics[5],\n",
    "    ref_frame=((0, 1), (0, 1)),\n",
    "    start_idx=16,\n",
    "    n_skip_ahead_timesteps=8,\n",
    "    dpi=150\n",
    ")\n",
    "HTML(ani.to_jshtml())"
   ]
  },
  {
   "cell_type": "code",
   "execution_count": null,
   "id": "6b2f0d1e",
   "metadata": {},
   "outputs": [],
   "source": [
    "ani = animate(\n",
    "    rollout_physics[6],\n",
    "    ground_truth=GT_physics[6],\n",
    "    ref_frame=((0, 1), (0, 1)),\n",
    "    start_idx=16,\n",
    "    n_skip_ahead_timesteps=8,\n",
    "    dpi=150\n",
    ")\n",
    "HTML(ani.to_jshtml())"
   ]
  },
  {
   "cell_type": "code",
   "execution_count": null,
   "id": "5d659f79",
   "metadata": {},
   "outputs": [],
   "source": [
    "ani = animate(\n",
    "    rollout_physics[7],\n",
    "    ground_truth=GT_physics[7],\n",
    "    ref_frame=((0, 1), (0, 1)),\n",
    "    start_idx=16,\n",
    "    n_skip_ahead_timesteps=8,\n",
    "    dpi=150\n",
    ")\n",
    "HTML(ani.to_jshtml())"
   ]
  },
  {
   "cell_type": "code",
   "execution_count": null,
   "id": "268099cc",
   "metadata": {},
   "outputs": [],
   "source": [
    "ani = animate(\n",
    "    rollout_physics[8],\n",
    "    ground_truth=GT_physics[8],\n",
    "    ref_frame=((0, 1), (0, 1)),\n",
    "    start_idx=16,\n",
    "    n_skip_ahead_timesteps=8,\n",
    "    dpi=150\n",
    ")\n",
    "HTML(ani.to_jshtml())"
   ]
  },
  {
   "cell_type": "code",
   "execution_count": null,
   "id": "15730959",
   "metadata": {},
   "outputs": [],
   "source": [
    "ani = animate(\n",
    "    rollout_physics[0],\n",
    "    ground_truth=GT_physics[0],\n",
    "    ref_frame=((0, 1), (0, 1)),\n",
    "    start_idx=16,\n",
    "    n_skip_ahead_timesteps=8\n",
    ")\n",
    "HTML(ani.to_jshtml())"
   ]
  },
  {
   "cell_type": "code",
   "execution_count": null,
   "id": "56d3f389",
   "metadata": {},
   "outputs": [],
   "source": [
    "ani = animate(\n",
    "    rollout_physics[1],\n",
    "    ground_truth=GT_physics[1],\n",
    "    ref_frame=((0, 1), (0, 1)),\n",
    "    start_idx=16,\n",
    "    n_skip_ahead_timesteps=8\n",
    ")\n",
    "HTML(ani.to_jshtml())"
   ]
  },
  {
   "cell_type": "code",
   "execution_count": null,
   "id": "4640588e",
   "metadata": {},
   "outputs": [],
   "source": [
    "ani = animate(\n",
    "    rollout_physics[2],\n",
    "    ground_truth=GT_physics[2],\n",
    "    ref_frame=((0, 1), (0, 1)),\n",
    "    start_idx=0,\n",
    "    n_skip_ahead_timesteps=8\n",
    ")\n",
    "HTML(ani.to_jshtml())"
   ]
  },
  {
   "cell_type": "code",
   "execution_count": null,
   "id": "476b7cdf",
   "metadata": {},
   "outputs": [],
   "source": [
    "from matplotlib.animation import PillowWriter\n",
    "\n",
    "fps = 40\n",
    "\n",
    "ani.save(\n",
    "    \"rollout.gif\",\n",
    "    writer=PillowWriter(fps=fps),\n",
    "    dpi=150,  # lower for smaller files, e.g., 100\n",
    "    savefig_kwargs={\"facecolor\": \"white\"}  # avoid dark/transparent backgrounds\n",
    ")"
   ]
  },
  {
   "cell_type": "code",
   "execution_count": null,
   "id": "e3b81907",
   "metadata": {},
   "outputs": [],
   "source": [
    "print(GT_vel_fields_normalized_physics[2].sum(dim=-1).shape)\n",
    "print(rollout_physics[2].shape)\n",
    "print(fields[2].shape)\n",
    "print(GT_physics[2].shape)"
   ]
  },
  {
   "cell_type": "code",
   "execution_count": null,
   "id": "d91c95e4",
   "metadata": {},
   "outputs": [],
   "source": [
    "ani = animate(\n",
    "    rollout_physics[2],\n",
    "    vectors=fields[2].sum(dim=-2),\n",
    "    vector_positions=rollout_physics[2],\n",
    "    ref_frame=((0, 0.6), (0, 0.6)),\n",
    "    start_idx=0,\n",
    "    n_skip_ahead_timesteps=2,\n",
    "    dpi=150\n",
    ")"
   ]
  },
  {
   "cell_type": "code",
   "execution_count": null,
   "id": "0755f18c",
   "metadata": {},
   "outputs": [],
   "source": [
    "HTML(ani.to_jshtml())"
   ]
  },
  {
   "cell_type": "code",
   "execution_count": null,
   "id": "64e57dbb",
   "metadata": {},
   "outputs": [],
   "source": [
    "from itertools import islice\n",
    "from matplotlib.animation import PillowWriter\n",
    "\n",
    "def grab_frames(ani, N):\n",
    "    fig = ani._fig\n",
    "    frames = []\n",
    "    # iterate the same sequence the animation would use\n",
    "    for f in islice(ani.new_frame_seq(), N):\n",
    "        # draw one frame (avoid blit complications)\n",
    "        ani._draw_next_frame(framedata=f, blit=False)   # private API but stable\n",
    "        fig.canvas.draw()\n",
    "        # read back pixels\n",
    "        w, h = fig.canvas.get_width_height()\n",
    "        img = np.frombuffer(fig.canvas.tostring_rgb(), dtype=np.uint8).reshape(h, w, 3)\n",
    "        frames.append(img.copy())\n",
    "    return frames"
   ]
  },
  {
   "cell_type": "code",
   "execution_count": null,
   "id": "6504d4e8",
   "metadata": {},
   "outputs": [],
   "source": [
    "N = 120\n",
    "fps = 40\n",
    "\n",
    "writer = PillowWriter(fps=fps)\n",
    "with writer.saving(ani._fig, \"media/boundary.gif\", dpi=150):\n",
    "    for f in islice(ani.new_frame_seq(), N):\n",
    "        ani._draw_next_frame(f, blit=False)      # draw one frame\n",
    "        writer.grab_frame(facecolor=\"white\")     # same as savefig_kwargs={\"facecolor\":\"white\"}"
   ]
  },
  {
   "cell_type": "code",
   "execution_count": null,
   "id": "2ef6a32c",
   "metadata": {},
   "outputs": [],
   "source": []
  },
  {
   "cell_type": "code",
   "execution_count": null,
   "id": "22896f2f",
   "metadata": {},
   "outputs": [],
   "source": [
    "ious = {\n",
    "    \"2_1_1\": (ious_mean_2_1_1, ious_std_2_1_1, 1),\n",
    "    \"2_1\": (ious_mean_2_1, ious_std_2_1, 2),\n",
    "    \"2_2\": (ious_mean_2_2, ious_std_2_2, 2),\n",
    "    \"2_4\": (ious_mean_2_4, ious_std_2_4, 2),\n",
    "    \"4_1\": (ious_mean_4_1, ious_std_4_1, 4),\n",
    "    \"4_2\": (ious_mean_4_2, ious_std_4_2, 4),\n",
    "    \"4_4\": (ious_mean_4_4, ious_std_4_4, 4),\n",
    "    \"8_1\": (ious_mean_8_1, ious_std_8_1, 8),\n",
    "    \"8_2\": (ious_mean_8_2, ious_std_8_2, 8),\n",
    "    \"8_4\": (ious_mean_8_4, ious_std_8_4, 8)\n",
    "}"
   ]
  },
  {
   "cell_type": "code",
   "execution_count": null,
   "id": "38f8835c",
   "metadata": {},
   "outputs": [],
   "source": [
    "mean_rollout_iou = [iou[0].mean() for iou in ious.values()]"
   ]
  },
  {
   "cell_type": "code",
   "execution_count": null,
   "id": "28758274",
   "metadata": {},
   "outputs": [],
   "source": [
    "mean_rollout_iou"
   ]
  },
  {
   "cell_type": "code",
   "execution_count": null,
   "id": "61c1614d",
   "metadata": {},
   "outputs": [],
   "source": [
    "# torch.save(ious, \"D:/Projects/Master/UPT/data/ious/ious.pth\")\n",
    "# torch.save(mean_rollout_iou, \"D:/Projects/Master/UPT/data/ious/mean_rollout_iou.pth\")\n",
    "ious = torch.load(\"D:/Projects/Master/UPT/data/ious/ious.pth\")"
   ]
  },
  {
   "cell_type": "code",
   "execution_count": null,
   "id": "a58233aa",
   "metadata": {},
   "outputs": [],
   "source": [
    "\n"
   ]
  },
  {
   "cell_type": "code",
   "execution_count": null,
   "id": "0406bfbb",
   "metadata": {},
   "outputs": [],
   "source": [
    "mean_iou_plot_means = [iou_elem[0][8//iou_elem[2]-1 : : 8//iou_elem[2]] for iou_elem in ious.values()]\n",
    "mean_iou_plot_stds = [iou_elem[1][8//iou_elem[2]-1 : : 8//iou_elem[2]] for iou_elem in ious.values()]"
   ]
  },
  {
   "cell_type": "code",
   "execution_count": null,
   "id": "347cda58",
   "metadata": {},
   "outputs": [],
   "source": [
    "for iou_plot_list in mean_iou_plot_means:\n",
    "    print(iou_plot_list.shape)"
   ]
  },
  {
   "cell_type": "code",
   "execution_count": null,
   "id": "95730992",
   "metadata": {},
   "outputs": [],
   "source": [
    "plot_means_variances(\n",
    "    mean_iou_plot_means,\n",
    "    mean_iou_plot_stds,\n",
    "    xlabel=\"timestep\",\n",
    "    ylabel=\"IoU\",\n",
    "    labels=\n",
    "    [r\"$n_{\\mathrm{fields}}=2,\\, n_{\\mathrm{jumps}}=1,\\, t_{\\mathcal{A}}=1$\"]\n",
    "    + [\n",
    "        rf\"$n_{{\\rm fields}}={int(g[0])},\\, n_{{\\rm jumps}}={int(g[-1])}$\"\n",
    "        for g in ious.keys()\n",
    "    ][1:],\n",
    "    figsize=(14, 8),\n",
    "    upper_bound=1.0,\n",
    "    dpi=250,\n",
    "    start_idx=15,\n",
    "    stride=8\n",
    ")"
   ]
  },
  {
   "cell_type": "markdown",
   "id": "af06efa5",
   "metadata": {},
   "source": [
    "n_fields hilft zwar mit 1. Drop, aber im Allgemeinen wird es schlechter!"
   ]
  },
  {
   "cell_type": "code",
   "execution_count": null,
   "id": "3615638f",
   "metadata": {},
   "outputs": [],
   "source": [
    "plot_means_variances(\n",
    "    mean_iou_plot_means,\n",
    "    xlabel=\"timestep\",\n",
    "    ylabel=\"IoU\",\n",
    "    labels=\n",
    "    [r\"$n=2,\\, N=1,\\, t_{\\mathcal{A}}=1$\"]\n",
    "    + [\n",
    "        rf\"$n={int(g[0])},\\, N={int(g[-1])}$\"\n",
    "        for g in ious.keys()\n",
    "    ][1:],\n",
    "    figsize=(7, 6),\n",
    "    dpi=250,\n",
    "    start_idx=15,\n",
    "    stride=8\n",
    ")"
   ]
  },
  {
   "cell_type": "code",
   "execution_count": null,
   "id": "09037afa",
   "metadata": {},
   "outputs": [],
   "source": [
    "plot_means_variances(\n",
    "    mean_iou_plot_means,\n",
    "    xlabel=\"timestep\",\n",
    "    ylabel=\"IoU\",\n",
    "    labels=\n",
    "    [r\"$n=2,\\, N=1,\\, t_{\\mathcal{A}}=1$\"]\n",
    "    + [\n",
    "        rf\"$n={int(g[0])},\\, N={int(g[-1])}$\"\n",
    "        for g in ious.keys()\n",
    "    ][1:],\n",
    "    figsize=(7, 5),\n",
    "    dpi=250,\n",
    "    start_idx=15,\n",
    "    stride=8,\n",
    "    legend_outside=True,\n",
    "    legend_pos=\"right\",\n",
    "    legend_ncol=1\n",
    ")"
   ]
  },
  {
   "cell_type": "code",
   "execution_count": null,
   "id": "aee990d2",
   "metadata": {},
   "outputs": [],
   "source": [
    "plot_means_variances(\n",
    "    mean_iou_plot_means[:3],\n",
    "    mean_iou_plot_stds[:3],\n",
    "    xlabel=\"timestep\",\n",
    "    ylabel=\"IoU\",\n",
    "    labels=[\n",
    "        rf\"$n_{{\\rm fields}}={int(g[0])},\\, n_{{\\rm jumps}}={int(g[-1])}$\"\n",
    "        for g in ious.keys()\n",
    "    ][:3],\n",
    "    figsize=(12, 8),\n",
    "    upper_bound=1.0,\n",
    "    dpi=250,\n",
    "    start_idx=0,\n",
    "    stride=8\n",
    ")"
   ]
  },
  {
   "cell_type": "code",
   "execution_count": null,
   "id": "1f7719a8",
   "metadata": {},
   "outputs": [],
   "source": [
    "plot_means_variances(\n",
    "    mean_iou_plot_means[3:6],\n",
    "    mean_iou_plot_stds[3:6],\n",
    "    xlabel=\"timestep\",\n",
    "    ylabel=\"IoU\",\n",
    "    labels=[\n",
    "        rf\"$n_{{\\rm fields}}={int(g[0])},\\, n_{{\\rm jumps}}={int(g[-1])}$\"\n",
    "        for g in ious.keys()\n",
    "    ][3:6],\n",
    "    figsize=(12, 8),\n",
    "    upper_bound=1.0,\n",
    "    dpi=250,\n",
    "    start_idx=0,\n",
    "    stride=8\n",
    ")"
   ]
  },
  {
   "cell_type": "code",
   "execution_count": null,
   "id": "458adf6c",
   "metadata": {},
   "outputs": [],
   "source": [
    "plot_means_variances(\n",
    "    mean_iou_plot_means[6:],\n",
    "    mean_iou_plot_stds[6:],\n",
    "    xlabel=\"timestep\",\n",
    "    ylabel=\"IoU\",\n",
    "    labels=[\n",
    "        rf\"$n_{{\\rm fields}}={int(g[0])},\\, n_{{\\rm jumps}}={int(g[-1])}$\"\n",
    "        for g in ious.keys()\n",
    "    ][6:],\n",
    "    figsize=(12, 8),\n",
    "    upper_bound=1.0,\n",
    "    dpi=250,\n",
    "    start_idx=0,\n",
    "    stride=8\n",
    ")"
   ]
  },
  {
   "cell_type": "code",
   "execution_count": null,
   "id": "9a7a2d56",
   "metadata": {},
   "outputs": [],
   "source": [
    "plot_means_variances(\n",
    "    mean_iou_plot_means[2::3],\n",
    "    mean_iou_plot_stds[2::3],\n",
    "    xlabel=\"timestep\",\n",
    "    ylabel=\"IoU\",\n",
    "    labels=[\n",
    "        rf\"$n_{{\\rm fields}}={int(g[0])},\\, n_{{\\rm jumps}}={int(g[-1])}$\"\n",
    "        for g in ious.keys()\n",
    "    ][2::3],\n",
    "    figsize=(10, 8),\n",
    "    upper_bound=1.0,\n",
    "    dpi=250,\n",
    "    start_idx=0,\n",
    "    stride=8\n",
    ")"
   ]
  },
  {
   "cell_type": "markdown",
   "id": "a5fc43f5",
   "metadata": {},
   "source": [
    "# Look at compartments"
   ]
  },
  {
   "cell_type": "code",
   "execution_count": null,
   "id": "fd6cc324",
   "metadata": {},
   "outputs": [],
   "source": [
    "n_compartments=64\n",
    "bounding_box=(-0.9, 1.9, -0.9, 1.9)"
   ]
  },
  {
   "cell_type": "code",
   "execution_count": null,
   "id": "99804f1b",
   "metadata": {},
   "outputs": [],
   "source": [
    "a_x, b_x, a_y, b_y = bounding_box\n",
    "\n",
    "step_x = (b_x - a_x) / n_compartments\n",
    "step_y = (b_y - a_y) / n_compartments"
   ]
  },
  {
   "cell_type": "code",
   "execution_count": null,
   "id": "7dabc0fd",
   "metadata": {},
   "outputs": [],
   "source": [
    "from matplotlib.patches import Rectangle\n",
    "\n",
    "def plot_step_grid(\n",
    "    bounds: tuple[float, float, float, float],\n",
    "    step_x: float,\n",
    "    step_y: float,\n",
    "    ax: plt.Axes | None = None,\n",
    "    *,\n",
    "    line_kw: dict | None = None,\n",
    "    boundary_kw: dict | None = None,\n",
    "    draw_axes_at_zero: bool = False,\n",
    "    equal_aspect: bool = True,\n",
    "    # Highlight options\n",
    "    highlight: tuple[float, float, float, float] | None = None,\n",
    "    highlight_units: str = \"cells\",  # \"cells\" or \"data\"\n",
    "    highlight_kw: dict | None = None,\n",
    "    clip_highlight_to_bounds: bool = True,\n",
    "):\n",
    "    \"\"\"\n",
    "    Plot grid lines spaced by step_x (vertical) and step_y (horizontal) within bounds.\n",
    "    Optionally highlight a rectangle made of multiple compartments.\n",
    "\n",
    "    Args:\n",
    "        bounds: (a_x, b_x, a_y, b_y)\n",
    "        step_x, step_y: spacings (>0)\n",
    "        ax: optional matplotlib Axes\n",
    "        line_kw: style for grid lines, e.g. {'color':'0.8','linewidth':1}\n",
    "        boundary_kw: style for the boundary box\n",
    "        draw_axes_at_zero: draw x=0 / y=0 if inside bounds\n",
    "        equal_aspect: set equal aspect ratio\n",
    "\n",
    "        highlight: tuple specifying rectangle to highlight.\n",
    "          If highlight_units == \"cells\": (i, j, w_cells, h_cells), integers recommended.\n",
    "            - i, j are lower-left cell indices (0 at a_x/a_y).\n",
    "            - w_cells, h_cells are sizes in number of cells.\n",
    "          If highlight_units == \"data\": (x0, y0, width, height) in data coordinates.\n",
    "\n",
    "        highlight_units: \"cells\" or \"data\"\n",
    "        highlight_kw: patch style for the highlighted rectangle\n",
    "        clip_highlight_to_bounds: clip the highlight within bounds if it overflows.\n",
    "\n",
    "    Returns:\n",
    "        The matplotlib Axes with the grid drawn.\n",
    "    \"\"\"\n",
    "    if step_x <= 0 or step_y <= 0:\n",
    "        raise ValueError(\"step_x and step_y must be positive.\")\n",
    "    a_x, b_x, a_y, b_y = bounds\n",
    "    if a_x > b_x or a_y > b_y:\n",
    "        raise ValueError(\"Bounds must satisfy a_x <= b_x and a_y <= b_y.\")\n",
    "\n",
    "    # Defaults\n",
    "    _line_kw = {'color': '0.8', 'linewidth': 1.0}\n",
    "    if line_kw:\n",
    "        _line_kw.update(line_kw)\n",
    "    _boundary_kw = {'edgecolor': 'k', 'linewidth': 1.5, 'fill': False}\n",
    "    if boundary_kw:\n",
    "        _boundary_kw.update(boundary_kw)\n",
    "    _highlight_kw = {'facecolor': 'tab:orange', 'alpha': 0.25, 'edgecolor': 'tab:orange', 'linewidth': 2.0}\n",
    "    if highlight_kw:\n",
    "        _highlight_kw.update(highlight_kw)\n",
    "\n",
    "    if ax is None:\n",
    "        fig, ax = plt.subplots(dpi=200)\n",
    "\n",
    "    # Generate grid lines (include top/right edge; eps avoids FP miss)\n",
    "    eps_x = step_x * 0.5\n",
    "    eps_y = step_y * 0.5\n",
    "    xs = np.arange(a_x, b_x + eps_x, step_x)\n",
    "    ys = np.arange(a_y, b_y + eps_y, step_y)\n",
    "\n",
    "    ax.vlines(xs, a_y, b_y, **_line_kw)\n",
    "    ax.hlines(ys, a_x, b_x, **_line_kw)\n",
    "\n",
    "    # Outer boundary box\n",
    "    ax.add_patch(Rectangle((a_x, a_y), b_x - a_x, b_y - a_y, **_boundary_kw))\n",
    "\n",
    "    # Optional axes at zero\n",
    "    if draw_axes_at_zero:\n",
    "        if a_x <= 0 <= b_x:\n",
    "            ax.axvline(0, color='0.4', linewidth=_line_kw.get('linewidth', 1.0))\n",
    "        if a_y <= 0 <= b_y:\n",
    "            ax.axhline(0, color='0.4', linewidth=_line_kw.get('linewidth', 1.0))\n",
    "\n",
    "    # Highlight rectangle\n",
    "    if highlight is not None:\n",
    "        if highlight_units not in {\"cells\", \"data\"}:\n",
    "            raise ValueError(\"highlight_units must be 'cells' or 'data'.\")\n",
    "\n",
    "        if highlight_units == \"cells\":\n",
    "            i, j, w_cells, h_cells = highlight\n",
    "            # Optionally enforce integers (comment out if you want to allow floats)\n",
    "            for name, v in zip((\"i\", \"j\", \"w_cells\", \"h_cells\"), (i, j, w_cells, h_cells)):\n",
    "                if int(v) != v:\n",
    "                    raise ValueError(f\"{name} must be an integer when highlight_units='cells'.\")\n",
    "            i, j, w_cells, h_cells = map(int, (i, j, w_cells, h_cells))\n",
    "\n",
    "            # Compute number of whole cells along each axis (floor if range not exact multiples)\n",
    "            nx = int(np.floor((b_x - a_x) / step_x + 1e-12))\n",
    "            ny = int(np.floor((b_y - a_y) / step_y + 1e-12))\n",
    "\n",
    "            if clip_highlight_to_bounds:\n",
    "                i0 = max(0, min(i, nx))\n",
    "                j0 = max(0, min(j, ny))\n",
    "                i1 = max(0, min(i + w_cells, nx))\n",
    "                j1 = max(0, min(j + h_cells, ny))\n",
    "                w_cells = max(0, i1 - i0)\n",
    "                h_cells = max(0, j1 - j0)\n",
    "                i, j = i0, j0\n",
    "            else:\n",
    "                # Basic bounds sanity\n",
    "                if not (0 <= i < nx and 0 <= j < ny and w_cells > 0 and h_cells > 0 and i + w_cells <= nx and j + h_cells <= ny):\n",
    "                    raise ValueError(\"Highlight rectangle in cells is out of bounds.\")\n",
    "\n",
    "            x0 = a_x + i * step_x\n",
    "            y0 = a_y + j * step_y\n",
    "            w = w_cells * step_x\n",
    "            h = h_cells * step_y\n",
    "\n",
    "        else:  # data units\n",
    "            x0, y0, w, h = highlight\n",
    "            if clip_highlight_to_bounds:\n",
    "                # Clip to bounds\n",
    "                x1 = np.clip(x0 + w, a_x, b_x)\n",
    "                y1 = np.clip(y0 + h, a_y, b_y)\n",
    "                x0 = np.clip(x0, a_x, b_x)\n",
    "                y0 = np.clip(y0, a_y, b_y)\n",
    "                w = max(0.0, x1 - x0)\n",
    "                h = max(0.0, y1 - y0)\n",
    "            else:\n",
    "                if w <= 0 or h <= 0:\n",
    "                    raise ValueError(\"Highlight width/height must be positive in data units.\")\n",
    "\n",
    "        if w > 0 and h > 0:\n",
    "            ax.add_patch(Rectangle((x0, y0), w, h, zorder=3, **_highlight_kw))\n",
    "\n",
    "    ax.set_xlim(a_x, b_x)\n",
    "    ax.set_ylim(a_y, b_y)\n",
    "    if equal_aspect:\n",
    "        ax.set_aspect('equal', adjustable='box')\n",
    "\n",
    "    return ax"
   ]
  },
  {
   "cell_type": "code",
   "execution_count": null,
   "id": "96641e1a",
   "metadata": {},
   "outputs": [],
   "source": [
    "plot_step_grid(\n",
    "    bounding_box,\n",
    "    step_x,\n",
    "    step_y,\n",
    "    highlight=(0.1, 0.1, 0.8, 0.8),\n",
    "    highlight_units=\"data\",\n",
    ")"
   ]
  },
  {
   "cell_type": "markdown",
   "id": "791945f9",
   "metadata": {},
   "source": [
    "# n_fields = 16"
   ]
  },
  {
   "cell_type": "markdown",
   "id": "72396c7f",
   "metadata": {},
   "source": [
    "## n_jumps = 4"
   ]
  },
  {
   "cell_type": "code",
   "execution_count": null,
   "id": "eed7a944",
   "metadata": {},
   "outputs": [],
   "source": [
    "cfg          = OmegaConf.load(\n",
    "    Path(\"logs/train/runs/2025-09-09_07-42-20/.hydra/config.yaml\")\n",
    ")\n",
    "\n",
    "# factories\n",
    "latent_model_factory = instantiate(cfg.model.latent_model, _partial_=True)\n",
    "model_factory        = instantiate(cfg.model,            _partial_=True)\n",
    "loss_function        = instantiate(cfg.model.loss_function)\n",
    "\n",
    "lit_model = PhysicsLitModule.load_from_checkpoint(\n",
    "    Path(\"logs/train/runs/2025-09-09_07-42-20/waterdrop_physics/s54sjmpc/checkpoints/epoch=28-step=400635.ckpt\"),\n",
    "    latent_model = latent_model_factory,\n",
    "    model        = model_factory,\n",
    "    loss_function= loss_function,\n",
    "    strict       = True,\n",
    "    map_location = \"cuda\"\n",
    ")\n",
    "lit_model.eval()\n",
    "dataset_PH = instantiate(cfg.data)\n",
    "dataset_PH.setup(stage=\"physics\")\n",
    "\n",
    "dataset_PH.test_dataset.rollout = True"
   ]
  },
  {
   "cell_type": "code",
   "execution_count": null,
   "id": "c8e8570d",
   "metadata": {},
   "outputs": [],
   "source": [
    "TRAJ_IDX = list(range(dataset_PH.get_dataset(split=\"test\").n_traj))\n",
    "n_per_traj_PH = dataset_PH.get_dataset(split=\"test\").n_per_traj\n",
    "IDX_PH = [[0]] * len(TRAJ_IDX)"
   ]
  },
  {
   "cell_type": "code",
   "execution_count": null,
   "id": "85f00488",
   "metadata": {},
   "outputs": [],
   "source": [
    "rollout_physics, fields, GT_physics, GT_vel_fields_normalized_physics, MSE_fields_normalized_physics, MSE_Field_latent_physics, propagated_latents = lit_model.rollout_physics(\n",
    "    particle_dm=dataset_PH,\n",
    "    traj_idx=TRAJ_IDX,\n",
    "    idx=IDX_PH,\n",
    "    query_gt_pos=False,\n",
    "    split=\"test\",\n",
    "    use_gt_field=False,\n",
    ")"
   ]
  },
  {
   "cell_type": "code",
   "execution_count": null,
   "id": "7d0db39f",
   "metadata": {},
   "outputs": [],
   "source": [
    "ious = []\n",
    "for (GT, rollout) in tqdm(zip(GT_physics, rollout_physics), total=len(GT_physics)):\n",
    "    iou_traj = []\n",
    "    for (GT_pos, rollout_pos) in zip(GT, rollout):\n",
    "        # Calculate IoU for each pair of GT and rollout positions\n",
    "        iou_traj.append(mean_iou(rollout_pos.unsqueeze(0), GT_pos.unsqueeze(0), n_compartments=64, bounding_box=(-0.9, 1.9, -0.9, 1.9)))\n",
    "    ious.append(torch.stack(iou_traj))"
   ]
  },
  {
   "cell_type": "code",
   "execution_count": null,
   "id": "650033e4",
   "metadata": {},
   "outputs": [],
   "source": [
    "ious = torch.stack(ious, dim=0)"
   ]
  },
  {
   "cell_type": "code",
   "execution_count": null,
   "id": "a1ee3b8a",
   "metadata": {},
   "outputs": [],
   "source": [
    "ious.shape"
   ]
  },
  {
   "cell_type": "code",
   "execution_count": null,
   "id": "e5c8d217",
   "metadata": {},
   "outputs": [],
   "source": [
    "ious_mean_16_4 = ious.mean(axis=0)\n",
    "ious_std_16_4 = ious.std(axis=0)\n",
    "print(ious_mean_16_4.shape)"
   ]
  },
  {
   "cell_type": "code",
   "execution_count": null,
   "id": "6a12dd44",
   "metadata": {},
   "outputs": [],
   "source": [
    "plot_means_variances(\n",
    "    ious_mean_16_4.numpy(force=True),\n",
    "    ious_std_16_4.numpy(force=True),\n",
    "    xlabel=\"Rollout Timestep\",\n",
    "    ylabel=\"IoU\",\n",
    "    upper_bound=1.0,\n",
    ")\n",
    "plt.show()"
   ]
  },
  {
   "cell_type": "code",
   "execution_count": null,
   "id": "7d195a3c",
   "metadata": {},
   "outputs": [],
   "source": [
    "ious_mean_16_4.mean()"
   ]
  },
  {
   "cell_type": "code",
   "execution_count": null,
   "id": "7ced66de",
   "metadata": {},
   "outputs": [],
   "source": [
    "ious_mean_8_4.mean()"
   ]
  },
  {
   "cell_type": "code",
   "execution_count": null,
   "id": "52ed2e7e",
   "metadata": {},
   "outputs": [],
   "source": [
    "mean_rollout_iou_16_4 = ious_mean_16_4.mean()"
   ]
  },
  {
   "cell_type": "code",
   "execution_count": null,
   "id": "786461da",
   "metadata": {},
   "outputs": [],
   "source": [
    "# torch.save(ious_mean_16_4, \"D:/Projects/Master/UPT/data/ious/ious_mean_16_4.pth\")\n",
    "# torch.save(ious_std_16_4, \"D:/Projects/Master/UPT/data/ious/ious_std_16_4.pth\")\n",
    "torch.save(mean_rollout_iou_16_4, \"D:/Projects/Master/UPT/data/ious/mean_rollout_iou_16_4.pth\")"
   ]
  },
  {
   "cell_type": "code",
   "execution_count": null,
   "id": "3227e7a1",
   "metadata": {},
   "outputs": [],
   "source": [
    "plot_means_variances(\n",
    "    [ious_mean_8_4[2::2], ious_mean_16_4],\n",
    "    [ious_std_8_4[2::2], ious_std_16_4],\n",
    "    xlabel=\"timestep\",\n",
    "    ylabel=\"IoU\",\n",
    "    labels=\n",
    "    [r\"$n=8,\\, N=4$\", r\"$n=16,\\, N=4$\"],\n",
    "    figsize=(10, 4),\n",
    "    dpi=250,\n",
    "    start_idx=31,\n",
    "    stride=16\n",
    ")"
   ]
  },
  {
   "cell_type": "markdown",
   "id": "7c678374",
   "metadata": {},
   "source": [
    "# Pushforward\n",
    "## 8_2"
   ]
  },
  {
   "cell_type": "code",
   "execution_count": null,
   "id": "8bd9f0d4",
   "metadata": {},
   "outputs": [],
   "source": [
    "cfg          = OmegaConf.load(\n",
    "    Path(\"logs/train/runs/2025-09-11_15-36-08/.hydra/config.yaml\")\n",
    ")\n",
    "\n",
    "# factories\n",
    "latent_model_factory = instantiate(cfg.model.latent_model, _partial_=True)\n",
    "model_factory        = instantiate(cfg.model,            _partial_=True)\n",
    "loss_function        = instantiate(cfg.model.loss_function)\n",
    "\n",
    "lit_model = PhysicsLitModule.load_from_checkpoint(\n",
    "    Path(\"logs/train/runs/2025-09-11_15-36-08/waterdrop_physics/40ts13d5/checkpoints/epoch=26-step=395685.ckpt\"),\n",
    "    latent_model = latent_model_factory,\n",
    "    model        = model_factory,\n",
    "    loss_function= loss_function,\n",
    "    strict       = True,\n",
    "    map_location = \"cuda\"\n",
    ")\n",
    "lit_model.eval()\n",
    "dataset_PH = instantiate(cfg.data)\n",
    "dataset_PH.setup(stage=\"physics\")\n",
    "\n",
    "dataset_PH.test_dataset.rollout = True"
   ]
  },
  {
   "cell_type": "code",
   "execution_count": null,
   "id": "70619438",
   "metadata": {},
   "outputs": [],
   "source": [
    "TRAJ_IDX = list(range(dataset_PH.get_dataset(split=\"test\").n_traj))\n",
    "n_per_traj_PH = dataset_PH.get_dataset(split=\"test\").n_per_traj\n",
    "IDX_PH = [[0]] * len(TRAJ_IDX)"
   ]
  },
  {
   "cell_type": "code",
   "execution_count": null,
   "id": "91fc0c5b",
   "metadata": {},
   "outputs": [],
   "source": [
    "rollout_physics, fields, GT_physics, GT_vel_fields_normalized_physics, MSE_fields_normalized_physics, MSE_Field_latent_physics, propagated_latents = lit_model.rollout_physics(\n",
    "    particle_dm=dataset_PH,\n",
    "    traj_idx=TRAJ_IDX,\n",
    "    idx=IDX_PH,\n",
    "    query_gt_pos=False,\n",
    "    split=\"test\",\n",
    "    use_gt_field=False,\n",
    ")"
   ]
  },
  {
   "cell_type": "code",
   "execution_count": null,
   "id": "61ceab29",
   "metadata": {},
   "outputs": [],
   "source": [
    "ious = []\n",
    "for (GT, rollout) in tqdm(zip(GT_physics, rollout_physics), total=len(GT_physics)):\n",
    "    iou_traj = []\n",
    "    for (GT_pos, rollout_pos) in zip(GT, rollout):\n",
    "        # Calculate IoU for each pair of GT and rollout positions\n",
    "        iou_traj.append(mean_iou(rollout_pos.unsqueeze(0), GT_pos.unsqueeze(0), n_compartments=64, bounding_box=(-0.9, 1.9, -0.9, 1.9)))\n",
    "    ious.append(torch.stack(iou_traj))"
   ]
  },
  {
   "cell_type": "code",
   "execution_count": null,
   "id": "4be3f232",
   "metadata": {},
   "outputs": [],
   "source": [
    "ious = torch.stack(ious, dim=0)"
   ]
  },
  {
   "cell_type": "code",
   "execution_count": null,
   "id": "274ff5d2",
   "metadata": {},
   "outputs": [],
   "source": [
    "ious.shape"
   ]
  },
  {
   "cell_type": "code",
   "execution_count": null,
   "id": "1fe54d18",
   "metadata": {},
   "outputs": [],
   "source": [
    "ious_mean_8_2_pushforward = ious.mean(axis=0)\n",
    "ious_std_8_2_pushforward = ious.std(axis=0)"
   ]
  },
  {
   "cell_type": "code",
   "execution_count": null,
   "id": "ef054e2e",
   "metadata": {},
   "outputs": [],
   "source": [
    "plot_means_variances(\n",
    "    [ious_mean_8_2, ious_mean_8_2_pushforward],\n",
    "    [ious_std_8_2, ious_std_8_2_pushforward],\n",
    "    xlabel=\"timestep\",\n",
    "    ylabel=\"IoU\",\n",
    "    labels=\n",
    "    [\"normal\", \"pushforward\"],\n",
    "    figsize=(10, 4),\n",
    "    dpi=250,\n",
    "    start_idx=15,\n",
    "    stride=8\n",
    ")"
   ]
  },
  {
   "cell_type": "code",
   "execution_count": null,
   "id": "5b1cdc01",
   "metadata": {},
   "outputs": [],
   "source": [
    "print(ious_mean_8_2_pushforward.mean())\n",
    "print(ious_mean_8_2.mean())"
   ]
  },
  {
   "cell_type": "markdown",
   "id": "ae758b73",
   "metadata": {},
   "source": [
    "## 8_4 pushforward"
   ]
  },
  {
   "cell_type": "code",
   "execution_count": null,
   "id": "7fe8698b",
   "metadata": {},
   "outputs": [],
   "source": [
    "cfg          = OmegaConf.load(\n",
    "    Path(\"logs/train/runs/2025-09-13_03-52-00/.hydra/config.yaml\")\n",
    ")\n",
    "\n",
    "# factories\n",
    "latent_model_factory = instantiate(cfg.model.latent_model, _partial_=True)\n",
    "model_factory        = instantiate(cfg.model,            _partial_=True)\n",
    "loss_function        = instantiate(cfg.model.loss_function)\n",
    "\n",
    "lit_model = PhysicsLitModule.load_from_checkpoint(\n",
    "    Path(\"logs/train/runs/2025-09-13_03-52-00/waterdrop_physics/4zj1z3xo/checkpoints/epoch=25-step=374790.ckpt\"),\n",
    "    latent_model = latent_model_factory,\n",
    "    model        = model_factory,\n",
    "    loss_function= loss_function,\n",
    "    strict       = True,\n",
    "    map_location = \"cuda\"\n",
    ")\n",
    "lit_model.eval()\n",
    "dataset_PH = instantiate(cfg.data)\n",
    "dataset_PH.setup(stage=\"physics\")\n",
    "\n",
    "dataset_PH.test_dataset.rollout = True"
   ]
  },
  {
   "cell_type": "code",
   "execution_count": null,
   "id": "a7881806",
   "metadata": {},
   "outputs": [],
   "source": [
    "rollout_physics, fields, GT_physics, GT_vel_fields_normalized_physics, MSE_fields_normalized_physics, MSE_Field_latent_physics, propagated_latents = lit_model.rollout_physics(\n",
    "    particle_dm=dataset_PH,\n",
    "    traj_idx=TRAJ_IDX,\n",
    "    idx=IDX_PH,\n",
    "    query_gt_pos=False,\n",
    "    split=\"test\",\n",
    "    use_gt_field=False,\n",
    ")"
   ]
  },
  {
   "cell_type": "code",
   "execution_count": null,
   "id": "ddf6ffb5",
   "metadata": {},
   "outputs": [],
   "source": [
    "ious = []\n",
    "for (GT, rollout) in tqdm(zip(GT_physics, rollout_physics), total=len(GT_physics)):\n",
    "    iou_traj = []\n",
    "    for (GT_pos, rollout_pos) in zip(GT, rollout):\n",
    "        # Calculate IoU for each pair of GT and rollout positions\n",
    "        iou_traj.append(mean_iou(rollout_pos.unsqueeze(0), GT_pos.unsqueeze(0), n_compartments=64, bounding_box=(-0.9, 1.9, -0.9, 1.9)))\n",
    "    ious.append(torch.stack(iou_traj))"
   ]
  },
  {
   "cell_type": "code",
   "execution_count": null,
   "id": "2e3a5b88",
   "metadata": {},
   "outputs": [],
   "source": [
    "ious = torch.stack(ious, dim=0)"
   ]
  },
  {
   "cell_type": "code",
   "execution_count": null,
   "id": "9bda0571",
   "metadata": {},
   "outputs": [],
   "source": [
    "ious_mean_8_4_pushforward = ious.mean(axis=0)\n",
    "ious_std_8_4_pushforward = ious.std(axis=0)"
   ]
  },
  {
   "cell_type": "code",
   "execution_count": null,
   "id": "de8db39f",
   "metadata": {},
   "outputs": [],
   "source": [
    "print(ious_mean_8_2_pushforward.mean())\n",
    "print(ious_mean_8_2.mean())\n",
    "print(ious_mean_8_4_pushforward.mean())\n",
    "print(ious_mean_8_4.mean())"
   ]
  },
  {
   "cell_type": "code",
   "execution_count": null,
   "id": "bcf348d8",
   "metadata": {},
   "outputs": [],
   "source": []
  },
  {
   "cell_type": "code",
   "execution_count": null,
   "id": "32089cb5",
   "metadata": {},
   "outputs": [],
   "source": []
  },
  {
   "cell_type": "markdown",
   "id": "c3d0d71a",
   "metadata": {},
   "source": [
    "# Displacement"
   ]
  },
  {
   "cell_type": "code",
   "execution_count": null,
   "id": "70266cd9",
   "metadata": {},
   "outputs": [],
   "source": [
    "cfg          = OmegaConf.load(\n",
    "    Path(\"logs/train/runs/2025-09-10_23-31-52/.hydra/config.yaml\")\n",
    ")\n",
    "\n",
    "# factories\n",
    "latent_model_factory = instantiate(cfg.model.latent_model, _partial_=True)\n",
    "model_factory        = instantiate(cfg.model,            _partial_=True)\n",
    "loss_function        = instantiate(cfg.model.loss_function)\n",
    "\n",
    "lit_model = PhysicsLitModule.load_from_checkpoint(\n",
    "    Path(\"logs/train/runs/2025-09-10_23-31-52/waterdrop_physics/ft1skpra/checkpoints/epoch=24-step=360375.ckpt\"),\n",
    "    latent_model = latent_model_factory,\n",
    "    model        = model_factory,\n",
    "    loss_function= loss_function,\n",
    "    strict       = True,\n",
    "    map_location = \"cuda\"\n",
    ")\n",
    "lit_model.eval()\n",
    "dataset_PH = instantiate(cfg.data)\n",
    "dataset_PH.setup(stage=\"physics\")\n",
    "\n",
    "dataset_PH.test_dataset.rollout = True"
   ]
  },
  {
   "cell_type": "code",
   "execution_count": null,
   "id": "72eadf0a",
   "metadata": {},
   "outputs": [],
   "source": [
    "TRAJ_IDX = list(range(dataset_PH.get_dataset(split=\"test\").n_traj))\n",
    "n_per_traj_PH = dataset_PH.get_dataset(split=\"test\").n_per_traj\n",
    "IDX_PH = [[0]] * len(TRAJ_IDX)"
   ]
  },
  {
   "cell_type": "code",
   "execution_count": null,
   "id": "9e4278e7",
   "metadata": {},
   "outputs": [],
   "source": [
    "rollout_physics, fields, GT_physics, GT_vel_fields_normalized_physics, MSE_fields_normalized_physics, MSE_Field_latent_physics, propagated_latents = lit_model.rollout_physics(\n",
    "    particle_dm=dataset_PH,\n",
    "    traj_idx=TRAJ_IDX,\n",
    "    idx=IDX_PH,\n",
    "    query_gt_pos=False,\n",
    "    split=\"test\",\n",
    "    use_gt_field=False,\n",
    ")"
   ]
  },
  {
   "cell_type": "code",
   "execution_count": null,
   "id": "a795c26e",
   "metadata": {},
   "outputs": [],
   "source": [
    "ious = []\n",
    "for (GT, rollout) in tqdm(zip(GT_physics, rollout_physics), total=len(GT_physics)):\n",
    "    iou_traj = []\n",
    "    for (GT_pos, rollout_pos) in zip(GT, rollout):\n",
    "        # Calculate IoU for each pair of GT and rollout positions\n",
    "        iou_traj.append(mean_iou(rollout_pos.unsqueeze(0), GT_pos.unsqueeze(0), n_compartments=64, bounding_box=(-0.9, 1.9, -0.9, 1.9)))\n",
    "    ious.append(torch.stack(iou_traj))"
   ]
  },
  {
   "cell_type": "code",
   "execution_count": null,
   "id": "38997d31",
   "metadata": {},
   "outputs": [],
   "source": [
    "ious = torch.stack(ious, dim=0)"
   ]
  },
  {
   "cell_type": "code",
   "execution_count": null,
   "id": "f5476cab",
   "metadata": {},
   "outputs": [],
   "source": [
    "ious.shape"
   ]
  },
  {
   "cell_type": "code",
   "execution_count": null,
   "id": "1a8b7156",
   "metadata": {},
   "outputs": [],
   "source": [
    "ious_mean_8_4_displacement = ious.mean(axis=0)\n",
    "ious_std_8_4_displacement = ious.std(axis=0)\n",
    "print(ious_mean_8_4_displacement.shape)"
   ]
  },
  {
   "cell_type": "code",
   "execution_count": null,
   "id": "d15720c2",
   "metadata": {},
   "outputs": [],
   "source": [
    "plot_means_variances(\n",
    "    ious_mean_8_4_displacement.numpy(force=True),\n",
    "    ious_std_8_4_displacement.numpy(force=True),\n",
    "    xlabel=\"Rollout Timestep\",\n",
    "    ylabel=\"IoU\",\n",
    "    upper_bound=1.0,\n",
    ")\n",
    "plt.show()"
   ]
  },
  {
   "cell_type": "code",
   "execution_count": null,
   "id": "1b84f9c3",
   "metadata": {},
   "outputs": [],
   "source": [
    "plot_means_variances(\n",
    "    [ious_mean_8_4, ious_mean_8_4_displacement],\n",
    "    [ious_std_8_4, ious_std_8_4_displacement],\n",
    "    xlabel=\"timestep\",\n",
    "    ylabel=\"IoU\",\n",
    "    labels=\n",
    "    [\"velocity\", \"displacement\"],\n",
    "    figsize=(10, 4),\n",
    "    dpi=250,\n",
    "    start_idx=15,\n",
    "    stride=8\n",
    ")"
   ]
  },
  {
   "cell_type": "code",
   "execution_count": null,
   "id": "8d4ba8bd",
   "metadata": {},
   "outputs": [],
   "source": [
    "print(ious_mean_8_4_displacement.mean())\n",
    "print(ious_mean_8_4.mean())"
   ]
  },
  {
   "cell_type": "code",
   "execution_count": null,
   "id": "57ce62c6",
   "metadata": {},
   "outputs": [],
   "source": [
    "ani = animate(\n",
    "    rollout_physics[0],\n",
    "    ground_truth=GT_physics[0],\n",
    "    ref_frame=((0, 1), (0, 1)),\n",
    "    start_idx=16,\n",
    "    n_skip_ahead_timesteps=8\n",
    ")\n",
    "HTML(ani.to_jshtml())"
   ]
  },
  {
   "cell_type": "code",
   "execution_count": null,
   "id": "ad23e2a1",
   "metadata": {},
   "outputs": [],
   "source": [
    "ani = animate(\n",
    "    rollout_physics[1],\n",
    "    ground_truth=GT_physics[1],\n",
    "    ref_frame=((0, 1), (0, 1)),\n",
    "    start_idx=16,\n",
    "    n_skip_ahead_timesteps=8\n",
    ")\n",
    "HTML(ani.to_jshtml())"
   ]
  },
  {
   "cell_type": "code",
   "execution_count": null,
   "id": "b4cbe46f",
   "metadata": {},
   "outputs": [],
   "source": [
    "ani = animate(\n",
    "    rollout_physics[2],\n",
    "    ground_truth=GT_physics[2],\n",
    "    ref_frame=((0, 1), (0, 1)),\n",
    "    start_idx=16,\n",
    "    n_skip_ahead_timesteps=8\n",
    ")\n",
    "HTML(ani.to_jshtml())"
   ]
  },
  {
   "cell_type": "code",
   "execution_count": null,
   "id": "6166cde0",
   "metadata": {},
   "outputs": [],
   "source": [
    "ani = animate(\n",
    "    rollout_physics[3],\n",
    "    ground_truth=GT_physics[3],\n",
    "    ref_frame=((0, 1), (0, 1)),\n",
    "    start_idx=16,\n",
    "    n_skip_ahead_timesteps=8\n",
    ")\n",
    "HTML(ani.to_jshtml())"
   ]
  },
  {
   "cell_type": "code",
   "execution_count": null,
   "id": "d22dbfa0",
   "metadata": {},
   "outputs": [],
   "source": [
    "ani = animate(\n",
    "    rollout_physics[4],\n",
    "    ground_truth=GT_physics[4],\n",
    "    ref_frame=((0, 1), (0, 1)),\n",
    "    start_idx=16,\n",
    "    n_skip_ahead_timesteps=8\n",
    ")\n",
    "HTML(ani.to_jshtml())"
   ]
  },
  {
   "cell_type": "markdown",
   "id": "9e754f09",
   "metadata": {},
   "source": [
    "# Model size"
   ]
  },
  {
   "cell_type": "code",
   "execution_count": null,
   "id": "2335b42e",
   "metadata": {},
   "outputs": [],
   "source": [
    "cfg          = OmegaConf.load(\n",
    "    Path(\"logs/train/runs/2025-09-12_18-29-07/.hydra/config.yaml\")\n",
    ")\n",
    "\n",
    "# factories\n",
    "latent_model_factory = instantiate(cfg.model.latent_model, _partial_=True)\n",
    "model_factory        = instantiate(cfg.model,            _partial_=True)\n",
    "loss_function        = instantiate(cfg.model.loss_function)\n",
    "\n",
    "lit_model = PhysicsLitModule.load_from_checkpoint(\n",
    "    Path(\"logs/train/runs/2025-09-12_18-29-07/waterdrop_physics/9odrn4lu/checkpoints/epoch=27-step=403620.ckpt\"),\n",
    "    latent_model = latent_model_factory,\n",
    "    model        = model_factory,\n",
    "    loss_function= loss_function,\n",
    "    strict       = True,\n",
    "    map_location = \"cuda\"\n",
    ")\n",
    "lit_model.eval()\n",
    "dataset_PH = instantiate(cfg.data)\n",
    "dataset_PH.setup(stage=\"physics\")\n",
    "\n",
    "dataset_PH.test_dataset.rollout = True"
   ]
  },
  {
   "cell_type": "code",
   "execution_count": null,
   "id": "213d3a91",
   "metadata": {},
   "outputs": [],
   "source": [
    "TRAJ_IDX = list(range(dataset_PH.get_dataset(split=\"test\").n_traj))\n",
    "n_per_traj_PH = dataset_PH.get_dataset(split=\"test\").n_per_traj\n",
    "IDX_PH = [[0]] * len(TRAJ_IDX)"
   ]
  },
  {
   "cell_type": "code",
   "execution_count": null,
   "id": "69e6f5a6",
   "metadata": {},
   "outputs": [],
   "source": [
    "rollout_physics, fields, GT_physics, GT_vel_fields_normalized_physics, MSE_fields_normalized_physics, MSE_Field_latent_physics, propagated_latents = lit_model.rollout_physics(\n",
    "    particle_dm=dataset_PH,\n",
    "    traj_idx=TRAJ_IDX,\n",
    "    idx=IDX_PH,\n",
    "    query_gt_pos=False,\n",
    "    split=\"test\",\n",
    "    use_gt_field=False,\n",
    ")"
   ]
  },
  {
   "cell_type": "code",
   "execution_count": null,
   "id": "9c312a4c",
   "metadata": {},
   "outputs": [],
   "source": [
    "ious = []\n",
    "for (GT, rollout) in tqdm(zip(GT_physics, rollout_physics), total=len(GT_physics)):\n",
    "    iou_traj = []\n",
    "    for (GT_pos, rollout_pos) in zip(GT, rollout):\n",
    "        # Calculate IoU for each pair of GT and rollout positions\n",
    "        iou_traj.append(mean_iou(rollout_pos.unsqueeze(0), GT_pos.unsqueeze(0), n_compartments=64, bounding_box=(-0.9, 1.9, -0.9, 1.9)))\n",
    "    ious.append(torch.stack(iou_traj))"
   ]
  },
  {
   "cell_type": "code",
   "execution_count": null,
   "id": "ebf3c46d",
   "metadata": {},
   "outputs": [],
   "source": [
    "ious = torch.stack(ious, dim=0)"
   ]
  },
  {
   "cell_type": "code",
   "execution_count": null,
   "id": "3dccb3e4",
   "metadata": {},
   "outputs": [],
   "source": [
    "ious.shape"
   ]
  },
  {
   "cell_type": "code",
   "execution_count": null,
   "id": "628119c4",
   "metadata": {},
   "outputs": [],
   "source": [
    "ious_mean_8_4_tiny = ious.mean(axis=0)\n",
    "ious_std_8_4_tiny = ious.std(axis=0)\n",
    "print(ious_mean_8_4_tiny.shape)"
   ]
  },
  {
   "cell_type": "code",
   "execution_count": null,
   "id": "77a0cf95",
   "metadata": {},
   "outputs": [],
   "source": [
    "plot_means_variances(\n",
    "    ious_mean_8_4_tiny,\n",
    "    ious_std_8_4_tiny,\n",
    "    xlabel=\"Rollout Timestep\",\n",
    "    ylabel=\"IoU\",\n",
    "    upper_bound=1.0,\n",
    ")\n",
    "plt.show()"
   ]
  },
  {
   "cell_type": "code",
   "execution_count": null,
   "id": "6dc4ca33",
   "metadata": {},
   "outputs": [],
   "source": [
    "plot_means_variances(\n",
    "    [ious_mean_8_4, ious_mean_8_4_tiny],\n",
    "    [ious_std_8_4, ious_std_8_4_tiny],\n",
    "    xlabel=\"timestep\",\n",
    "    ylabel=\"IoU\",\n",
    "    labels=\n",
    "    [\"baseline\", \"tiny\"],\n",
    "    figsize=(10, 4),\n",
    "    dpi=250,\n",
    "    start_idx=15,\n",
    "    stride=8\n",
    ")"
   ]
  },
  {
   "cell_type": "code",
   "execution_count": null,
   "id": "16980b2d",
   "metadata": {},
   "outputs": [],
   "source": [
    "import matplotlib.ticker as mtick\n",
    "\n",
    "x = np.array([0, 1], dtype=float)\n",
    "y = np.array([ious_mean_8_4_tiny.mean(), ious_mean_8_4.mean()], dtype=float)\n",
    "params = np.array([num_params_tiny, num_params], dtype=float)\n",
    "\n",
    "# Bubble area scaling (points^2)\n",
    "target_max_area = 1500.0\n",
    "scale = params.max() / target_max_area\n",
    "sizes = params / scale\n",
    "\n",
    "fig, ax = plt.subplots(figsize=(7.5, 5), dpi=200)\n",
    "\n",
    "# Scatter as true circles\n",
    "ax.scatter(x, y, s=sizes, marker='o', alpha=0.75)\n",
    "\n",
    "# Axes formatting\n",
    "ax.set_xticks(x)\n",
    "ax.set_xticklabels([f\"Tiny (~{num_params_tiny/1e6:.1f}M)\", f\"Big (~{num_params/1e6:.1f}M)\"])\n",
    "ax.set_ylabel(\"Mean IoU\")\n",
    "ax.set_title(\"Model Size vs. Performance (mIoU)\")\n",
    "ax.grid(True, axis=\"y\", linestyle=\"--\", linewidth=0.6, alpha=0.7)\n",
    "ax.yaxis.set_major_formatter(mtick.FormatStrFormatter('%.3f'))\n",
    "ax.set_ylim(min(y)-0.02, max(y)+0.02)\n",
    "\n",
    "# Annotate values\n",
    "for xi, yi in zip(x, y):\n",
    "    ax.annotate(f\"{yi:.3f}\", (xi, yi), xytext=(0, 10),\n",
    "                textcoords=\"offset points\", ha=\"center\", va=\"bottom\")\n",
    "\n",
    "# ---- Legend: scale bubbles to fit neatly ----\n",
    "legend_params = np.array([5e6, 25e6])\n",
    "# Desired max area inside legend (points^2)\n",
    "legend_max_area = 400.0\n",
    "s_max = sizes.max()  # equals target_max_area\n",
    "legend_scale = np.sqrt(legend_max_area / s_max)\n",
    "legend_sizes = (legend_params / scale) * (legend_scale**2)\n",
    "legend_labels = [f\"{p/1e6:.0f}M params\" for p in legend_params]\n",
    "\n",
    "legend_handles = [ax.scatter([], [], s=s, marker='o', alpha=0.75, label=lab)\n",
    "                  for s, lab in zip(legend_sizes, legend_labels)]\n",
    "\n",
    "ax.legend(handles=legend_handles, title=\"Parameters (circle area)\",\n",
    "          frameon=True, loc=\"lower right\", borderpad=0.8, handletextpad=0.8)\n",
    "\n",
    "plt.tight_layout()"
   ]
  },
  {
   "cell_type": "code",
   "execution_count": null,
   "id": "9958575c",
   "metadata": {},
   "outputs": [],
   "source": [
    "print(ious_mean_8_4_tiny.mean())\n",
    "print(ious_mean_8_4.mean())"
   ]
  },
  {
   "cell_type": "code",
   "execution_count": null,
   "id": "ea1ce5c8",
   "metadata": {},
   "outputs": [],
   "source": [
    "num_params_tiny = sum(p.numel() for p in lit_model.parameters())\n",
    "num_params_tiny_latent = sum(p.numel() for p in lit_model.latent_model.parameters())\n",
    "num_params_tiny_AE = num_params_tiny - num_params_tiny_latent"
   ]
  },
  {
   "cell_type": "code",
   "execution_count": null,
   "id": "21328f5f",
   "metadata": {},
   "outputs": [],
   "source": [
    "print(num_params)\n",
    "print(num_params_latent)\n",
    "print(num_params_AE)"
   ]
  },
  {
   "cell_type": "code",
   "execution_count": null,
   "id": "c6fa5911",
   "metadata": {},
   "outputs": [],
   "source": [
    "print(num_params_tiny)\n",
    "print(num_params_tiny_latent)\n",
    "print(num_params_tiny_AE)"
   ]
  },
  {
   "cell_type": "code",
   "execution_count": null,
   "id": "d388f259",
   "metadata": {},
   "outputs": [],
   "source": [
    "ani = animate(\n",
    "    rollout_physics[0],\n",
    "    ground_truth=GT_physics[0],\n",
    "    ref_frame=((0, 1), (0, 1)),\n",
    "    start_idx=16,\n",
    "    n_skip_ahead_timesteps=8\n",
    ")\n",
    "HTML(ani.to_jshtml())"
   ]
  },
  {
   "cell_type": "code",
   "execution_count": null,
   "id": "fed62959",
   "metadata": {},
   "outputs": [],
   "source": [
    "ani = animate(\n",
    "    rollout_physics[1],\n",
    "    ground_truth=GT_physics[1],\n",
    "    ref_frame=((0, 1), (0, 1)),\n",
    "    start_idx=16,\n",
    "    n_skip_ahead_timesteps=8\n",
    ")\n",
    "HTML(ani.to_jshtml())"
   ]
  },
  {
   "cell_type": "code",
   "execution_count": null,
   "id": "c7a5d458",
   "metadata": {},
   "outputs": [],
   "source": [
    "ani = animate(\n",
    "    rollout_physics[2],\n",
    "    ground_truth=GT_physics[2],\n",
    "    ref_frame=((0, 1), (0, 1)),\n",
    "    start_idx=16,\n",
    "    n_skip_ahead_timesteps=8\n",
    ")\n",
    "HTML(ani.to_jshtml())"
   ]
  },
  {
   "cell_type": "code",
   "execution_count": null,
   "id": "504b66ce",
   "metadata": {},
   "outputs": [],
   "source": [
    "x = np.array([0.7183, 1.4725], dtype=float)\n",
    "xerr = np.array([0.1796, 0.2687], dtype=float)\n",
    "y = np.array([ious_mean_8_4_tiny.mean(), ious_mean_8_4.mean()], dtype=float)\n",
    "params = np.array([num_params_tiny, num_params], dtype=float)\n",
    "labels = [f\"Tiny (~{num_params_tiny/1e6:.1f}M)\", f\"Baseline (~{num_params/1e6:.1f}M)\"]\n",
    "\n",
    "# Bubble sizing\n",
    "target_max_area = 1500.0\n",
    "scale = params.max() / target_max_area\n",
    "sizes = params / scale\n",
    "\n",
    "fig, ax = plt.subplots(figsize=(7.5, 5), dpi=200)\n",
    "\n",
    "# Horizontal error bars with T-shaped caps\n",
    "ax.errorbar(\n",
    "    x, y, xerr=xerr,\n",
    "    fmt='none',\n",
    "    capsize=7,        # length of the cap \"handles\"\n",
    "    capthick=1.2,     # thickness of the cap lines\n",
    "    elinewidth=1.2,   # thickness of the error bar line\n",
    "    alpha=0.9,\n",
    "    zorder=1\n",
    ")\n",
    "\n",
    "# Circles\n",
    "ax.scatter(x, y, s=sizes, marker='o', alpha=0.8, zorder=2)\n",
    "\n",
    "# Annotations\n",
    "for xi, yi, lab in zip(x, y, labels):\n",
    "    ax.annotate(lab, (xi, yi), xytext=(0, -14), textcoords=\"offset points\", ha=\"center\", va=\"top\")\n",
    "    ax.annotate(f\"mIoU={yi:.3f}\", (xi, yi), xytext=(0, 12), textcoords=\"offset points\", ha=\"center\", va=\"bottom\")\n",
    "\n",
    "# Axes\n",
    "ax.set_xlabel(\"Rollout time (s) — error bars show ±1 SD\")\n",
    "ax.set_ylabel(\"Mean IoU\")\n",
    "ax.set_title(\"Speed–Accuracy–Size Trade-off\")\n",
    "\n",
    "ax.set_ylim(min(y) - 0.02, max(y) + 0.02)\n",
    "ax.yaxis.set_major_formatter(mtick.FormatStrFormatter('%.3f'))\n",
    "\n",
    "xmin = (x - xerr).min()\n",
    "xmax = (x + xerr).max()\n",
    "pad = 0.06 * (xmax - xmin)\n",
    "ax.set_xlim(xmin - pad, xmax + pad)\n",
    "\n",
    "ax.grid(True, axis=\"both\", linestyle=\"--\", linewidth=0.6, alpha=0.7)\n",
    "\n",
    "# Legend for parameter sizes (scaled for legend box)\n",
    "legend_params = np.array([5e6, 25e6])\n",
    "legend_max_area = 400.0\n",
    "s_max = sizes.max()\n",
    "legend_scale = np.sqrt(legend_max_area / s_max)\n",
    "legend_sizes = (legend_params / scale) * (legend_scale**2)\n",
    "legend_labels = [f\"{p/1e6:.0f}M params\" for p in legend_params]\n",
    "legend_handles = [ax.scatter([], [], s=s, marker='o', alpha=0.8, label=lab)\n",
    "                  for s, lab in zip(legend_sizes, legend_labels)]\n",
    "ax.legend(handles=legend_handles, title=\"Parameters (circle area)\",\n",
    "          frameon=True, loc=\"lower right\", borderpad=0.8, handletextpad=0.8)\n",
    "\n",
    "plt.tight_layout()"
   ]
  },
  {
   "cell_type": "markdown",
   "id": "72a63b34",
   "metadata": {},
   "source": [
    "# Acceleration field"
   ]
  },
  {
   "cell_type": "code",
   "execution_count": null,
   "id": "561538d4",
   "metadata": {},
   "outputs": [],
   "source": [
    "cfg          = OmegaConf.load(\n",
    "    Path(\"logs/train/runs/2025-09-16_22-54-49/.hydra/config.yaml\")\n",
    ")\n",
    "\n",
    "# factories\n",
    "latent_model_factory = instantiate(cfg.model.latent_model, _partial_=True)\n",
    "model_factory        = instantiate(cfg.model,            _partial_=True)\n",
    "loss_function        = instantiate(cfg.model.loss_function)\n",
    "\n",
    "lit_model = PhysicsLitModule.load_from_checkpoint(\n",
    "    Path(\"logs/train/runs/2025-09-16_22-54-49/waterdrop_physics/h436l13d/checkpoints/epoch=24-step=360000.ckpt\"),\n",
    "    latent_model = latent_model_factory,\n",
    "    model        = model_factory,\n",
    "    loss_function= loss_function,\n",
    "    strict       = True,\n",
    "    map_location = \"cuda\"\n",
    ")\n",
    "lit_model.eval()\n",
    "dataset_PH = instantiate(cfg.data)\n",
    "dataset_PH.setup(stage=\"physics\")\n",
    "\n",
    "dataset_PH.test_dataset.rollout = True"
   ]
  },
  {
   "cell_type": "code",
   "execution_count": null,
   "id": "2a4ed812",
   "metadata": {},
   "outputs": [],
   "source": [
    "TRAJ_IDX = list(range(dataset_PH.get_dataset(split=\"test\").n_traj))\n",
    "n_per_traj_PH = dataset_PH.get_dataset(split=\"test\").n_per_traj\n",
    "IDX_PH = [[0]] * len(TRAJ_IDX)"
   ]
  },
  {
   "cell_type": "code",
   "execution_count": null,
   "id": "c742afa9",
   "metadata": {},
   "outputs": [],
   "source": [
    "rollout_physics, fields, GT_physics, GT_vel_fields_normalized_physics, MSE_fields_normalized_physics, MSE_Field_latent_physics, propagated_latents = lit_model.rollout_physics(\n",
    "    particle_dm=dataset_PH,\n",
    "    traj_idx=TRAJ_IDX,\n",
    "    idx=IDX_PH,\n",
    "    query_gt_pos=False,\n",
    "    split=\"test\",\n",
    "    use_gt_field=False,\n",
    ")"
   ]
  },
  {
   "cell_type": "code",
   "execution_count": null,
   "id": "80a7b6ef",
   "metadata": {},
   "outputs": [],
   "source": [
    "ious = []\n",
    "for (GT, rollout) in tqdm(zip(GT_physics, rollout_physics), total=len(GT_physics)):\n",
    "    iou_traj = []\n",
    "    for (GT_pos, rollout_pos) in zip(GT, rollout):\n",
    "        # Calculate IoU for each pair of GT and rollout positions\n",
    "        iou_traj.append(mean_iou(rollout_pos.unsqueeze(0), GT_pos.unsqueeze(0), n_compartments=64, bounding_box=(-0.9, 1.9, -0.9, 1.9)))\n",
    "    ious.append(torch.stack(iou_traj))"
   ]
  },
  {
   "cell_type": "code",
   "execution_count": null,
   "id": "050bb928",
   "metadata": {},
   "outputs": [],
   "source": [
    "ious = torch.stack(ious, dim=0)"
   ]
  },
  {
   "cell_type": "code",
   "execution_count": null,
   "id": "5c171d28",
   "metadata": {},
   "outputs": [],
   "source": [
    "ious.shape"
   ]
  },
  {
   "cell_type": "code",
   "execution_count": null,
   "id": "3f9f2a90",
   "metadata": {},
   "outputs": [],
   "source": [
    "ious_mean_8_4_acceleration = ious.mean(axis=0)\n",
    "ious_std_8_4_acceleration = ious.std(axis=0)\n",
    "print(ious_mean_8_4_acceleration.shape)"
   ]
  },
  {
   "cell_type": "code",
   "execution_count": null,
   "id": "51f1e79e",
   "metadata": {},
   "outputs": [],
   "source": [
    "plot_means_variances(\n",
    "    ious_mean_8_4_acceleration,\n",
    "    ious_std_8_4_acceleration,\n",
    "    xlabel=\"Rollout Timestep\",\n",
    "    ylabel=\"IoU\",\n",
    "    upper_bound=1.0,\n",
    ")\n",
    "plt.show()"
   ]
  },
  {
   "cell_type": "code",
   "execution_count": null,
   "id": "a9a3075e",
   "metadata": {},
   "outputs": [],
   "source": [
    "print(ious_mean_8_4_acceleration.mean())"
   ]
  },
  {
   "cell_type": "code",
   "execution_count": null,
   "id": "3d9bdb67",
   "metadata": {},
   "outputs": [],
   "source": [
    "ani = animate(\n",
    "    rollout_physics[1],\n",
    "    ground_truth=GT_physics[1],\n",
    "    ref_frame=((0, 1), (0, 1)),\n",
    "    start_idx=16,\n",
    "    n_skip_ahead_timesteps=8\n",
    ")\n",
    "HTML(ani.to_jshtml())"
   ]
  },
  {
   "cell_type": "code",
   "execution_count": null,
   "id": "69c7b531",
   "metadata": {},
   "outputs": [],
   "source": [
    "ani = animate(\n",
    "    rollout_physics[2],\n",
    "    ground_truth=GT_physics[2],\n",
    "    ref_frame=((0, 1), (0, 1)),\n",
    "    start_idx=16,\n",
    "    n_skip_ahead_timesteps=8\n",
    ")\n",
    "HTML(ani.to_jshtml())"
   ]
  },
  {
   "cell_type": "code",
   "execution_count": null,
   "id": "6ff9058d",
   "metadata": {},
   "outputs": [],
   "source": [
    "plot_means_variances(\n",
    "    [ious_mean_8_4, ious_mean_8_4_acceleration],\n",
    "    [ious_std_8_4, ious_std_8_4_acceleration],\n",
    "    xlabel=\"timestep\",\n",
    "    ylabel=\"IoU\",\n",
    "    labels=\n",
    "    [\"velocity\", \"acceleration\"],\n",
    "    figsize=(10, 4),\n",
    "    dpi=250,\n",
    "    start_idx=15,\n",
    "    stride=8\n",
    ")"
   ]
  },
  {
   "cell_type": "code",
   "execution_count": null,
   "id": "a362020a",
   "metadata": {},
   "outputs": [],
   "source": [
    "len(ious_mean_8_4_acceleration)"
   ]
  },
  {
   "cell_type": "code",
   "execution_count": null,
   "id": "7471e1be",
   "metadata": {},
   "outputs": [],
   "source": []
  }
 ],
 "metadata": {
  "kernelspec": {
   "display_name": "UPT",
   "language": "python",
   "name": "python3"
  },
  "language_info": {
   "codemirror_mode": {
    "name": "ipython",
    "version": 3
   },
   "file_extension": ".py",
   "mimetype": "text/x-python",
   "name": "python",
   "nbconvert_exporter": "python",
   "pygments_lexer": "ipython3",
   "version": "3.10.13"
  }
 },
 "nbformat": 4,
 "nbformat_minor": 5
}
