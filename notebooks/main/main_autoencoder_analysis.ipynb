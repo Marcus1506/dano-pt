{
 "cells": [
  {
   "cell_type": "code",
   "execution_count": null,
   "id": "ba030cb2",
   "metadata": {},
   "outputs": [],
   "source": [
    "from omegaconf import OmegaConf\n",
    "from hydra.core.global_hydra import GlobalHydra\n",
    "from hydra.utils import instantiate\n",
    "from src.models.autoencoder import AutoencoderLitModule\n",
    "from src.models.physics import PhysicsLitModule\n",
    "from src.utils import animate\n",
    "\n",
    "import os\n",
    "import sys\n",
    "from IPython.display import HTML\n",
    "from tqdm import tqdm\n",
    "import torch\n",
    "from torch_geometric.data import Data\n",
    "import numpy as np\n",
    "import matplotlib\n",
    "import matplotlib.pyplot as plt\n",
    "import matplotlib.animation as animation\n",
    "matplotlib.rcParams['animation.embed_limit'] = 400  # set 100 MB limit for animations\n",
    "\n",
    "import numpy as np\n",
    "import einops\n",
    "from functools import partial\n",
    "from src.datasets.particle_datamodule import ParticleDataModule\n",
    "from src.callbacks.metrics import MetricsCallback\n",
    "\n",
    "GlobalHydra.instance().clear()\n",
    "\n",
    "os.environ[\"PROJECT_ROOT\"] = os.path.abspath(\".\")"
   ]
  },
  {
   "cell_type": "code",
   "execution_count": null,
   "id": "1d4609ea",
   "metadata": {},
   "outputs": [],
   "source": [
    "def plot_metric(mse, title: str, log: bool = False):\n",
    "    plt.clf()\n",
    "    fig, ax = plt.subplots(figsize=(10, 5))\n",
    "    ax.plot(mse, label='Metric')\n",
    "    ax.set_xlabel('Timestep')\n",
    "    ax.set_ylabel('Metric')\n",
    "    ax.set_title(f\"{title} Metric Over Time\")\n",
    "    ax.legend()\n",
    "    if log: ax.set_yscale('log')\n",
    "    plt.tight_layout()\n",
    "    plt.show()\n",
    "\n",
    "def plot_two_series(y1: np.ndarray,\n",
    "                    y2: np.ndarray,\n",
    "                    labels=('Series 1', 'Series 2'),\n",
    "                    xlabel: str = 'Index',\n",
    "                    ylabel: str = 'Value',\n",
    "                    title: str = 'Two Series on One Plot',\n",
    "                    log: bool = False) -> None:\n",
    "    \"\"\"\n",
    "    Plots two same-length sequences/arrays on the same axes.\n",
    "\n",
    "    Parameters\n",
    "    ----------\n",
    "    y1 : np.ndarray\n",
    "        First data series (plotted in default style).\n",
    "    y2 : np.ndarray\n",
    "        Second data series (plotted in dashed style).\n",
    "    labels : tuple of str, optional\n",
    "        Labels for the two series (default ('Series 1', 'Series 2')).\n",
    "    xlabel : str, optional\n",
    "        Label for the x-axis (default 'Index').\n",
    "    ylabel : str, optional\n",
    "        Label for the y-axis (default 'Value').\n",
    "    title : str, optional\n",
    "        Title of the plot (default 'Two Series on One Plot').\n",
    "\n",
    "    Raises\n",
    "    ------\n",
    "    ValueError\n",
    "        If y1 and y2 are not the same length.\n",
    "    \"\"\"\n",
    "    if len(y1) != len(y2):\n",
    "        raise ValueError(f\"Input arrays must have the same length; got {len(y1)} and {len(y2)}\")\n",
    "\n",
    "    x = np.arange(len(y1))              # common x-axis\n",
    "    plt.figure()                        # new figure\n",
    "    plt.plot(x, y1, label=labels[0])    # first series\n",
    "    plt.plot(x, y2, label=labels[1])  # second series with dashed line\n",
    "    plt.xlabel(xlabel)                  # x-axis label\n",
    "    plt.ylabel(ylabel)                  # y-axis label\n",
    "    plt.title(title)                    # plot title\n",
    "    plt.legend()                        # show legend\n",
    "    plt.grid(True)                      # optional grid\n",
    "    if log: plt.yscale('log')           # set y-axis to logarithmic scale if requested\n",
    "    plt.tight_layout()                  # nicely fit elements\n",
    "    plt.show()                          # display\n",
    "\n",
    "def compute_mse(preds, targets):\n",
    "    preds = einops.rearrange(preds, 't n c -> t (n c)')\n",
    "    targets = einops.rearrange(targets, 't n c -> t (n c)')\n",
    "    mse = torch.mean((preds - targets) ** 2, dim=1).cpu().numpy()\n",
    "    return mse"
   ]
  },
  {
   "cell_type": "markdown",
   "id": "8b05f5b7",
   "metadata": {},
   "source": [
    "# n_fields = 4"
   ]
  },
  {
   "cell_type": "code",
   "execution_count": null,
   "id": "611e16a2",
   "metadata": {},
   "outputs": [],
   "source": [
    "cfg = OmegaConf.load(\"logs/train/runs/2025-08-11_21-39-53/.hydra/config.yaml\")\n",
    "model = instantiate(cfg.model)\n",
    "net = instantiate(cfg.model.model)\n",
    "loss_function = instantiate(cfg.model.loss_function)\n",
    "model = AutoencoderLitModule.load_from_checkpoint(\n",
    "    checkpoint_path=\"logs/train/runs/2025-08-11_21-39-53/waterdrop/kku6jcey/checkpoints/epoch=28-step=433695.ckpt\",\n",
    "    model=net,\n",
    "    loss_function=loss_function\n",
    ")\n",
    "model.eval()\n",
    "model.to(\"cuda\")\n",
    "dataset_AE = instantiate(cfg.data)\n",
    "dataset_AE.setup(stage=\"autoencoder\")\n",
    "dataset_AE.shuffle = False\n",
    "dataset_AE.batch_size = 1\n",
    "dataset_AE.num_workers = 0\n",
    "dataset_AE.pin_memory = False\n",
    "dataset_AE.persistent_workers = False\n",
    "dataset_AE.train_dataset.rollout = True\n",
    "dataset_AE.val_dataset.rollout = True"
   ]
  },
  {
   "cell_type": "code",
   "execution_count": null,
   "id": "e3bee60e",
   "metadata": {},
   "outputs": [],
   "source": [
    "TRAJ_IDX = [0, 1, 2]\n",
    "IDX_PH = [[0], [0], [0]]"
   ]
  },
  {
   "cell_type": "code",
   "execution_count": null,
   "id": "a2bb7453",
   "metadata": {},
   "outputs": [],
   "source": [
    "rollout_AE, GT_AE, GT_vel_fields_normalized_AE, MSE_fields_normalized_AE, MSE_Field_latent_AE = model.GT_encode_decode(\n",
    "    particle_dm=dataset_AE,\n",
    "    traj_idx=TRAJ_IDX,\n",
    "    idx=IDX_PH,\n",
    "    query_gt_pos=False,\n",
    "    split=\"test\",\n",
    ")"
   ]
  },
  {
   "cell_type": "code",
   "execution_count": null,
   "id": "d5ebc37c",
   "metadata": {},
   "outputs": [],
   "source": [
    "ani = animate(\n",
    "    rollout=rollout_AE[0],\n",
    "    ground_truth=GT_AE[0],\n",
    "    ref_frame=((0, 1), (0, 1)),\n",
    "    n_skip_ahead_timesteps=1,\n",
    "    start_idx=0\n",
    ")"
   ]
  },
  {
   "cell_type": "code",
   "execution_count": null,
   "id": "aac52d8d",
   "metadata": {},
   "outputs": [],
   "source": [
    "HTML(ani.to_jshtml())"
   ]
  },
  {
   "cell_type": "code",
   "execution_count": null,
   "id": "79453994",
   "metadata": {},
   "outputs": [],
   "source": [
    "ani = animate(\n",
    "    rollout=rollout_AE[1],\n",
    "    ground_truth=GT_AE[1],\n",
    "    ref_frame=((0, 1), (0, 1)),\n",
    "    n_skip_ahead_timesteps=1,\n",
    "    start_idx=0\n",
    ")\n",
    "HTML(ani.to_jshtml())"
   ]
  },
  {
   "cell_type": "code",
   "execution_count": null,
   "id": "4165fe99",
   "metadata": {},
   "outputs": [],
   "source": []
  },
  {
   "cell_type": "code",
   "execution_count": null,
   "id": "913e228e",
   "metadata": {},
   "outputs": [],
   "source": []
  }
 ],
 "metadata": {
  "kernelspec": {
   "display_name": "UPT",
   "language": "python",
   "name": "python3"
  },
  "language_info": {
   "codemirror_mode": {
    "name": "ipython",
    "version": 3
   },
   "file_extension": ".py",
   "mimetype": "text/x-python",
   "name": "python",
   "nbconvert_exporter": "python",
   "pygments_lexer": "ipython3",
   "version": "3.10.13"
  }
 },
 "nbformat": 4,
 "nbformat_minor": 5
}
