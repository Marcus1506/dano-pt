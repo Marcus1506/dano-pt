{
 "cells": [
  {
   "cell_type": "code",
   "execution_count": null,
   "id": "c107ca05",
   "metadata": {},
   "outputs": [],
   "source": [
    "from pathlib import Path\n",
    "import h5pickle\n",
    "import torch\n",
    "import numpy as np"
   ]
  },
  {
   "cell_type": "markdown",
   "id": "8bd1a67a",
   "metadata": {},
   "source": [
    "# train"
   ]
  },
  {
   "cell_type": "markdown",
   "id": "0d9df4c9",
   "metadata": {},
   "source": [
    "## 8 steps"
   ]
  },
  {
   "cell_type": "code",
   "execution_count": null,
   "id": "83db62bf",
   "metadata": {},
   "outputs": [],
   "source": [
    "data = h5pickle.File(str(Path(\"C:/Users/bertl/Projects/Studies/Master/upt_student/data/Waterdrop\") / (\"train\" + \".h5\")))"
   ]
  },
  {
   "cell_type": "code",
   "execution_count": null,
   "id": "582f5588",
   "metadata": {},
   "outputs": [],
   "source": [
    "traj_keys = list(data.keys())"
   ]
  },
  {
   "cell_type": "code",
   "execution_count": null,
   "id": "dd24e518",
   "metadata": {},
   "outputs": [],
   "source": [
    "traj_data = [data[key] for key in traj_keys]"
   ]
  },
  {
   "cell_type": "code",
   "execution_count": null,
   "id": "e7695267",
   "metadata": {},
   "outputs": [],
   "source": [
    "len(traj_data)"
   ]
  },
  {
   "cell_type": "code",
   "execution_count": null,
   "id": "86d3b97c",
   "metadata": {},
   "outputs": [],
   "source": [
    "len(traj_data[0][\"position\"])"
   ]
  },
  {
   "cell_type": "code",
   "execution_count": null,
   "id": "c5f6655d",
   "metadata": {},
   "outputs": [],
   "source": [
    "n_particles = []\n",
    "for traj in traj_data:\n",
    "    n_particles.append(traj[\"position\"].shape[1])\n",
    "n_particles = np.array(n_particles)"
   ]
  },
  {
   "cell_type": "code",
   "execution_count": null,
   "id": "ba74ea90",
   "metadata": {},
   "outputs": [],
   "source": [
    "max(n_particles)"
   ]
  },
  {
   "cell_type": "code",
   "execution_count": null,
   "id": "15055537",
   "metadata": {},
   "outputs": [],
   "source": [
    "min(n_particles)"
   ]
  },
  {
   "cell_type": "code",
   "execution_count": null,
   "id": "ce01880f",
   "metadata": {},
   "outputs": [],
   "source": [
    "traj_data[0][\"particle_type\"][1]"
   ]
  },
  {
   "cell_type": "code",
   "execution_count": null,
   "id": "188d618b",
   "metadata": {},
   "outputs": [],
   "source": [
    "positions = [data[key][\"position\"] for key in traj_keys]"
   ]
  },
  {
   "cell_type": "code",
   "execution_count": null,
   "id": "354a7f36",
   "metadata": {},
   "outputs": [],
   "source": [
    "def stride_trajectory(trajectory: np.array, stride: int) -> np.array:\n",
    "    trajectories = []\n",
    "    for n in range(1, stride+1):\n",
    "        strided_traj = trajectory[n::stride]\n",
    "        rest = len(trajectory) % stride\n",
    "        if rest != 0:\n",
    "            strided_traj = strided_traj[:-rest]\n",
    "        trajectories.append(strided_traj)\n",
    "    return np.array(trajectories)"
   ]
  },
  {
   "cell_type": "code",
   "execution_count": null,
   "id": "916dcf0b",
   "metadata": {},
   "outputs": [],
   "source": [
    "strided_positions = [stride_trajectory(traj, 8) for traj in positions]"
   ]
  },
  {
   "cell_type": "code",
   "execution_count": null,
   "id": "6969bafe",
   "metadata": {},
   "outputs": [],
   "source": [
    "strided_positions[0].shape"
   ]
  },
  {
   "cell_type": "code",
   "execution_count": null,
   "id": "d172c61a",
   "metadata": {},
   "outputs": [],
   "source": [
    "strided_velocities = [strided_trajectory[:, 1:] - strided_trajectory[:, :-1] for strided_trajectory in strided_positions]"
   ]
  },
  {
   "cell_type": "code",
   "execution_count": null,
   "id": "40abeebc",
   "metadata": {},
   "outputs": [],
   "source": [
    "strided_velocities_tensor = np.concatenate(strided_velocities, axis = 2)"
   ]
  },
  {
   "cell_type": "code",
   "execution_count": null,
   "id": "d884a0e7",
   "metadata": {},
   "outputs": [],
   "source": [
    "strided_velocities_tensor.shape"
   ]
  },
  {
   "cell_type": "code",
   "execution_count": null,
   "id": "ed4d41dc",
   "metadata": {},
   "outputs": [],
   "source": [
    "strided_velocities_tensor = strided_velocities_tensor.reshape(-1, 2)"
   ]
  },
  {
   "cell_type": "code",
   "execution_count": null,
   "id": "10aedf26",
   "metadata": {},
   "outputs": [],
   "source": [
    "means = strided_velocities_tensor.mean(axis=0)"
   ]
  },
  {
   "cell_type": "code",
   "execution_count": null,
   "id": "30efd03c",
   "metadata": {},
   "outputs": [],
   "source": [
    "std = strided_velocities_tensor.std(axis=0)"
   ]
  },
  {
   "cell_type": "code",
   "execution_count": null,
   "id": "7289c957",
   "metadata": {},
   "outputs": [],
   "source": [
    "means"
   ]
  },
  {
   "cell_type": "code",
   "execution_count": null,
   "id": "d44fa20f",
   "metadata": {},
   "outputs": [],
   "source": [
    "std"
   ]
  },
  {
   "cell_type": "code",
   "execution_count": null,
   "id": "6db226a5",
   "metadata": {},
   "outputs": [],
   "source": []
  },
  {
   "cell_type": "markdown",
   "id": "7ef25a37",
   "metadata": {},
   "source": [
    "## 1 step"
   ]
  },
  {
   "cell_type": "code",
   "execution_count": null,
   "id": "8eebeb49",
   "metadata": {},
   "outputs": [],
   "source": [
    "strided_positions = [stride_trajectory(traj, 1) for traj in positions]\n",
    "strided_positions[0].shape"
   ]
  },
  {
   "cell_type": "code",
   "execution_count": null,
   "id": "202876ad",
   "metadata": {},
   "outputs": [],
   "source": [
    "strided_velocities = [strided_trajectory[:, 1:] - strided_trajectory[:, :-1] for strided_trajectory in strided_positions]"
   ]
  },
  {
   "cell_type": "code",
   "execution_count": null,
   "id": "8d70dcbc",
   "metadata": {},
   "outputs": [],
   "source": [
    "strided_accelerations = [strided_velocity[:, 1:] - strided_velocity[:, :-1] for strided_velocity in strided_velocities]"
   ]
  },
  {
   "cell_type": "code",
   "execution_count": null,
   "id": "91948e53",
   "metadata": {},
   "outputs": [],
   "source": [
    "strided_velocities_tensor = np.concatenate(strided_velocities, axis = 2)\n"
   ]
  },
  {
   "cell_type": "code",
   "execution_count": null,
   "id": "11b45f1b",
   "metadata": {},
   "outputs": [],
   "source": [
    "strided_accelerations_tensor = np.concatenate(strided_accelerations, axis = 2)"
   ]
  },
  {
   "cell_type": "code",
   "execution_count": null,
   "id": "c8c950f4",
   "metadata": {},
   "outputs": [],
   "source": [
    "strided_velocities_tensor = strided_velocities_tensor.reshape(-1, 2)\n"
   ]
  },
  {
   "cell_type": "code",
   "execution_count": null,
   "id": "7b017cdb",
   "metadata": {},
   "outputs": [],
   "source": [
    "strided_accelerations_tensor = strided_accelerations_tensor.reshape(-1, 2)"
   ]
  },
  {
   "cell_type": "code",
   "execution_count": null,
   "id": "b04add44",
   "metadata": {},
   "outputs": [],
   "source": [
    "print(strided_velocities_tensor.mean(axis=0))"
   ]
  },
  {
   "cell_type": "code",
   "execution_count": null,
   "id": "4ab4413c",
   "metadata": {},
   "outputs": [],
   "source": [
    "print(strided_velocities_tensor.std(axis=0))"
   ]
  },
  {
   "cell_type": "code",
   "execution_count": null,
   "id": "64d49451",
   "metadata": {},
   "outputs": [],
   "source": [
    "print(strided_accelerations_tensor.mean(axis=0))"
   ]
  },
  {
   "cell_type": "code",
   "execution_count": null,
   "id": "2e8d7216",
   "metadata": {},
   "outputs": [],
   "source": [
    "print(strided_accelerations_tensor.std(axis=0))"
   ]
  },
  {
   "cell_type": "markdown",
   "id": "54462047",
   "metadata": {},
   "source": [
    "# test"
   ]
  },
  {
   "cell_type": "code",
   "execution_count": null,
   "id": "9110ee7b",
   "metadata": {},
   "outputs": [],
   "source": [
    "data = h5pickle.File(str(Path(\"C:/Users/bertl/Projects/Studies/Master/upt_student/data/Waterdrop\") / (\"test\" + \".h5\")))"
   ]
  },
  {
   "cell_type": "code",
   "execution_count": null,
   "id": "3390c14b",
   "metadata": {},
   "outputs": [],
   "source": [
    "traj_keys = list(data.keys())"
   ]
  },
  {
   "cell_type": "code",
   "execution_count": null,
   "id": "0fdd0473",
   "metadata": {},
   "outputs": [],
   "source": [
    "traj_data = [data[key] for key in traj_keys]"
   ]
  },
  {
   "cell_type": "code",
   "execution_count": null,
   "id": "56044798",
   "metadata": {},
   "outputs": [],
   "source": [
    "len(traj_data)"
   ]
  },
  {
   "cell_type": "code",
   "execution_count": null,
   "id": "2e553149",
   "metadata": {},
   "outputs": [],
   "source": [
    "len(traj_data[0][\"position\"])"
   ]
  },
  {
   "cell_type": "code",
   "execution_count": null,
   "id": "22f63046",
   "metadata": {},
   "outputs": [],
   "source": [
    "n_particles = []\n",
    "for traj in traj_data:\n",
    "    n_particles.append(traj[\"position\"].shape[1])\n",
    "n_particles = np.array(n_particles)"
   ]
  },
  {
   "cell_type": "code",
   "execution_count": null,
   "id": "96244e96",
   "metadata": {},
   "outputs": [],
   "source": [
    "max(n_particles)"
   ]
  },
  {
   "cell_type": "code",
   "execution_count": null,
   "id": "3dee045e",
   "metadata": {},
   "outputs": [],
   "source": [
    "np.argmax(n_particles)"
   ]
  },
  {
   "cell_type": "code",
   "execution_count": null,
   "id": "c81eef97",
   "metadata": {},
   "outputs": [],
   "source": [
    "min(n_particles)"
   ]
  },
  {
   "cell_type": "code",
   "execution_count": null,
   "id": "970df5be",
   "metadata": {},
   "outputs": [],
   "source": [
    "np.argmin(n_particles)"
   ]
  },
  {
   "cell_type": "code",
   "execution_count": null,
   "id": "84e5dbd7",
   "metadata": {},
   "outputs": [],
   "source": [
    "n_particles[5]"
   ]
  },
  {
   "cell_type": "code",
   "execution_count": null,
   "id": "df99e398",
   "metadata": {},
   "outputs": [],
   "source": [
    "n_particles[6]"
   ]
  },
  {
   "cell_type": "code",
   "execution_count": null,
   "id": "f4e6dc7f",
   "metadata": {},
   "outputs": [],
   "source": [
    "n_particles[19]"
   ]
  },
  {
   "cell_type": "code",
   "execution_count": null,
   "id": "bb148620",
   "metadata": {},
   "outputs": [],
   "source": [
    "n_particles[26]"
   ]
  },
  {
   "cell_type": "code",
   "execution_count": null,
   "id": "f52fe7b1",
   "metadata": {},
   "outputs": [],
   "source": []
  }
 ],
 "metadata": {
  "kernelspec": {
   "display_name": "UPT",
   "language": "python",
   "name": "python3"
  },
  "language_info": {
   "codemirror_mode": {
    "name": "ipython",
    "version": 3
   },
   "file_extension": ".py",
   "mimetype": "text/x-python",
   "name": "python",
   "nbconvert_exporter": "python",
   "pygments_lexer": "ipython3",
   "version": "3.10.13"
  }
 },
 "nbformat": 4,
 "nbformat_minor": 5
}
