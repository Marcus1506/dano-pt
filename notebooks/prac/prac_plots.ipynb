{
 "cells": [
  {
   "cell_type": "code",
   "execution_count": null,
   "id": "e150d9c1",
   "metadata": {},
   "outputs": [],
   "source": [
    "from omegaconf import OmegaConf\n",
    "from hydra.core.global_hydra import GlobalHydra\n",
    "from hydra.utils import instantiate\n",
    "from src.models.autoencoder import AutoencoderLitModule\n",
    "from src.models.physics import PhysicsLitModule\n",
    "from src.utils import animate\n",
    "\n",
    "import os\n",
    "from IPython.display import HTML\n",
    "from tqdm import tqdm\n",
    "import torch\n",
    "from torch_geometric.data import Data\n",
    "import numpy as np\n",
    "import matplotlib\n",
    "import matplotlib.pyplot as plt\n",
    "import matplotlib.animation as animation\n",
    "matplotlib.rcParams['animation.embed_limit'] = 400  # set 100 MB limit for animations\n",
    "\n",
    "import numpy as np\n",
    "import einops\n",
    "from functools import partial\n",
    "from src.datasets.particle_datamodule import ParticleDataModule\n",
    "\n",
    "GlobalHydra.instance().clear()\n",
    "\n",
    "os.environ[\"PROJECT_ROOT\"] = os.path.abspath(\".\")"
   ]
  },
  {
   "cell_type": "code",
   "execution_count": null,
   "id": "fc5e5386",
   "metadata": {},
   "outputs": [],
   "source": [
    "def plot_metric(mse, title: str, log: bool = False):\n",
    "    plt.clf()\n",
    "    fig, ax = plt.subplots(figsize=(10, 5))\n",
    "    ax.plot(mse, label='Metric')\n",
    "    ax.set_xlabel('Timestep')\n",
    "    ax.set_ylabel('Metric')\n",
    "    ax.set_title(f\"{title} Metric Over Time\")\n",
    "    ax.legend()\n",
    "    if log: ax.set_yscale('log')\n",
    "    plt.tight_layout()\n",
    "    plt.show()\n",
    "\n",
    "def plot_two_series(y1: np.ndarray,\n",
    "                    y2: np.ndarray,\n",
    "                    labels=('Series 1', 'Series 2'),\n",
    "                    xlabel: str = 'Index',\n",
    "                    ylabel: str = 'Value',\n",
    "                    title: str = 'Two Series on One Plot',\n",
    "                    log: bool = False) -> None:\n",
    "    \"\"\"\n",
    "    Plots two same-length sequences/arrays on the same axes.\n",
    "\n",
    "    Parameters\n",
    "    ----------\n",
    "    y1 : np.ndarray\n",
    "        First data series (plotted in default style).\n",
    "    y2 : np.ndarray\n",
    "        Second data series (plotted in dashed style).\n",
    "    labels : tuple of str, optional\n",
    "        Labels for the two series (default ('Series 1', 'Series 2')).\n",
    "    xlabel : str, optional\n",
    "        Label for the x-axis (default 'Index').\n",
    "    ylabel : str, optional\n",
    "        Label for the y-axis (default 'Value').\n",
    "    title : str, optional\n",
    "        Title of the plot (default 'Two Series on One Plot').\n",
    "\n",
    "    Raises\n",
    "    ------\n",
    "    ValueError\n",
    "        If y1 and y2 are not the same length.\n",
    "    \"\"\"\n",
    "    if len(y1) != len(y2):\n",
    "        raise ValueError(f\"Input arrays must have the same length; got {len(y1)} and {len(y2)}\")\n",
    "\n",
    "    x = np.arange(len(y1))              # common x-axis\n",
    "    plt.figure()                        # new figure\n",
    "    plt.plot(x, y1, label=labels[0])    # first series\n",
    "    plt.plot(x, y2, label=labels[1])  # second series with dashed line\n",
    "    plt.xlabel(xlabel)                  # x-axis label\n",
    "    plt.ylabel(ylabel)                  # y-axis label\n",
    "    plt.title(title)                    # plot title\n",
    "    plt.legend()                        # show legend\n",
    "    plt.grid(True)                      # optional grid\n",
    "    if log: plt.yscale('log')           # set y-axis to logarithmic scale if requested\n",
    "    plt.tight_layout()                  # nicely fit elements\n",
    "    plt.show()                          # display\n",
    "\n",
    "def compute_mse(preds, targets):\n",
    "    preds = einops.rearrange(preds, 't n c -> t (n c)')\n",
    "    targets = einops.rearrange(targets, 't n c -> t (n c)')\n",
    "    mse = torch.mean((preds - targets) ** 2, dim=1).cpu().numpy()\n",
    "    return mse"
   ]
  },
  {
   "cell_type": "markdown",
   "id": "690fcf77",
   "metadata": {},
   "source": [
    "# Overfit single trajectory\n",
    "## AE model"
   ]
  },
  {
   "cell_type": "code",
   "execution_count": null,
   "id": "01f15f87",
   "metadata": {},
   "outputs": [],
   "source": [
    "cfg = OmegaConf.load(\"logs/train/runs/2025-06-18_21-31-26/.hydra/config.yaml\")\n",
    "model = instantiate(cfg.model)\n",
    "net = instantiate(cfg.model.model)\n",
    "loss_function = instantiate(cfg.model.loss_function)\n",
    "model = AutoencoderLitModule.load_from_checkpoint(\n",
    "    checkpoint_path=\"logs/train/runs/2025-06-18_21-31-26/waterdrop/lxx39u5h/checkpoints/epoch=388-step=6224.ckpt\",\n",
    "    model=net,\n",
    "    loss_function=loss_function\n",
    ")\n",
    "model.eval()\n",
    "model.to(\"cuda\")\n",
    "dataset = instantiate(cfg.data)\n",
    "dataset.setup(stage=\"autoencoder\")\n",
    "dataset.shuffle = False\n",
    "dataset.batch_size = 1\n",
    "dataset.num_workers = 0\n",
    "dataset.pin_memory = False\n",
    "dataset.persistent_workers = False\n",
    "dataset.train_dataset.rollout = True"
   ]
  },
  {
   "cell_type": "code",
   "execution_count": null,
   "id": "00a0d39f",
   "metadata": {},
   "outputs": [],
   "source": [
    "rollout_AE, GT_AE, GT_vel_fields_normalized_AE, MSE_fields_normalized_AE = model.GT_encode_decode(\n",
    "    particle_dm=dataset,\n",
    "    idx=[0],\n",
    "    query_gt_pos=True,\n",
    "    split=\"train\"\n",
    ")"
   ]
  },
  {
   "cell_type": "markdown",
   "id": "cb0b562d",
   "metadata": {},
   "source": [
    "## Physics model"
   ]
  },
  {
   "cell_type": "code",
   "execution_count": null,
   "id": "2edec77e",
   "metadata": {},
   "outputs": [],
   "source": [
    "cfg          = OmegaConf.load(\n",
    "    \"logs/train/runs/2025-06-25_14-53-46/.hydra/config.yaml\"\n",
    ")\n",
    "\n",
    "# factories\n",
    "latent_model_factory = instantiate(cfg.model.latent_model, _partial_=True)\n",
    "model_factory        = instantiate(cfg.model,            _partial_=True)\n",
    "loss_function        = instantiate(cfg.model.loss_function)\n",
    "\n",
    "lit_model = PhysicsLitModule.load_from_checkpoint(\n",
    "    \"logs/train/runs/2025-06-25_14-53-46/waterdrop_physics/fzw60sdj/checkpoints/epoch=151-step=2432.ckpt\",\n",
    "    latent_model = latent_model_factory,\n",
    "    model        = model_factory,\n",
    "    loss_function= loss_function,\n",
    "    strict       = True,\n",
    "    map_location = \"cuda\"\n",
    ")\n",
    "lit_model.eval()\n",
    "dataset = instantiate(cfg.data)\n",
    "dataset.setup(stage=\"physics\")\n",
    "\n",
    "dataset.val_dataset.rollout = True"
   ]
  },
  {
   "cell_type": "code",
   "execution_count": null,
   "id": "035289dd",
   "metadata": {},
   "outputs": [],
   "source": [
    "rollout_physics, GT_physics, GT_vel_fields_normalized_physics, MSE_fields_normalized_physics, MSE_Field_latent_physics = lit_model.rollout_physics(\n",
    "    particle_dm=dataset,\n",
    "    idx=[0],\n",
    "    query_gt_pos=True,\n",
    "    split=\"val\",\n",
    "    use_gt_field=True\n",
    ")"
   ]
  },
  {
   "cell_type": "markdown",
   "id": "4488e577",
   "metadata": {},
   "source": [
    "## Plotting"
   ]
  },
  {
   "cell_type": "code",
   "execution_count": null,
   "id": "1921eff2",
   "metadata": {},
   "outputs": [],
   "source": [
    "print(MSE_fields_normalized_AE.shape)\n",
    "print(MSE_fields_normalized_physics.shape)"
   ]
  },
  {
   "cell_type": "code",
   "execution_count": null,
   "id": "25e5a06a",
   "metadata": {},
   "outputs": [],
   "source": [
    "plot_two_series(\n",
    "    MSE_fields_normalized_AE[1:-1],\n",
    "    MSE_fields_normalized_physics,\n",
    "    xlabel='Timestep',\n",
    "    ylabel='MSE',\n",
    "    title='MSE Comparison Between AE and Physics Models',\n",
    "    log=True\n",
    ")"
   ]
  },
  {
   "cell_type": "code",
   "execution_count": null,
   "id": "a5d3fff0",
   "metadata": {},
   "outputs": [],
   "source": [
    "plot_metric(\n",
    "    np.clip(MSE_fields_normalized_physics - MSE_fields_normalized_AE[1:-1], 1e-10, None),\n",
    "    title='MSE portion of approximator error',\n",
    "    log=True\n",
    ")"
   ]
  },
  {
   "cell_type": "code",
   "execution_count": null,
   "id": "5b3dfc1c",
   "metadata": {},
   "outputs": [],
   "source": [
    "plot_metric(\n",
    "    MSE_fields_normalized_physics - MSE_fields_normalized_AE[1:-1],\n",
    "    title='Approximator portion of error',\n",
    "    log=False\n",
    ")"
   ]
  },
  {
   "cell_type": "markdown",
   "id": "4d2c77d3",
   "metadata": {},
   "source": [
    "# All trajectories test set\n",
    "## AE model"
   ]
  },
  {
   "cell_type": "code",
   "execution_count": null,
   "id": "e166afd6",
   "metadata": {},
   "outputs": [],
   "source": [
    "cfg = OmegaConf.load(\"logs/train/runs/2025-09-02_16-10-21/.hydra/config.yaml\")\n",
    "model = instantiate(cfg.model)\n",
    "net = instantiate(cfg.model.model)\n",
    "loss_function = instantiate(cfg.model.loss_function)\n",
    "model = AutoencoderLitModule.load_from_checkpoint(\n",
    "    checkpoint_path=\"logs/train/runs/2025-09-02_16-10-21/waterdrop/pu1byyxz/checkpoints/epoch=26-step=404595.ckpt\",\n",
    "    model=net,\n",
    "    loss_function=loss_function\n",
    ")\n",
    "model.eval()\n",
    "model.to(\"cuda\")\n",
    "dataset_AE = instantiate(cfg.data)\n",
    "dataset_AE.setup(stage=\"autoencoder\")\n",
    "dataset_AE.shuffle = False\n",
    "dataset_AE.batch_size = 1\n",
    "dataset_AE.num_workers = 0\n",
    "dataset_AE.pin_memory = False\n",
    "dataset_AE.persistent_workers = False\n",
    "dataset_AE.train_dataset.rollout = True\n",
    "dataset_AE.val_dataset.rollout = True"
   ]
  },
  {
   "cell_type": "code",
   "execution_count": null,
   "id": "d82e2df5",
   "metadata": {},
   "outputs": [],
   "source": [
    "rollout_AE, GT_AE, GT_vel_fields_normalized_AE, MSE_fields_normalized_AE, latents_AE = model.GT_encode_decode(\n",
    "    particle_dm=dataset_AE,\n",
    "    traj_idx=[0],\n",
    "    idx=[[0]],\n",
    "    query_gt_pos=True,\n",
    "    split=\"test\"\n",
    ")"
   ]
  },
  {
   "cell_type": "markdown",
   "id": "63eacdcf",
   "metadata": {},
   "source": [
    "## Physics model"
   ]
  },
  {
   "cell_type": "code",
   "execution_count": null,
   "id": "39264369",
   "metadata": {},
   "outputs": [],
   "source": [
    "cfg          = OmegaConf.load(\n",
    "    \"logs/train/runs/2025-09-04_07-13-04/.hydra/config.yaml\"\n",
    ")\n",
    "\n",
    "# factories\n",
    "latent_model_factory = instantiate(cfg.model.latent_model, _partial_=True)\n",
    "model_factory        = instantiate(cfg.model,            _partial_=True)\n",
    "loss_function        = instantiate(cfg.model.loss_function)\n",
    "\n",
    "lit_model = PhysicsLitModule.load_from_checkpoint(\n",
    "    \"logs/train/runs/2025-09-04_07-13-04/waterdrop_physics/w55pl0j7/checkpoints/epoch=15-step=239520.ckpt\",\n",
    "    latent_model = latent_model_factory,\n",
    "    model        = model_factory,\n",
    "    loss_function= loss_function,\n",
    "    strict       = True,\n",
    "    map_location = \"cuda\"\n",
    ")\n",
    "lit_model.eval()\n",
    "dataset_PH = instantiate(cfg.data)\n",
    "dataset_PH.setup(stage=\"physics\")"
   ]
  },
  {
   "cell_type": "code",
   "execution_count": null,
   "id": "53ba1579",
   "metadata": {},
   "outputs": [],
   "source": [
    "rollout_physics, fields_PH, GT_physics, GT_vel_fields_normalized_physics, MSE_fields_normalized_physics, MSE_Field_latent_physics, latents_PH = lit_model.rollout_physics(\n",
    "    particle_dm=dataset_PH,\n",
    "    traj_idx=[0],\n",
    "    idx=[[0]],\n",
    "    query_gt_pos=True,\n",
    "    split=\"test\",\n",
    "    use_gt_field=True\n",
    ")"
   ]
  },
  {
   "cell_type": "markdown",
   "id": "34bc4d64",
   "metadata": {},
   "source": [
    "## Plotting"
   ]
  },
  {
   "cell_type": "code",
   "execution_count": null,
   "id": "74e78d01",
   "metadata": {},
   "outputs": [],
   "source": [
    "print(MSE_fields_normalized_AE.shape)\n",
    "print(MSE_fields_normalized_physics.shape)"
   ]
  },
  {
   "cell_type": "code",
   "execution_count": null,
   "id": "2cca9a91",
   "metadata": {},
   "outputs": [],
   "source": [
    "plot_two_series(\n",
    "    MSE_fields_normalized_AE[1:],\n",
    "    MSE_fields_normalized_physics,\n",
    "    xlabel='Timestep',\n",
    "    ylabel='MSE',\n",
    "    title='MSE Comparison Between AE and Physics Models',\n",
    "    log=True\n",
    ")"
   ]
  },
  {
   "cell_type": "code",
   "execution_count": null,
   "id": "f080380a",
   "metadata": {},
   "outputs": [],
   "source": [
    "plot_metric(\n",
    "    MSE_fields_normalized_physics - MSE_fields_normalized_AE[1:],\n",
    "    title='Approximator portion of error',\n",
    "    log=True\n",
    ")"
   ]
  },
  {
   "cell_type": "code",
   "execution_count": null,
   "id": "4ae7f0ee",
   "metadata": {},
   "outputs": [],
   "source": [
    "plot_metric(\n",
    "    MSE_fields_normalized_physics - MSE_fields_normalized_AE[1:],\n",
    "    title='Approximator portion of error',\n",
    "    log=False\n",
    ")"
   ]
  },
  {
   "cell_type": "code",
   "execution_count": null,
   "id": "203c861e",
   "metadata": {},
   "outputs": [],
   "source": []
  },
  {
   "cell_type": "markdown",
   "id": "4632d1e2",
   "metadata": {},
   "source": [
    "## A look at multiple test trajectories"
   ]
  },
  {
   "cell_type": "code",
   "execution_count": null,
   "id": "43bd1455",
   "metadata": {},
   "outputs": [],
   "source": [
    "TRAJ_IDX = list(range(10))\n",
    "IDX = [[0]]*10\n",
    "rollout_AE, GT_AE, GT_vel_fields_normalized_AE, MSE_fields_normalized_AE, latents_AE = model.GT_encode_decode(\n",
    "    particle_dm=dataset_AE,\n",
    "    traj_idx=TRAJ_IDX,\n",
    "    idx=IDX,\n",
    "    query_gt_pos=True,\n",
    "    split=\"test\"\n",
    ")\n",
    "rollout_physics, fields_PH, GT_physics, GT_vel_fields_normalized_physics, MSE_fields_normalized_physics, MSE_Field_latent_physics, latents_PH = lit_model.rollout_physics(\n",
    "    particle_dm=dataset_PH,\n",
    "    traj_idx=TRAJ_IDX,\n",
    "    idx=IDX,\n",
    "    query_gt_pos=True,\n",
    "    split=\"test\",\n",
    "    use_gt_field=True\n",
    ")"
   ]
  },
  {
   "cell_type": "code",
   "execution_count": null,
   "id": "a95a9037",
   "metadata": {},
   "outputs": [],
   "source": [
    "for (MSE_field_normalized_AE, MSE_field_normalized_physics) in zip(MSE_fields_normalized_AE, MSE_fields_normalized_physics):\n",
    "    plot_two_series(\n",
    "        MSE_field_normalized_AE[1:],\n",
    "        MSE_field_normalized_physics,\n",
    "        labels=('Reconstruction MSE', 'One-step oracle MSE'),\n",
    "        xlabel='Timestep',\n",
    "        ylabel='MSE',\n",
    "        title='MSE Comparison Between AE and Physics Models',\n",
    "        log=True\n",
    "    )\n",
    "    plt.clf()"
   ]
  },
  {
   "cell_type": "code",
   "execution_count": null,
   "id": "595e875f",
   "metadata": {},
   "outputs": [],
   "source": [
    "for (MSE_field_normalized_AE, MSE_field_normalized_physics) in zip(MSE_fields_normalized_AE, MSE_fields_normalized_physics):\n",
    "    plot_metric(\n",
    "        MSE_field_normalized_physics - MSE_field_normalized_AE[1:],\n",
    "        title='Approximator portion of error',\n",
    "        log=False\n",
    "    )\n",
    "    plt.clf()"
   ]
  },
  {
   "cell_type": "markdown",
   "id": "bcc5598f",
   "metadata": {},
   "source": [
    "## AE vs. AE-int"
   ]
  },
  {
   "cell_type": "code",
   "execution_count": null,
   "id": "46e0fc5e",
   "metadata": {},
   "outputs": [],
   "source": [
    "rollout_AE_int, GT_AE, GT_vel_fields_normalized_AE, MSE_fields_normalized_AE_int, latents_AE_int = model.GT_encode_decode(\n",
    "    particle_dm=dataset_AE,\n",
    "    traj_idx=TRAJ_IDX,\n",
    "    idx=IDX,\n",
    "    query_gt_pos=False,\n",
    "    split=\"test\"\n",
    ")"
   ]
  },
  {
   "cell_type": "code",
   "execution_count": null,
   "id": "cb03b83b",
   "metadata": {},
   "outputs": [],
   "source": [
    "print(MSE_fields_normalized_AE_int[0].shape)\n",
    "print(MSE_fields_normalized_AE[0].shape)"
   ]
  },
  {
   "cell_type": "code",
   "execution_count": null,
   "id": "81a14f8d",
   "metadata": {},
   "outputs": [],
   "source": [
    "plot_two_series(\n",
    "        MSE_fields_normalized_AE_int[0],\n",
    "        MSE_fields_normalized_AE[0],\n",
    "        labels=('AE-int', 'AE'),\n",
    "        xlabel='Timestep',\n",
    "        ylabel='MSE on particle positions',\n",
    "        title='Particle position error between AE and AE-int',\n",
    "        log=True\n",
    "    )"
   ]
  },
  {
   "cell_type": "code",
   "execution_count": null,
   "id": "51265b0a",
   "metadata": {},
   "outputs": [],
   "source": [
    "plot_two_series(\n",
    "        MSE_fields_normalized_AE_int[0][:200],\n",
    "        MSE_fields_normalized_AE[0][:200],\n",
    "        labels=('AE-int', 'AE'),\n",
    "        xlabel='Timestep',\n",
    "        ylabel='MSE on particle positions',\n",
    "        title='Particle position error between AE and AE-int',\n",
    "        log=True\n",
    "    )"
   ]
  },
  {
   "cell_type": "code",
   "execution_count": null,
   "id": "8364e6e4",
   "metadata": {},
   "outputs": [],
   "source": [
    "plot_two_series(\n",
    "        MSE_fields_normalized_AE_int[0][:100],\n",
    "        MSE_fields_normalized_AE[0][:100],\n",
    "        labels=('AE-int', 'AE'),\n",
    "        xlabel='Timestep',\n",
    "        ylabel='MSE on particle positions',\n",
    "        title='Particle position error between AE and AE-int',\n",
    "        log=True\n",
    "    )"
   ]
  },
  {
   "cell_type": "code",
   "execution_count": null,
   "id": "a18da2a4",
   "metadata": {},
   "outputs": [],
   "source": [
    "ani = animate(\n",
    "    rollout=rollout_AE_int[0],\n",
    "    ground_truth=GT_AE[0],\n",
    ")"
   ]
  },
  {
   "cell_type": "code",
   "execution_count": null,
   "id": "5bdbce59",
   "metadata": {},
   "outputs": [],
   "source": [
    "ani = ani.to_jshtml()"
   ]
  },
  {
   "cell_type": "code",
   "execution_count": null,
   "id": "46743b77",
   "metadata": {},
   "outputs": [],
   "source": [
    "HTML(ani)"
   ]
  },
  {
   "cell_type": "markdown",
   "id": "65ca6de4",
   "metadata": {},
   "source": [
    "# Aggregated statistics"
   ]
  },
  {
   "cell_type": "code",
   "execution_count": null,
   "id": "fc75f213",
   "metadata": {},
   "outputs": [],
   "source": [
    "TRAJ_IDX = list(range(dataset_AE.get_dataset(split=\"test\").n_traj)) # list of all test trajectories\n",
    "IDX = [[0] for _ in range(len(TRAJ_IDX))] # starting indeces (we want whole trajectories)"
   ]
  },
  {
   "cell_type": "code",
   "execution_count": null,
   "id": "12e71b11",
   "metadata": {},
   "outputs": [],
   "source": [
    "rollout_AE, GT_AE, GT_vel_fields_normalized_AE, MSE_fields_normalized_AE, latents_AE = model.GT_encode_decode(\n",
    "    particle_dm=dataset_AE,\n",
    "    traj_idx=TRAJ_IDX,\n",
    "    idx=IDX,\n",
    "    query_gt_pos=True,\n",
    "    split=\"test\"\n",
    ")\n",
    "rollout_physics, fields_PH, GT_physics, GT_vel_fields_normalized_physics, MSE_fields_normalized_physics, MSE_Field_latent_physics, propagated_latents = lit_model.rollout_physics(\n",
    "    particle_dm=dataset_PH,\n",
    "    traj_idx=TRAJ_IDX,\n",
    "    idx=IDX,\n",
    "    query_gt_pos=True,\n",
    "    split=\"test\",\n",
    "    use_gt_field=True\n",
    ")"
   ]
  },
  {
   "cell_type": "code",
   "execution_count": null,
   "id": "3b44a7de",
   "metadata": {},
   "outputs": [],
   "source": [
    "# Create diff\n",
    "Diff_MSE = [MSE_field_normalized_physics - MSE_field_normalized_AE[1:] for (MSE_field_normalized_AE, MSE_field_normalized_physics) in zip(MSE_fields_normalized_AE, MSE_fields_normalized_physics)]"
   ]
  },
  {
   "cell_type": "code",
   "execution_count": null,
   "id": "5b2cd254",
   "metadata": {},
   "outputs": [],
   "source": [
    "# save the lists of tensors\n",
    "torch.save(MSE_fields_normalized_AE, \"D:/Projects/Master/UPT/data/GT_rollout_data_2_1_1_prac/MSE_fields_normalized_AE.pt\")\n",
    "torch.save(MSE_fields_normalized_physics, \"D:/Projects/Master/UPT/data/GT_rollout_data_2_1_1_prac/MSE_fields_normalized_physics.pt\")\n",
    "torch.save(MSE_Field_latent_physics, \"D:/Projects/Master/UPT/data/GT_rollout_data_2_1_1_prac/MSE_Field_latent_physics.pt\")\n",
    "torch.save(Diff_MSE, \"D:/Projects/Master/UPT/data/GT_rollout_data_2_1_1_prac/Diff_MSE.pt\")\n",
    "torch.save(latents_AE, \"D:/Projects/Master/UPT/data/GT_rollout_data_2_1_1_prac/latents_AE.pt\")\n",
    "torch.save(propagated_latents, \"D:/Projects/Master/UPT/data/GT_rollout_data_2_1_1_prac/propagated_latents.pt\")"
   ]
  },
  {
   "cell_type": "code",
   "execution_count": null,
   "id": "15b59ec5",
   "metadata": {},
   "outputs": [],
   "source": [
    "# load the lists of tensors\n",
    "MSE_fields_normalized_AE = torch.load(\"MSE_fields_normalized_AE.pt\")\n",
    "MSE_Field_latent_physics = torch.load(\"MSE_Field_latent_physics.pt\")\n",
    "MSE_fields_normalized_physics = torch.load(\"MSE_fields_normalized_physics.pt\")\n",
    "Diff_MSE = torch.load(\"Diff_MSE.pt\")\n",
    "latents_AE = torch.load(\"latents_AE.pt\")\n",
    "propagated_latents = torch.load(\"propagated_latents.pt\")"
   ]
  },
  {
   "cell_type": "code",
   "execution_count": null,
   "id": "a45039d6",
   "metadata": {},
   "outputs": [],
   "source": [
    "plot_two_series(\n",
    "        MSE_fields_normalized_AE[0][1:],\n",
    "        MSE_fields_normalized_physics[0],\n",
    "        labels=('Reconstruction MSE', 'One-step oracle MSE'),\n",
    "        xlabel='Timestep',\n",
    "        ylabel='MSE',\n",
    "        title='MSE Comparison Between AE and Physics Models',\n",
    "        log=True\n",
    "    )"
   ]
  },
  {
   "cell_type": "code",
   "execution_count": null,
   "id": "9a17642e",
   "metadata": {},
   "outputs": [],
   "source": [
    "def rollout_heatmap(rollout_errors, *, drop_first=False, cmap=\"viridis\",\n",
    "                    vmin=None, vmax=None, norm=None,\n",
    "                    ax=None, cbar=True, cbar_kw=None, title=None):\n",
    "    \"\"\"\n",
    "    Visualise rollout errors as a heat-map.\n",
    "\n",
    "    Parameters\n",
    "    ----------\n",
    "    rollout_errors : list[Tensor | array_like]\n",
    "        One element per rollout; each element is 1-D (length = #timesteps)\n",
    "        or 2-D/3-D (e.g. extra feature dims).  Non-1-D tensors are flattened.\n",
    "    drop_first : bool, optional\n",
    "        If True, remove the very first error of every rollout *before* plotting\n",
    "        (useful when step 0 is the auto-encoder reconstruction loss, etc.).\n",
    "    cmap : str or Colormap, optional\n",
    "        Matplotlib colormap to use (default \"viridis\").\n",
    "    ax : matplotlib.axes.Axes, optional\n",
    "        Draw on this axes if provided, else a new figure is created.\n",
    "    cbar : bool, optional\n",
    "        Attach a color-bar showing the error scale.\n",
    "    cbar_kw : dict or None\n",
    "        Extra kwargs forwarded to `fig.colorbar`.\n",
    "    title : str or None\n",
    "        Optional plot title.\n",
    "    \"\"\"\n",
    "    if not rollout_errors:\n",
    "        raise ValueError(\"Input list is empty.\")\n",
    "\n",
    "    arr = torch.stack(rollout_errors).detach().cpu().numpy()\n",
    "\n",
    "    # Keep only the first axis = rollout, second = timestep; flatten extras\n",
    "    n_rollouts, n_timesteps = arr.shape[:2]\n",
    "    arr = arr.reshape(n_rollouts, n_timesteps, -1).squeeze(-1)\n",
    "\n",
    "    # Optionally drop leading timestep\n",
    "    if drop_first:\n",
    "        arr = arr[:, 1:]\n",
    "        n_timesteps -= 1\n",
    "\n",
    "    # --- plotting ---\n",
    "    if ax is None:\n",
    "        fig, ax = plt.subplots(figsize=(0.4 * n_timesteps + 2,\n",
    "                                        0.25 * n_rollouts + 2))\n",
    "\n",
    "    im = ax.imshow(arr,\n",
    "                   aspect=\"auto\", origin=\"upper\",\n",
    "                   cmap=cmap,\n",
    "                   interpolation=\"nearest\",\n",
    "                   vmin=vmin, vmax=vmax, norm=norm)\n",
    "\n",
    "    ax.set_xlabel(\"Timestep\")\n",
    "    ax.set_ylabel(\"Rollout index\")\n",
    "    ax.set_xticks(np.arange(n_timesteps))\n",
    "    ax.set_yticks(np.arange(n_rollouts))\n",
    "    ax.set_title(title or \"Rollout error heat-map\")\n",
    "\n",
    "    # Nice tick labels (0,1,2…)\n",
    "    ax.set_xticklabels([str(t) for t in range(n_timesteps)])\n",
    "    ax.set_yticklabels([str(i) for i in range(n_rollouts)])\n",
    "\n",
    "    if cbar:\n",
    "        cbar_kw = {} if cbar_kw is None else cbar_kw\n",
    "        plt.colorbar(im, ax=ax, **cbar_kw).set_label(\"Error (MSE)\")\n",
    "\n",
    "    plt.tight_layout()\n",
    "    return ax"
   ]
  },
  {
   "cell_type": "code",
   "execution_count": null,
   "id": "2b9fc223",
   "metadata": {},
   "outputs": [],
   "source": [
    "datasets = [MSE_fields_normalized_AE, MSE_fields_normalized_physics, Diff_MSE]\n",
    "\n",
    "global_min = min(float(torch.min(torch.stack(ds)) if torch.is_tensor(ds[0]) else\n",
    "                       np.min(np.stack(ds)))\n",
    "                 for ds in datasets)\n",
    "global_max = max(float(torch.max(torch.stack(ds)) if torch.is_tensor(ds[0]) else\n",
    "                       np.max(np.stack(ds)))\n",
    "                 for ds in datasets)"
   ]
  },
  {
   "cell_type": "code",
   "execution_count": null,
   "id": "60f10446",
   "metadata": {},
   "outputs": [],
   "source": [
    "rollout_heatmap(MSE_fields_normalized_AE, cmap=\"viridis\", vmin=global_min, vmax=global_max)\n",
    "plt.show()"
   ]
  },
  {
   "cell_type": "code",
   "execution_count": null,
   "id": "c7330f26",
   "metadata": {},
   "outputs": [],
   "source": [
    "rollout_heatmap(MSE_fields_normalized_physics, cmap=\"viridis\", vmin=global_min, vmax=global_max)\n",
    "plt.show()"
   ]
  },
  {
   "cell_type": "code",
   "execution_count": null,
   "id": "69840fde",
   "metadata": {},
   "outputs": [],
   "source": [
    "rollout_heatmap(Diff_MSE, cmap=\"viridis\", vmin=global_min, vmax=global_max)\n",
    "plt.show()"
   ]
  },
  {
   "cell_type": "markdown",
   "id": "e3e7d65e",
   "metadata": {},
   "source": [
    "## Latents"
   ]
  },
  {
   "cell_type": "code",
   "execution_count": null,
   "id": "e2ee7fd4",
   "metadata": {},
   "outputs": [],
   "source": [
    "len(latents_AE)"
   ]
  },
  {
   "cell_type": "code",
   "execution_count": null,
   "id": "e9cae8ca",
   "metadata": {},
   "outputs": [],
   "source": [
    "latents_AE_diffs = []\n",
    "for traj_latent in latents_AE:\n",
    "    diff_latents = (traj_latent[1:].squeeze() - traj_latent[:-1].squeeze())**2\n",
    "    latents_AE_diffs.append(diff_latents.mean(axis=(1, 2)))"
   ]
  },
  {
   "cell_type": "code",
   "execution_count": null,
   "id": "7130647f",
   "metadata": {},
   "outputs": [],
   "source": [
    "latents_AE_diffs[0].shape"
   ]
  },
  {
   "cell_type": "code",
   "execution_count": null,
   "id": "098ea9d8",
   "metadata": {},
   "outputs": [],
   "source": [
    "from scipy.stats import pearsonr"
   ]
  },
  {
   "cell_type": "code",
   "execution_count": null,
   "id": "b62e409f",
   "metadata": {},
   "outputs": [],
   "source": [
    "x = torch.stack(MSE_Field_latent_physics)\n",
    "y = torch.stack(latents_AE_diffs)\n",
    "print(x.shape, y.shape)"
   ]
  },
  {
   "cell_type": "code",
   "execution_count": null,
   "id": "ed89e95f",
   "metadata": {},
   "outputs": [],
   "source": [
    "x = einops.rearrange(x, 't m -> (t m)').numpy(force=True)\n",
    "y = einops.rearrange(y, 't m -> (t m)').numpy(force=True)"
   ]
  },
  {
   "cell_type": "code",
   "execution_count": null,
   "id": "18d2904c",
   "metadata": {},
   "outputs": [],
   "source": [
    "r, p = pearsonr(x, y)"
   ]
  },
  {
   "cell_type": "code",
   "execution_count": null,
   "id": "34d3db89",
   "metadata": {},
   "outputs": [],
   "source": [
    "coeffs = np.polyfit(x, y, deg=1)\n",
    "slope, intercept = coeffs\n",
    "\n",
    "# regression line values\n",
    "x_line = np.linspace(x.min(), x.max(), 100)\n",
    "y_line = slope * x_line + intercept"
   ]
  },
  {
   "cell_type": "code",
   "execution_count": null,
   "id": "8a1a8f18",
   "metadata": {},
   "outputs": [],
   "source": [
    "plt.figure(figsize=(8, 5), dpi=150)\n",
    "plt.scatter(x, y, alpha=0.7)\n",
    "plt.xlabel(\"One-step oracle error\")\n",
    "plt.ylabel(\"Squared difference of latents\")\n",
    "plt.tight_layout()\n",
    "plt.show()"
   ]
  },
  {
   "cell_type": "code",
   "execution_count": null,
   "id": "8e6bd8a4",
   "metadata": {},
   "outputs": [],
   "source": [
    "print(r, p)"
   ]
  },
  {
   "cell_type": "markdown",
   "id": "5c967214",
   "metadata": {},
   "source": [
    "### Plotvorschlag von Andreas (Steigung 1 perfekt)"
   ]
  },
  {
   "cell_type": "code",
   "execution_count": null,
   "id": "53b479af",
   "metadata": {},
   "outputs": [],
   "source": [
    "z_i_plus_1_minus_z_i = (torch.stack(propagated_latents).cpu() - torch.stack(latents_AE)[:, 1:].cpu())**2"
   ]
  },
  {
   "cell_type": "code",
   "execution_count": null,
   "id": "6477e962",
   "metadata": {},
   "outputs": [],
   "source": [
    "z_i_plus_1_minus_z_i_mse = z_i_plus_1_minus_z_i.mean(axis=(2, 3, 4))\n",
    "z_i_plus_1_minus_z_i_mse.shape"
   ]
  },
  {
   "cell_type": "code",
   "execution_count": null,
   "id": "933fb411",
   "metadata": {},
   "outputs": [],
   "source": [
    "x = einops.rearrange(z_i_plus_1_minus_z_i_mse, 't m -> (t m)').numpy(force=True)\n",
    "y = einops.rearrange(latents_AE_diffs, 't m -> (t m)').numpy(force=True)"
   ]
  },
  {
   "cell_type": "code",
   "execution_count": null,
   "id": "9308bf9b",
   "metadata": {},
   "outputs": [],
   "source": [
    "r, p = pearsonr(x, y)"
   ]
  },
  {
   "cell_type": "code",
   "execution_count": null,
   "id": "e4056c58",
   "metadata": {},
   "outputs": [],
   "source": [
    "coeffs = np.polyfit(x, y, deg=1)\n",
    "slope, intercept = coeffs\n",
    "\n",
    "# regression line values\n",
    "x_line = np.linspace(x.min(), x.max(), 100)\n",
    "y_line = slope * x_line + intercept"
   ]
  },
  {
   "cell_type": "code",
   "execution_count": null,
   "id": "0bce4104",
   "metadata": {},
   "outputs": [],
   "source": [
    "plt.figure(figsize=(8, 5), dpi=150)\n",
    "plt.scatter(x, y, alpha=0.7)\n",
    "plt.plot(x_line, y_line, linestyle=\"--\", label=f\"least squares fit: y = {slope:.3f}x + {intercept:.3f}\", color='red')\n",
    "plt.title(r\"$(\\boldsymbol{z}_{i+1}-\\boldsymbol{z}_{i})^2$ vs. $(\\hat{\\boldsymbol{z}}_{i+1}-\\boldsymbol{z}_i)^2$\" + f\", pearson r = {r:.3f} (p={p:.2g})\")\n",
    "plt.xlabel(\"Latent MSE\")\n",
    "plt.ylabel(\"Mean squared difference of latents\")\n",
    "plt.legend()\n",
    "plt.tight_layout()\n",
    "plt.show()"
   ]
  },
  {
   "cell_type": "markdown",
   "id": "4cdaf3a5",
   "metadata": {},
   "source": [
    "Aber dieser Plot ja nicht sehr aussagekräftig? Weil Sinn der Korrelation sollte ja das Finden eines Zusammenhangs zwischen latent Dynamik und Approximator Performance sein? Was soll das hier aussagen?"
   ]
  },
  {
   "cell_type": "code",
   "execution_count": null,
   "id": "03392e2d",
   "metadata": {},
   "outputs": [],
   "source": []
  },
  {
   "cell_type": "code",
   "execution_count": null,
   "id": "6128e0d6",
   "metadata": {},
   "outputs": [],
   "source": []
  },
  {
   "cell_type": "code",
   "execution_count": null,
   "id": "41b6767b",
   "metadata": {},
   "outputs": [],
   "source": []
  },
  {
   "cell_type": "code",
   "execution_count": null,
   "id": "ea97367b",
   "metadata": {},
   "outputs": [],
   "source": []
  },
  {
   "cell_type": "code",
   "execution_count": null,
   "id": "d51088cc",
   "metadata": {},
   "outputs": [],
   "source": [
    "GT_vel_fields_normalized_AE[0].shape"
   ]
  },
  {
   "cell_type": "code",
   "execution_count": null,
   "id": "321c2a8a",
   "metadata": {},
   "outputs": [],
   "source": [
    "GT_vel_fields_normalized_AE_cleaned = [elem[:, :, 1].abs().mean(1) for elem in GT_vel_fields_normalized_AE]"
   ]
  },
  {
   "cell_type": "code",
   "execution_count": null,
   "id": "aa46a0a6",
   "metadata": {},
   "outputs": [],
   "source": [
    "GT_vel_fields_normalized_AE_cleaned = torch.stack(GT_vel_fields_normalized_AE_cleaned)"
   ]
  },
  {
   "cell_type": "code",
   "execution_count": null,
   "id": "47f3882c",
   "metadata": {},
   "outputs": [],
   "source": [
    "GT_vel_fields_normalized_AE_cleaned.shape"
   ]
  },
  {
   "cell_type": "code",
   "execution_count": null,
   "id": "35d10dd6",
   "metadata": {},
   "outputs": [],
   "source": [
    "GT_vel_fields_normalized_AE_mean_x = (GT_vel_fields_normalized_AE_cleaned[..., 0])\n",
    "print(GT_vel_fields_normalized_AE_mean_x.shape)"
   ]
  },
  {
   "cell_type": "code",
   "execution_count": null,
   "id": "1802f232",
   "metadata": {},
   "outputs": [],
   "source": [
    "GT_vel_fields_normalized_AE_mean_y = (GT_vel_fields_normalized_AE_cleaned[..., 1])\n",
    "print(GT_vel_fields_normalized_AE_mean_y.shape)"
   ]
  },
  {
   "cell_type": "code",
   "execution_count": null,
   "id": "db300f82",
   "metadata": {},
   "outputs": [],
   "source": [
    "MSE_field_normalized_AE_stacked = torch.stack(MSE_fields_normalized_AE, dim=0)\n",
    "print(MSE_field_normalized_AE_stacked.shape)"
   ]
  },
  {
   "cell_type": "code",
   "execution_count": null,
   "id": "ebd71001",
   "metadata": {},
   "outputs": [],
   "source": [
    "MSE_field_normalized_AE_stacked_numpy = MSE_field_normalized_AE_stacked.cpu().numpy()\n",
    "print(MSE_field_normalized_AE_stacked_numpy.shape)"
   ]
  },
  {
   "cell_type": "code",
   "execution_count": null,
   "id": "dc8abdc7",
   "metadata": {},
   "outputs": [],
   "source": [
    "\n",
    "GT_vel_fields_normalized_AE_mean_x_numpy = GT_vel_fields_normalized_AE_mean_x.cpu().numpy()\n",
    "GT_vel_fields_normalized_AE_mean_y_numpy = GT_vel_fields_normalized_AE_mean_y.cpu().numpy()"
   ]
  },
  {
   "cell_type": "code",
   "execution_count": null,
   "id": "11d759a2",
   "metadata": {},
   "outputs": [],
   "source": [
    "x = MSE_field_normalized_AE_stacked_numpy.flatten()\n",
    "y = GT_vel_fields_normalized_AE_mean_x_numpy.flatten()"
   ]
  },
  {
   "cell_type": "code",
   "execution_count": null,
   "id": "bf7a2e40",
   "metadata": {},
   "outputs": [],
   "source": [
    "r, p = pearsonr(x, y)"
   ]
  },
  {
   "cell_type": "code",
   "execution_count": null,
   "id": "54fa090a",
   "metadata": {},
   "outputs": [],
   "source": [
    "coeffs = np.polyfit(x, y, deg=1)\n",
    "slope, intercept = coeffs\n",
    "\n",
    "# regression line values\n",
    "x_line = np.linspace(x.min(), x.max(), 100)\n",
    "y_line = slope * x_line + intercept"
   ]
  },
  {
   "cell_type": "code",
   "execution_count": null,
   "id": "35c0e36c",
   "metadata": {},
   "outputs": [],
   "source": [
    "plt.figure(figsize=(8, 5), dpi=150)\n",
    "plt.scatter(x, y, alpha=0.7)\n",
    "plt.plot(x_line, y_line, linestyle=\"--\", label=f\"least squares fit: y = {slope:.3f}x + {intercept:.3f}\", color='red')\n",
    "plt.title(f\"Mean field strength in x-direction vs. field MSE\\nPearson r = {r:.3f} (p={p:.2g})\")\n",
    "plt.xlabel(\"Field MSE\")\n",
    "plt.ylabel(\"Mean field strength in x-direction\")\n",
    "plt.legend()\n",
    "plt.tight_layout()\n",
    "plt.show()"
   ]
  },
  {
   "cell_type": "code",
   "execution_count": null,
   "id": "ed33f346",
   "metadata": {},
   "outputs": [],
   "source": [
    "x = MSE_field_normalized_AE_stacked_numpy.flatten()\n",
    "y = GT_vel_fields_normalized_AE_mean_y_numpy.flatten()"
   ]
  },
  {
   "cell_type": "code",
   "execution_count": null,
   "id": "b3e210e1",
   "metadata": {},
   "outputs": [],
   "source": [
    "r, p = pearsonr(x, y)"
   ]
  },
  {
   "cell_type": "code",
   "execution_count": null,
   "id": "ff7fbae2",
   "metadata": {},
   "outputs": [],
   "source": [
    "coeffs = np.polyfit(x, y, deg=1)\n",
    "slope, intercept = coeffs\n",
    "\n",
    "# regression line values\n",
    "x_line = np.linspace(x.min(), x.max(), 100)\n",
    "y_line = slope * x_line + intercept"
   ]
  },
  {
   "cell_type": "code",
   "execution_count": null,
   "id": "f2ed1ab5",
   "metadata": {},
   "outputs": [],
   "source": [
    "plt.figure(figsize=(8, 5), dpi=150)\n",
    "plt.scatter(x, y, alpha=0.7)\n",
    "plt.plot(x_line, y_line, linestyle=\"--\", label=f\"least squares fit: y = {slope:.3f}x + {intercept:.3f}\", color='red')\n",
    "plt.title(f\"Mean field strength in y-direction vs. field MSE\\nPearson r = {r:.3f} (p={p:.2g})\")\n",
    "plt.xlabel(\"Field MSE\")\n",
    "plt.ylabel(\"Mean field strength in y-direction\")\n",
    "plt.legend()\n",
    "plt.tight_layout()\n",
    "plt.show()"
   ]
  },
  {
   "cell_type": "code",
   "execution_count": null,
   "id": "e98bb173",
   "metadata": {},
   "outputs": [],
   "source": [
    "MSE_field_normalized_AE_stacked_numpy.shape"
   ]
  },
  {
   "cell_type": "code",
   "execution_count": null,
   "id": "0cea5efa",
   "metadata": {},
   "outputs": [],
   "source": [
    "MSE_fields_normalized_AE_mean = MSE_field_normalized_AE_stacked_numpy.mean(axis=0)\n",
    "MSE_fields_normalized_AE_std = MSE_field_normalized_AE_stacked_numpy.std(axis=0)"
   ]
  },
  {
   "cell_type": "code",
   "execution_count": null,
   "id": "5936240d",
   "metadata": {},
   "outputs": [],
   "source": [
    "plt.figure(figsize=(10, 5))\n",
    "plt.bar(range(len(MSE_fields_normalized_AE_mean)), MSE_fields_normalized_AE_mean)\n",
    "plt.xlabel('Timestep')\n",
    "plt.ylabel('Mean MSE')\n",
    "plt.title('Mean MSE per Timestep')"
   ]
  },
  {
   "cell_type": "code",
   "execution_count": null,
   "id": "02383e88",
   "metadata": {},
   "outputs": [],
   "source": [
    "plt.figure(figsize=(10, 5))\n",
    "plt.bar(range(len(MSE_fields_normalized_AE_std)), MSE_fields_normalized_AE_std)\n",
    "plt.xlabel('Timestep')\n",
    "plt.ylabel('MSE Variance')\n",
    "plt.title('MSE Variance per Timestep')"
   ]
  },
  {
   "cell_type": "code",
   "execution_count": null,
   "id": "eddd9150",
   "metadata": {},
   "outputs": [],
   "source": [
    "MSE_fields_normalized_AE_mean_var_ratio = MSE_fields_normalized_AE_mean/MSE_fields_normalized_AE_std"
   ]
  },
  {
   "cell_type": "code",
   "execution_count": null,
   "id": "7fa4b59d",
   "metadata": {},
   "outputs": [],
   "source": [
    "plt.figure(figsize=(10, 5))\n",
    "plt.bar(range(len(MSE_fields_normalized_AE_mean_var_ratio)), MSE_fields_normalized_AE_mean_var_ratio)\n",
    "plt.xlabel('Timestep')\n",
    "plt.ylabel('MSE Variance')\n",
    "plt.title('MSE Variance per Timestep')"
   ]
  },
  {
   "cell_type": "code",
   "execution_count": null,
   "id": "5e94180f",
   "metadata": {},
   "outputs": [],
   "source": [
    "def plot_mean_with_variance(mean, var, x=None, xlabel=\"Index\", ylabel=\"Value\", lower_bound=1e-14, log=True):\n",
    "    \"\"\"\n",
    "    Plot a line for the mean values with a shaded ±variance envelope.\n",
    "\n",
    "    Parameters\n",
    "    ----------\n",
    "    mean : array‑like\n",
    "        Sequence of mean values.\n",
    "    var : array‑like\n",
    "        Sequence of variances (same length as `mean`).\n",
    "    x : array‑like or None, optional\n",
    "        X‑coordinates. If None, uses 0…N‑1.\n",
    "    \"\"\"\n",
    "    mean = np.asarray(mean)\n",
    "    var = np.asarray(var)\n",
    "\n",
    "    if x is None:\n",
    "        x = np.arange(len(mean))\n",
    "\n",
    "    lower = mean - var\n",
    "    lower = np.maximum(lower, lower_bound)\n",
    "    upper = mean + var\n",
    "\n",
    "    fig, ax = plt.subplots(figsize=(10, 4), dpi=300)\n",
    "    ax.plot(x, mean, label=\"Mean\", color='blue', linewidth=0.5)\n",
    "    ax.fill_between(x, lower, upper, alpha=0.75, label=\"Mean ± Std\")\n",
    "    ax.plot(x, lower, color='blue', linestyle='--', linewidth=0.2)\n",
    "    ax.plot(x, upper, color='blue', linestyle='--', linewidth=0.2)\n",
    "    ax.set_xlabel(xlabel)\n",
    "    ax.set_ylabel(ylabel)\n",
    "    ax.xaxis.grid(True)\n",
    "    # log scale\n",
    "    if log: ax.set_yscale(\"log\")\n",
    "    plt.show()"
   ]
  },
  {
   "cell_type": "code",
   "execution_count": null,
   "id": "68744067",
   "metadata": {},
   "outputs": [],
   "source": [
    "MSE_Field_latent_physics_stacked = torch.stack(MSE_Field_latent_physics, dim=0)\n",
    "MSE_fields_normalized_physics = torch.stack(MSE_fields_normalized_physics, dim=0)"
   ]
  },
  {
   "cell_type": "code",
   "execution_count": null,
   "id": "a31fd2d6",
   "metadata": {},
   "outputs": [],
   "source": [
    "MSE_Field_latent_physics_stacked_mean = MSE_Field_latent_physics_stacked.mean(axis=0).cpu().numpy()\n",
    "MSE_Field_latent_physics_stacked_std = MSE_Field_latent_physics_stacked.std(axis=0).cpu().numpy()\n",
    "MSE_fields_normalized_physics_mean = MSE_fields_normalized_physics.mean(axis=0).cpu().numpy()\n",
    "MSE_fields_normalized_physics_std = MSE_fields_normalized_physics.std(axis=0).cpu().numpy()"
   ]
  },
  {
   "cell_type": "code",
   "execution_count": null,
   "id": "3d3bd4d5",
   "metadata": {},
   "outputs": [],
   "source": [
    "plot_mean_with_variance(\n",
    "    MSE_Field_latent_physics_stacked_mean,\n",
    "    MSE_Field_latent_physics_stacked_std,\n",
    "    xlabel=\"Rollout Timestep\",\n",
    "    ylabel=\"One-step oracle latent error\",\n",
    "    lower_bound=1e-3, # got a weird numeric outlier around timestep 170\n",
    ")"
   ]
  },
  {
   "cell_type": "code",
   "execution_count": null,
   "id": "fc5eca84",
   "metadata": {},
   "outputs": [],
   "source": [
    "plot_mean_with_variance(\n",
    "    MSE_Field_latent_physics_stacked_mean,\n",
    "    MSE_Field_latent_physics_stacked_std,\n",
    "    xlabel=\"Rollout Timestep\",\n",
    "    ylabel=\"One-step oracle latent error\",\n",
    ")"
   ]
  },
  {
   "cell_type": "code",
   "execution_count": null,
   "id": "cd4d1e02",
   "metadata": {},
   "outputs": [],
   "source": [
    "MSE_fields_normalized_AE = torch.stack(MSE_fields_normalized_AE, dim=0)"
   ]
  },
  {
   "cell_type": "code",
   "execution_count": null,
   "id": "ff7d5afc",
   "metadata": {},
   "outputs": [],
   "source": [
    "MSE_fields_normalized_AE.shape"
   ]
  },
  {
   "cell_type": "code",
   "execution_count": null,
   "id": "ea44eb41",
   "metadata": {},
   "outputs": [],
   "source": [
    "MSE_fields_normalized_AE_mean = MSE_fields_normalized_AE.mean(axis=0).cpu().numpy()\n",
    "MSE_fields_normalized_AE_std = MSE_fields_normalized_AE.std(axis=0).cpu().numpy()"
   ]
  },
  {
   "cell_type": "code",
   "execution_count": null,
   "id": "dd8a1863",
   "metadata": {},
   "outputs": [],
   "source": [
    "plot_mean_with_variance( # after retraining... looks almost identical\n",
    "    MSE_fields_normalized_AE_mean,\n",
    "    MSE_fields_normalized_AE_std,\n",
    "    xlabel=\"Rollout Timestep\",\n",
    "    ylabel=\"Autoencoding error\",\n",
    "    lower_bound=1e-6,\n",
    "    log=False\n",
    ")"
   ]
  },
  {
   "cell_type": "code",
   "execution_count": null,
   "id": "81e8106a",
   "metadata": {},
   "outputs": [],
   "source": [
    "plot_mean_with_variance(\n",
    "    MSE_fields_normalized_AE_mean,\n",
    "    MSE_fields_normalized_AE_std,\n",
    "    xlabel=\"Rollout Timestep\",\n",
    "    ylabel=\"Autoencoding error\",\n",
    "    lower_bound=1e-6,\n",
    "    log=False\n",
    ")"
   ]
  },
  {
   "cell_type": "code",
   "execution_count": null,
   "id": "767e1095",
   "metadata": {},
   "outputs": [],
   "source": [
    "plot_mean_with_variance(\n",
    "    MSE_fields_normalized_AE_mean,\n",
    "    MSE_fields_normalized_AE_std,\n",
    "    xlabel=\"Rollout Timestep\",\n",
    "    ylabel=\"Autoencoding error\",\n",
    ")"
   ]
  },
  {
   "cell_type": "code",
   "execution_count": null,
   "id": "618f775f",
   "metadata": {},
   "outputs": [],
   "source": [
    "plot_mean_with_variance(\n",
    "    MSE_fields_normalized_physics_mean,\n",
    "    MSE_fields_normalized_physics_std,\n",
    "    xlabel=\"Rollout timestep\",\n",
    "    ylabel=\"One-step oracle error\",\n",
    "    lower_bound=1e-6,\n",
    "    log=False\n",
    ")\n",
    "plot_mean_with_variance(\n",
    "    MSE_fields_normalized_AE_mean,\n",
    "    MSE_fields_normalized_AE_std,\n",
    "    xlabel=\"Rollout timestep\",\n",
    "    ylabel=\"Autoencoding error\",\n",
    "    lower_bound=1e-6,\n",
    "    log=False\n",
    ")"
   ]
  },
  {
   "cell_type": "code",
   "execution_count": null,
   "id": "4676eaf7",
   "metadata": {},
   "outputs": [],
   "source": [
    "plot_mean_with_variance(\n",
    "    MSE_fields_normalized_physics_mean,\n",
    "    MSE_fields_normalized_physics_std,\n",
    "    xlabel=\"Rollout timestep\",\n",
    "    ylabel=\"One-step oracle error\",\n",
    ")\n",
    "plot_mean_with_variance(\n",
    "    MSE_fields_normalized_AE_mean,\n",
    "    MSE_fields_normalized_AE_std,\n",
    "    xlabel=\"Rollout timestep\",\n",
    "    ylabel=\"Autoencoding error\",\n",
    ")"
   ]
  },
  {
   "cell_type": "code",
   "execution_count": null,
   "id": "79fdd967",
   "metadata": {},
   "outputs": [],
   "source": [
    "MSE_fields_normalized_physics.shape"
   ]
  },
  {
   "cell_type": "code",
   "execution_count": null,
   "id": "3790054a",
   "metadata": {},
   "outputs": [],
   "source": [
    "diff = MSE_fields_normalized_physics - MSE_fields_normalized_AE[:, 1:]"
   ]
  },
  {
   "cell_type": "code",
   "execution_count": null,
   "id": "3ec4de2f",
   "metadata": {},
   "outputs": [],
   "source": [
    "diff_mean = diff.mean(axis=0).cpu().numpy()\n",
    "diff_std = diff.std(axis=0).cpu().numpy()"
   ]
  },
  {
   "cell_type": "code",
   "execution_count": null,
   "id": "3c91f06e",
   "metadata": {},
   "outputs": [],
   "source": [
    "plot_mean_with_variance(\n",
    "    diff_mean,\n",
    "    diff_std,\n",
    "    xlabel=\"Rollout timestep\",\n",
    "    ylabel=\"Approximator error\",\n",
    ")"
   ]
  },
  {
   "cell_type": "markdown",
   "id": "f0c8b69c",
   "metadata": {},
   "source": [
    "## Approximation quality"
   ]
  },
  {
   "cell_type": "code",
   "execution_count": null,
   "id": "32cc6c0f",
   "metadata": {},
   "outputs": [],
   "source": [
    "approximator_errors = []\n",
    "for (MSE_field_normalized_AE, MSE_field_normalized_physics) in zip(MSE_fields_normalized_AE, MSE_fields_normalized_physics):\n",
    "    approximator_errors.append(MSE_field_normalized_physics - MSE_field_normalized_AE[1:])"
   ]
  },
  {
   "cell_type": "code",
   "execution_count": null,
   "id": "d7aed6e9",
   "metadata": {},
   "outputs": [],
   "source": [
    "approximator_errors = torch.stack(approximator_errors, dim=0)"
   ]
  },
  {
   "cell_type": "code",
   "execution_count": null,
   "id": "f516e6fb",
   "metadata": {},
   "outputs": [],
   "source": [
    "approximator_errors.mean()"
   ]
  },
  {
   "cell_type": "code",
   "execution_count": null,
   "id": "e042f79d",
   "metadata": {},
   "outputs": [],
   "source": []
  },
  {
   "cell_type": "markdown",
   "id": "12ca458c",
   "metadata": {},
   "source": [
    "# Rollout analysis"
   ]
  },
  {
   "cell_type": "code",
   "execution_count": null,
   "id": "3455efd3",
   "metadata": {},
   "outputs": [],
   "source": [
    "TRAJ_IDX = list(range(dataset_AE.get_dataset(split=\"test\").n_traj)) # list of all test trajectories\n",
    "START_IDXS_PER_TRAJ = 100\n",
    "FIXED_LENGTH = 80 # length for each rollout\n",
    "n_per_traj = dataset_PH.get_dataset(split=\"test\").n_per_traj"
   ]
  },
  {
   "cell_type": "code",
   "execution_count": null,
   "id": "39c0930e",
   "metadata": {},
   "outputs": [],
   "source": [
    "IDX = []\n",
    "for i in range(len(TRAJ_IDX)):\n",
    "    traj_idx_list = []\n",
    "    for j in range(START_IDXS_PER_TRAJ):\n",
    "        # sample from 0 to dataset_PH.get_dataset(split=\"test\").n_per_traj - FIXED_LENGTH\n",
    "        idx = np.random.randint(0, n_per_traj - FIXED_LENGTH)\n",
    "        traj_idx_list.append(idx)\n",
    "    IDX.append(traj_idx_list)"
   ]
  },
  {
   "cell_type": "code",
   "execution_count": null,
   "id": "7836afff",
   "metadata": {},
   "outputs": [],
   "source": [
    "rollout_physics, GT_physics, GT_vel_fields_normalized_physics, MSE_fields_normalized_physics, MSE_Field_latent_physics, propagated_latents = lit_model.rollout_physics(\n",
    "    particle_dm=dataset_PH,\n",
    "    traj_idx=TRAJ_IDX,\n",
    "    idx=IDX,\n",
    "    query_gt_pos=False,\n",
    "    split=\"test\",\n",
    "    use_gt_field=False,\n",
    "    fixed_length=FIXED_LENGTH\n",
    ")"
   ]
  },
  {
   "cell_type": "code",
   "execution_count": null,
   "id": "79140c7b",
   "metadata": {},
   "outputs": [],
   "source": [
    "torch.save(MSE_fields_normalized_physics, \"D:/Projects/Master/UPT/data/rollout_data/MSE_fields_normalized_physics.pt\")\n",
    "torch.save(MSE_Field_latent_physics, \"D:/Projects/Master/UPT/data/rollout_data/MSE_Field_latent_physics.pt\")\n",
    "torch.save(propagated_latents, \"D:/Projects/Master/UPT/data/rollout_data/propagated_latents.pt\")\n",
    "torch.save(rollout_physics, \"D:/Projects/Master/UPT/data/rollout_data/rollout_physics.pt\")"
   ]
  },
  {
   "cell_type": "code",
   "execution_count": null,
   "id": "586b5d5f",
   "metadata": {},
   "outputs": [],
   "source": [
    "rollout_AE, GT_AE, GT_vel_fields_normalized_AE, MSE_fields_normalized_AE, latents_AE = model.GT_encode_decode(\n",
    "    particle_dm=dataset_AE,\n",
    "    traj_idx=TRAJ_IDX,\n",
    "    idx=IDX,\n",
    "    query_gt_pos=True,\n",
    "    split=\"test\",\n",
    "    fixed_length=FIXED_LENGTH\n",
    ")"
   ]
  },
  {
   "cell_type": "code",
   "execution_count": null,
   "id": "2625278e",
   "metadata": {},
   "outputs": [],
   "source": [
    "torch.save(latents_AE, \"D:/Projects/Master/UPT/data/rollout_data/latents_AE.pt\")"
   ]
  },
  {
   "cell_type": "markdown",
   "id": "c539533d",
   "metadata": {},
   "source": [
    "## Rollout 10 timesteps"
   ]
  },
  {
   "cell_type": "code",
   "execution_count": null,
   "id": "e9f398ac",
   "metadata": {},
   "outputs": [],
   "source": [
    "TRAJ_IDX = list(range(dataset_AE.get_dataset(split=\"test\").n_traj)) # list of all test trajectories\n",
    "FIXED_LENGTH = 10 # length for each rollout\n",
    "n_per_traj_PH = dataset_PH.get_dataset(split=\"test\").n_per_traj\n",
    "n_per_traj_AE = dataset_AE.get_dataset(split=\"test\").n_per_traj\n",
    "IDX_PH = [list(range(n_per_traj_PH - FIXED_LENGTH)) for _ in range(len(TRAJ_IDX))]  # starting indeces (all start idxes which allow length of FIXED_LENGTH)\n",
    "IDX_AE = [list(range(n_per_traj_AE - FIXED_LENGTH)) for _ in range(len(TRAJ_IDX))]  # starting indeces (all start idxes which allow length of FIXED_LENGTH)"
   ]
  },
  {
   "cell_type": "code",
   "execution_count": null,
   "id": "d1bf6e1d",
   "metadata": {},
   "outputs": [],
   "source": [
    "rollout_physics, fields, GT_physics, GT_vel_fields_normalized_physics, MSE_fields_normalized_physics, MSE_Field_latent_physics, propagated_latents = lit_model.rollout_physics(\n",
    "    particle_dm=dataset_PH,\n",
    "    traj_idx=TRAJ_IDX,\n",
    "    idx=IDX_PH,\n",
    "    query_gt_pos=False,\n",
    "    split=\"test\",\n",
    "    use_gt_field=False,\n",
    "    fixed_length=FIXED_LENGTH\n",
    ")"
   ]
  },
  {
   "cell_type": "code",
   "execution_count": null,
   "id": "7c10ea41",
   "metadata": {},
   "outputs": [],
   "source": [
    "torch.save(MSE_field_normalized_physics, \"D:/Projects/Master/UPT/data/10_step_rollout_data_2_1_1_prac/MSE_field_normalized_physics.pt\")"
   ]
  },
  {
   "cell_type": "code",
   "execution_count": null,
   "id": "9b4c5b4d",
   "metadata": {},
   "outputs": [],
   "source": [
    "# MSE_fields_normalized_physics = torch.load(\"D:/Projects/Master/UPT/data/rollout_data_every_start_10_timesteps/MSE_fields_normalized_physics.pt\")"
   ]
  },
  {
   "cell_type": "code",
   "execution_count": null,
   "id": "a106bc2c",
   "metadata": {},
   "outputs": [],
   "source": [
    "MSE_field_normalized_physics = torch.stack(MSE_fields_normalized_physics, dim=0)"
   ]
  },
  {
   "cell_type": "code",
   "execution_count": null,
   "id": "357d17f9",
   "metadata": {},
   "outputs": [],
   "source": [
    "MSE_field_normalized_physics = einops.rearrange(MSE_field_normalized_physics, '(n T) t -> n t T', n=len(TRAJ_IDX))"
   ]
  },
  {
   "cell_type": "code",
   "execution_count": null,
   "id": "63808064",
   "metadata": {},
   "outputs": [],
   "source": [
    "MSE_field_normalized_physics.shape"
   ]
  },
  {
   "cell_type": "code",
   "execution_count": null,
   "id": "28e2f82d",
   "metadata": {},
   "outputs": [],
   "source": [
    "MSE_field_normalized_physics_mean = MSE_field_normalized_physics.mean(axis=0).cpu().numpy()\n",
    "MSE_field_normalized_physics_std = MSE_field_normalized_physics.std(axis=0).cpu().numpy()"
   ]
  },
  {
   "cell_type": "code",
   "execution_count": null,
   "id": "83557e15",
   "metadata": {},
   "outputs": [],
   "source": [
    "plot_mean_with_variance(\n",
    "    MSE_field_normalized_physics_mean[0],\n",
    "    MSE_field_normalized_physics_std[0],\n",
    "    xlabel=\"Rollout Timestep\",\n",
    "    ylabel=\"0th rollout step error\",\n",
    "    log=False\n",
    ")"
   ]
  },
  {
   "cell_type": "code",
   "execution_count": null,
   "id": "b515957a",
   "metadata": {},
   "outputs": [],
   "source": [
    "plot_mean_with_variance(\n",
    "    MSE_field_normalized_physics_mean[2],\n",
    "    MSE_field_normalized_physics_std[2],\n",
    "    xlabel=\"Rollout Timestep\",\n",
    "    ylabel=\"2nd rollout step error\",\n",
    "    log=False\n",
    ")"
   ]
  },
  {
   "cell_type": "code",
   "execution_count": null,
   "id": "398647c8",
   "metadata": {},
   "outputs": [],
   "source": [
    "plot_mean_with_variance(\n",
    "    MSE_field_normalized_physics_mean[4],\n",
    "    MSE_field_normalized_physics_std[4],\n",
    "    xlabel=\"Rollout Timestep\",\n",
    "    ylabel=\"5th rollout step error\",\n",
    "    log=False\n",
    ")"
   ]
  },
  {
   "cell_type": "markdown",
   "id": "a94163d9",
   "metadata": {},
   "source": [
    "## Rollout 100 timesteps, each starting position"
   ]
  },
  {
   "cell_type": "code",
   "execution_count": null,
   "id": "a82e8721",
   "metadata": {},
   "outputs": [],
   "source": [
    "TRAJ_IDX = list(range(dataset_AE.get_dataset(split=\"test\").n_traj)) # list of all test trajectories\n",
    "FIXED_LENGTH = 70 # length for each rollout\n",
    "n_per_traj_PH = dataset_PH.get_dataset(split=\"test\").n_per_traj\n",
    "n_per_traj_AE = dataset_AE.get_dataset(split=\"test\").n_per_traj\n",
    "IDX_PH = [list(range(n_per_traj_PH - FIXED_LENGTH)) for _ in range(len(TRAJ_IDX))]  # starting indeces (all start idxes which allow length of FIXED_LENGTH)\n",
    "IDX_AE = [list(range(n_per_traj_AE - FIXED_LENGTH)) for _ in range(len(TRAJ_IDX))]  # starting indeces (all start idxes which allow length of FIXED_LENGTH)"
   ]
  },
  {
   "cell_type": "code",
   "execution_count": null,
   "id": "6652aa27",
   "metadata": {},
   "outputs": [],
   "source": [
    "rollout_physics, GT_physics, GT_vel_fields_normalized_physics, MSE_fields_normalized_physics, MSE_Field_latent_physics, propagated_latents = lit_model.rollout_physics(\n",
    "    particle_dm=dataset_PH,\n",
    "    traj_idx=TRAJ_IDX,\n",
    "    idx=IDX_PH,\n",
    "    query_gt_pos=False,\n",
    "    split=\"test\",\n",
    "    use_gt_field=False,\n",
    "    fixed_length=FIXED_LENGTH\n",
    ")"
   ]
  },
  {
   "cell_type": "code",
   "execution_count": null,
   "id": "99c9cf0c",
   "metadata": {},
   "outputs": [],
   "source": [
    "# torch.save(GT_physics, \"D:/Projects/Master/UPT/data/rollout_data_every_start_100_timesteps/GT_physics.pt\")\n",
    "rollout_physics = torch.load(\"D:/Projects/Master/UPT/data/rollout_data_every_start_100_timesteps/rollout_physics.pt\")"
   ]
  },
  {
   "cell_type": "code",
   "execution_count": null,
   "id": "d12567ec",
   "metadata": {},
   "outputs": [],
   "source": [
    "GT_physics = torch.load(\"D:/Projects/Master/UPT/data/rollout_data_every_start_100_timesteps/GT_physics.pt\")"
   ]
  },
  {
   "cell_type": "code",
   "execution_count": null,
   "id": "42c2e3f9",
   "metadata": {},
   "outputs": [],
   "source": [
    "torch.save(MSE_fields_normalized_physics, \"D:/Projects/Master/UPT/data/rollout_data_every_start_100_timesteps/MSE_fields_normalized_physics.pt\")\n",
    "torch.save(MSE_Field_latent_physics, \"D:/Projects/Master/UPT/data/rollout_data_every_start_100_timesteps/MSE_Field_latent_physics.pt\")\n",
    "# torch.save(propagated_latents, \"D:/Projects/Master/UPT/data/rollout_data_every_start_10_timesteps/propagated_latents.pt\")\n",
    "torch.save(rollout_physics, \"D:/Projects/Master/UPT/data/rollout_data_every_start_100_timesteps/rollout_physics.pt\")"
   ]
  },
  {
   "cell_type": "code",
   "execution_count": null,
   "id": "f2bb4b82",
   "metadata": {},
   "outputs": [],
   "source": [
    "MSE_Field_latent_physics = torch.load(\"D:/Projects/Master/UPT/data/rollout_data_every_start_100_timesteps/MSE_Field_latent_physics.pt\")"
   ]
  },
  {
   "cell_type": "code",
   "execution_count": null,
   "id": "02d356f4",
   "metadata": {},
   "outputs": [],
   "source": [
    "rollout_AE, GT_AE, GT_vel_fields_normalized_AE, MSE_fields_normalized_AE, latents_AE = model.GT_encode_decode(\n",
    "    particle_dm=dataset_AE,\n",
    "    traj_idx=TRAJ_IDX,\n",
    "    idx=IDX_AE,\n",
    "    query_gt_pos=False,\n",
    "    split=\"test\",\n",
    "    fixed_length=FIXED_LENGTH\n",
    ")"
   ]
  },
  {
   "cell_type": "code",
   "execution_count": null,
   "id": "fe68fb54",
   "metadata": {},
   "outputs": [],
   "source": [
    "# torch.save(latents_AE, \"D:/Projects/Master/UPT/data/rollout_data_every_start_100_timesteps/latents_AE.pt\")\n",
    "# torch.save(MSE_fields_normalized_AE, \"D:/Projects/Master/UPT/data/rollout_data_every_start_100_timesteps/MSE_fields_normalized_AE.pt\")\n",
    "# torch.save(rollout_AE, \"D:/Projects/Master/UPT/data/rollout_data_every_start_100_timesteps/rollout_AE_int_70_steps.pt\")\n",
    "# torch.save(GT_AE, \"D:/Projects/Master/UPT/data/rollout_data_every_start_100_timesteps/GT_AE_70_steps.pt\")"
   ]
  },
  {
   "cell_type": "code",
   "execution_count": null,
   "id": "5146c8fa",
   "metadata": {},
   "outputs": [],
   "source": [
    "rollout_AE = torch.load(\"D:/Projects/Master/UPT/data/rollout_data_every_start_100_timesteps/rollout_AE_int_70_steps.pt\")\n",
    "GT_AE = torch.load(\"D:/Projects/Master/UPT/data/rollout_data_every_start_100_timesteps/GT_AE_70_steps.pt\")"
   ]
  },
  {
   "cell_type": "code",
   "execution_count": null,
   "id": "b80fd3b5",
   "metadata": {},
   "outputs": [],
   "source": [
    "propagated_latents = torch.load(\"D:/Projects/Master/UPT/data/rollout_data_every_start_10_timesteps/propagated_latents.pt\")\n",
    "latents_AE = torch.load(\"D:/Projects/Master/UPT/data/rollout_data_every_start_10_timesteps/latents_AE.pt\")"
   ]
  },
  {
   "cell_type": "markdown",
   "id": "89542086",
   "metadata": {},
   "source": [
    "### Mean and std per rollout setp"
   ]
  },
  {
   "cell_type": "code",
   "execution_count": null,
   "id": "0120c399",
   "metadata": {},
   "outputs": [],
   "source": [
    "import numpy as np\n",
    "import matplotlib.pyplot as plt\n",
    "\n",
    "def plot_means_variances(\n",
    "    means: np.ndarray,\n",
    "    stds: np.ndarray,\n",
    "    xlabel: str,\n",
    "    ylabel: str,\n",
    "    ax: plt.Axes | None = None,\n",
    "    *,\n",
    "    color: str = \"red\",\n",
    "    upper_bond: float | None = None,\n",
    "    lower_bound: float | None = None,\n",
    "    line_kw: dict | None = None,\n",
    "    fill_kw: dict | None = None,\n",
    "    lower_value: float | None = None,  # new argument for scaling\n",
    "):\n",
    "    \"\"\"\n",
    "    Plot a sequence of means with ±1 SD envelopes.\n",
    "\n",
    "    Parameters\n",
    "    ----------\n",
    "    mean_var : (n, 2) ndarray\n",
    "    Column 0 = means, Column 1 = variances.\n",
    "    ax : matplotlib.axes.Axes, optional\n",
    "    Axis to draw on.  If None, a new figure+axis is created.\n",
    "    color : str, default 'red'\n",
    "    Base color for the styling.\n",
    "    line_kw : dict, optional\n",
    "    Extra kwargs forwarded to the central mean line.\n",
    "    fill_kw : dict, optional\n",
    "    Extra kwargs forwarded to `fill_between`.\n",
    "    lower_value : float, optional\n",
    "    Minimum value for lower bound scaling.\n",
    "\n",
    "    Returns\n",
    "    -------\n",
    "    matplotlib.axes.Axes\n",
    "    The axis containing the plot.\n",
    "    \"\"\"\n",
    "    x     = np.arange(1, means.shape[0] + 1)\n",
    "\n",
    "    # sensible default styles\n",
    "    line_kw = dict(line_kw or {}, lw=2.5, zorder=3, label=\"mean\")\n",
    "    fill_kw = dict(fill_kw or {}, alpha=0.18, linewidth=0, zorder=1)\n",
    "\n",
    "    if ax is None:\n",
    "        fig, ax = plt.subplots(figsize=(6, 4), dpi=200)\n",
    "    # central mean line\n",
    "    ax.plot(x, means, color=color, **line_kw)\n",
    "\n",
    "    # upper & lower SD bounds\n",
    "    upper = means + stds\n",
    "    lower = means - stds\n",
    "    if lower_bound is not None:\n",
    "        lower = np.clip(lower, a_min=lower_bound, a_max=None)\n",
    "    if upper_bond is not None:\n",
    "        upper = np.clip(upper, a_min=None, a_max=upper_bond)\n",
    "\n",
    "    ax.plot(x, upper, color=color, alpha=0.55, lw=1.2, zorder=2)\n",
    "    ax.plot(x, lower, color=color, alpha=0.55, lw=1.2, zorder=2)\n",
    "\n",
    "    # filled envelope\n",
    "    ax.fill_between(x, lower, upper, color=color, **fill_kw)\n",
    "\n",
    "    # cosmetics\n",
    "    ax.set_xlabel(xlabel)\n",
    "    ax.set_ylabel(ylabel)\n",
    "    ax.spines[\"top\"].set_visible(False)\n",
    "    ax.spines[\"right\"].set_visible(False)\n",
    "    ax.margins(x=0.02)\n",
    "    ax.grid(True, which=\"both\", ls=\":\", lw=0.5, zorder=0)\n",
    "    if lower_value is not None:\n",
    "        # keep the current upper limit unless the plotted data exceed it\n",
    "        ymin, ymax = ax.get_ylim()\n",
    "        ax.set_ylim(bottom=lower_value, top=max(ymax, upper.max()))\n",
    "    return ax\n"
   ]
  },
  {
   "cell_type": "code",
   "execution_count": null,
   "id": "386c393d",
   "metadata": {},
   "outputs": [],
   "source": [
    "propagated_latents = torch.stack(propagated_latents, dim=0)"
   ]
  },
  {
   "cell_type": "code",
   "execution_count": null,
   "id": "00b2bd40",
   "metadata": {},
   "outputs": [],
   "source": [
    "latents_AE = torch.stack(latents_AE, dim=0)"
   ]
  },
  {
   "cell_type": "code",
   "execution_count": null,
   "id": "036fd658",
   "metadata": {},
   "outputs": [],
   "source": [
    "propagated_latents.shape"
   ]
  },
  {
   "cell_type": "code",
   "execution_count": null,
   "id": "be9703df",
   "metadata": {},
   "outputs": [],
   "source": [
    "latents_AE.shape"
   ]
  },
  {
   "cell_type": "code",
   "execution_count": null,
   "id": "d96771ef",
   "metadata": {},
   "outputs": [],
   "source": [
    "MSE_Field_latent_physics = torch.stack(MSE_Field_latent_physics, dim=0)"
   ]
  },
  {
   "cell_type": "code",
   "execution_count": null,
   "id": "38374658",
   "metadata": {},
   "outputs": [],
   "source": [
    "MSE_Field_latent_physics.shape"
   ]
  },
  {
   "cell_type": "code",
   "execution_count": null,
   "id": "550e5c89",
   "metadata": {},
   "outputs": [],
   "source": [
    "MSE_Field_latent_means = MSE_Field_latent_physics.mean(axis=0).cpu().numpy()\n",
    "MSE_Field_latent_stds = MSE_Field_latent_physics.std(axis=0).cpu().numpy()"
   ]
  },
  {
   "cell_type": "code",
   "execution_count": null,
   "id": "0d7e6997",
   "metadata": {},
   "outputs": [],
   "source": [
    "plot_means_variances(\n",
    "    MSE_Field_latent_means,\n",
    "    MSE_Field_latent_stds\n",
    ")\n",
    "plt.show()"
   ]
  },
  {
   "cell_type": "code",
   "execution_count": null,
   "id": "c4ebd8a3",
   "metadata": {},
   "outputs": [],
   "source": [
    "plot_means_variances(\n",
    "    MSE_Field_latent_means[:10],\n",
    "    MSE_Field_latent_stds[:10]\n",
    ")\n",
    "plt.show()"
   ]
  },
  {
   "cell_type": "markdown",
   "id": "46427fe8",
   "metadata": {},
   "source": [
    "### Correlation and IoU per timestep???"
   ]
  },
  {
   "cell_type": "code",
   "execution_count": null,
   "id": "8e2f9f8c",
   "metadata": {},
   "outputs": [],
   "source": [
    "from src.utils.metric import calc_mean_iou, mean_iou, calc_correlation"
   ]
  },
  {
   "cell_type": "code",
   "execution_count": null,
   "id": "36d6801c",
   "metadata": {},
   "outputs": [],
   "source": [
    "print(len(GT_physics))\n",
    "print(len(rollout_physics))"
   ]
  },
  {
   "cell_type": "code",
   "execution_count": null,
   "id": "149d7f92",
   "metadata": {},
   "outputs": [],
   "source": [
    "correlations = []\n",
    "for (GT, rollout) in tqdm(zip(GT_physics, rollout_physics), total=len(GT_physics)):\n",
    "    correlations.append(calc_correlation(rollout.transpose(0, 1), GT.transpose(0, 1)))"
   ]
  },
  {
   "cell_type": "code",
   "execution_count": null,
   "id": "ac821a0b",
   "metadata": {},
   "outputs": [],
   "source": [
    "print(correlations[0].shape)\n",
    "print(correlations[0][99])"
   ]
  },
  {
   "cell_type": "code",
   "execution_count": null,
   "id": "bf579b05",
   "metadata": {},
   "outputs": [],
   "source": [
    "correlations = torch.stack(correlations, dim=0)"
   ]
  },
  {
   "cell_type": "code",
   "execution_count": null,
   "id": "c3d05f30",
   "metadata": {},
   "outputs": [],
   "source": [
    "correlations.shape"
   ]
  },
  {
   "cell_type": "code",
   "execution_count": null,
   "id": "c3012a44",
   "metadata": {},
   "outputs": [],
   "source": [
    "correlations_mean = correlations.mean(axis=0).cpu().numpy()\n",
    "correlation_std = correlations.std(axis=0).cpu().numpy()"
   ]
  },
  {
   "cell_type": "code",
   "execution_count": null,
   "id": "e8fb9762",
   "metadata": {},
   "outputs": [],
   "source": [
    "plot_means_variances(\n",
    "    correlations_mean,\n",
    "    correlation_std,\n",
    "    xlabel=\"Rollout Timestep\",\n",
    "    ylabel=\"Correlation between GT and rollout\",\n",
    "    upper_bond=1.0,\n",
    ")\n",
    "plt.show()"
   ]
  },
  {
   "cell_type": "code",
   "execution_count": null,
   "id": "aa5e28cb",
   "metadata": {},
   "outputs": [],
   "source": [
    "len(rollout_physics)"
   ]
  },
  {
   "cell_type": "code",
   "execution_count": null,
   "id": "70c73723",
   "metadata": {},
   "outputs": [],
   "source": [
    "rollout_physics[0].shape"
   ]
  },
  {
   "cell_type": "code",
   "execution_count": null,
   "id": "a78664c4",
   "metadata": {},
   "outputs": [],
   "source": [
    "ious = []\n",
    "for (GT, rollout) in tqdm(zip(GT_physics, rollout_physics), total=len(GT_physics)):\n",
    "    iou_traj = []\n",
    "    for (GT_pos, rollout_pos) in zip(GT, rollout):\n",
    "        # Calculate IoU for each pair of GT and rollout positions\n",
    "        iou_traj.append(mean_iou(rollout_pos.unsqueeze(0), GT_pos.unsqueeze(0), n_compartments=32, bounding_box=(-0.9, 1.9, -0.9, 1.9)))\n",
    "    ious.append(torch.stack(iou_traj))"
   ]
  },
  {
   "cell_type": "code",
   "execution_count": null,
   "id": "88444a7f",
   "metadata": {},
   "outputs": [],
   "source": [
    "torch.save(ious, \"D:/Projects/Master/UPT/data/rollout_data_every_start_100_timesteps/ious_32_big_area.pt\")\n",
    "# ious = torch.load(\"D:/Projects/Master/UPT/data/rollout_data_every_start_100_timesteps/ious.pt\")"
   ]
  },
  {
   "cell_type": "code",
   "execution_count": null,
   "id": "9aa79b51",
   "metadata": {},
   "outputs": [],
   "source": [
    "len(ious)"
   ]
  },
  {
   "cell_type": "code",
   "execution_count": null,
   "id": "d57d7151",
   "metadata": {},
   "outputs": [],
   "source": [
    "ious = torch.stack(ious, dim=0)"
   ]
  },
  {
   "cell_type": "code",
   "execution_count": null,
   "id": "132ec163",
   "metadata": {},
   "outputs": [],
   "source": [
    "ious.shape"
   ]
  },
  {
   "cell_type": "code",
   "execution_count": null,
   "id": "f005b016",
   "metadata": {},
   "outputs": [],
   "source": [
    "ious_mean = ious.mean(axis=0).cpu().numpy()\n",
    "ious_std = ious.std(axis=0).cpu().numpy()"
   ]
  },
  {
   "cell_type": "code",
   "execution_count": null,
   "id": "c1faea25",
   "metadata": {},
   "outputs": [],
   "source": [
    "mean_iou(GT_physics[0][0].unsqueeze(0), GT_physics[0][0].unsqueeze(0), n_compartments=400, bounding_box=(-0.9, 1.9, -0.9, 1.9))"
   ]
  },
  {
   "cell_type": "code",
   "execution_count": null,
   "id": "c6893b2e",
   "metadata": {},
   "outputs": [],
   "source": [
    "plot_means_variances(\n",
    "    ious_mean,\n",
    "    ious_std,\n",
    "    xlabel=\"Rollout Timestep\",\n",
    "    ylabel=\"IoU\",\n",
    "    upper_bond=1.0,\n",
    "    lower_bound=0.0,\n",
    ")\n",
    "plt.show()"
   ]
  },
  {
   "cell_type": "markdown",
   "id": "a2bda07f",
   "metadata": {},
   "source": [
    "### Ground truth latent integration comparison"
   ]
  },
  {
   "cell_type": "code",
   "execution_count": null,
   "id": "26c5ffae",
   "metadata": {},
   "outputs": [],
   "source": [
    "correlations = []\n",
    "for (GT, rollout) in tqdm(zip(GT_AE, rollout_AE), total=len(GT_AE)):\n",
    "    correlations.append(calc_correlation(rollout.transpose(0, 1), GT.transpose(0, 1)))"
   ]
  },
  {
   "cell_type": "code",
   "execution_count": null,
   "id": "bc434154",
   "metadata": {},
   "outputs": [],
   "source": [
    "correlations = torch.stack(correlations, dim=0).numpy(force=True)"
   ]
  },
  {
   "cell_type": "code",
   "execution_count": null,
   "id": "ad36ae52",
   "metadata": {},
   "outputs": [],
   "source": [
    "torch.save(correlations, \"D:/Projects/Master/UPT/data/rollout_data_every_start_100_timesteps/correlations_AE_70_steps.pt\")"
   ]
  },
  {
   "cell_type": "code",
   "execution_count": null,
   "id": "f19f4b42",
   "metadata": {},
   "outputs": [],
   "source": [
    "plot_means_variances(\n",
    "    correlations.mean(axis=0),\n",
    "    correlations.std(axis=0),\n",
    "    xlabel=\"Rollout Timestep\",\n",
    "    ylabel=\"Correlation between GT and rollout\",\n",
    "    upper_bond=1.0,\n",
    "    lower_value=0.84\n",
    ")"
   ]
  },
  {
   "cell_type": "code",
   "execution_count": null,
   "id": "b4f242b7",
   "metadata": {},
   "outputs": [],
   "source": [
    "ious = []\n",
    "for (GT, rollout) in tqdm(zip(GT_AE, rollout_AE), total=len(rollout_AE)):\n",
    "    iou_traj = []\n",
    "    for (GT_pos, rollout_pos) in zip(GT, rollout):\n",
    "        # Calculate IoU for each pair of GT and rollout positions\n",
    "        iou_traj.append(mean_iou(rollout_pos.unsqueeze(0), GT_pos.unsqueeze(0), n_compartments=50, bounding_box=(-0.9, 1.9, -0.9, 1.9)))\n",
    "    ious.append(torch.stack(iou_traj))"
   ]
  },
  {
   "cell_type": "code",
   "execution_count": null,
   "id": "17a45da1",
   "metadata": {},
   "outputs": [],
   "source": [
    "ious = torch.stack(ious, dim=0).numpy(force=True)"
   ]
  },
  {
   "cell_type": "code",
   "execution_count": null,
   "id": "a3bdb6d6",
   "metadata": {},
   "outputs": [],
   "source": [
    "torch.save(ious, \"D:/Projects/Master/UPT/data/rollout_data_every_start_100_timesteps/ious_AE_70_steps.pt\")"
   ]
  },
  {
   "cell_type": "code",
   "execution_count": null,
   "id": "f104fec3",
   "metadata": {},
   "outputs": [],
   "source": [
    "plot_means_variances(\n",
    "    ious.mean(axis=0),\n",
    "    ious.std(axis=0),\n",
    "    xlabel=\"Rollout Timestep\",\n",
    "    ylabel=\"IoU\",\n",
    "    upper_bond=1.0,\n",
    "    lower_value=0.7\n",
    ")"
   ]
  },
  {
   "cell_type": "code",
   "execution_count": null,
   "id": "ccd8351f",
   "metadata": {},
   "outputs": [],
   "source": []
  }
 ],
 "metadata": {
  "kernelspec": {
   "display_name": "UPT",
   "language": "python",
   "name": "python3"
  },
  "language_info": {
   "codemirror_mode": {
    "name": "ipython",
    "version": 3
   },
   "file_extension": ".py",
   "mimetype": "text/x-python",
   "name": "python",
   "nbconvert_exporter": "python",
   "pygments_lexer": "ipython3",
   "version": "3.10.13"
  }
 },
 "nbformat": 4,
 "nbformat_minor": 5
}
