{
 "cells": [
  {
   "cell_type": "code",
   "execution_count": null,
   "id": "0149199f",
   "metadata": {},
   "outputs": [],
   "source": [
    "from omegaconf import OmegaConf\n",
    "from hydra.core.global_hydra import GlobalHydra\n",
    "from hydra.utils import instantiate\n",
    "from src.models.autoencoder import AutoencoderLitModule\n",
    "from src.models.physics import PhysicsLitModule\n",
    "from src.utils import animate\n",
    "\n",
    "import os\n",
    "import sys\n",
    "from IPython.display import HTML\n",
    "from tqdm import tqdm\n",
    "import torch\n",
    "from torch_geometric.data import Data\n",
    "import numpy as np\n",
    "import matplotlib\n",
    "import matplotlib.pyplot as plt\n",
    "import matplotlib.animation as animation\n",
    "matplotlib.rcParams['animation.embed_limit'] = 400  # set 100 MB limit for animations\n",
    "\n",
    "import numpy as np\n",
    "import einops\n",
    "from functools import partial\n",
    "from src.datasets.particle_datamodule import ParticleDataModule\n",
    "\n",
    "GlobalHydra.instance().clear()\n",
    "\n",
    "os.environ[\"PROJECT_ROOT\"] = os.path.abspath(\".\")"
   ]
  },
  {
   "cell_type": "code",
   "execution_count": null,
   "id": "4275c3d5",
   "metadata": {},
   "outputs": [],
   "source": [
    "def plot_metric(mse, title: str, log: bool = False):\n",
    "    plt.clf()\n",
    "    fig, ax = plt.subplots(figsize=(10, 5))\n",
    "    ax.plot(mse, label='Metric')\n",
    "    ax.set_xlabel('Timestep')\n",
    "    ax.set_ylabel('Metric')\n",
    "    ax.set_title(f\"{title} Metric Over Time\")\n",
    "    ax.legend()\n",
    "    if log: ax.set_yscale('log')\n",
    "    plt.tight_layout()\n",
    "    plt.show()\n",
    "\n",
    "def plot_two_series(y1: np.ndarray,\n",
    "                    y2: np.ndarray,\n",
    "                    labels=('Series 1', 'Series 2'),\n",
    "                    xlabel: str = 'Index',\n",
    "                    ylabel: str = 'Value',\n",
    "                    title: str = 'Two Series on One Plot',\n",
    "                    log: bool = False,\n",
    "                    y_limit: tuple = None,\n",
    "                    figsize: tuple = None,\n",
    "                    dpi: int = 100,\n",
    "                    gridlines: tuple[bool] = (False, False)) -> None:\n",
    "    \"\"\"\n",
    "    Plots two same-length sequences/arrays on the same axes.\n",
    "\n",
    "    Parameters\n",
    "    ----------\n",
    "    y1 : np.ndarray\n",
    "        First data series (plotted in default style).\n",
    "    y2 : np.ndarray\n",
    "        Second data series (plotted in dashed style).\n",
    "    labels : tuple of str, optional\n",
    "        Labels for the two series (default ('Series 1', 'Series 2')).\n",
    "    xlabel : str, optional\n",
    "        Label for the x-axis (default 'Index').\n",
    "    ylabel : str, optional\n",
    "        Label for the y-axis (default 'Value').\n",
    "    title : str, optional\n",
    "        Title of the plot (default 'Two Series on One Plot').\n",
    "\n",
    "    Raises\n",
    "    ------\n",
    "    ValueError\n",
    "        If y1 and y2 are not the same length.\n",
    "    \"\"\"\n",
    "    if len(y1) != len(y2):\n",
    "        raise ValueError(f\"Input arrays must have the same length; got {len(y1)} and {len(y2)}\")\n",
    "\n",
    "    x = np.arange(len(y1))              # common x-axis\n",
    "    fig, ax = plt.subplots(figsize=figsize, dpi=dpi)  # new figure\n",
    "    ax.plot(x, y1, label=labels[0])    # first series\n",
    "    ax.plot(x, y2, label=labels[1])  # second series with dashed line\n",
    "    ax.set_xlabel(xlabel)                  # x-axis label\n",
    "    ax.set_ylabel(ylabel)                  # y-axis label\n",
    "    ax.set_title(title)                    # plot title\n",
    "    ax.legend()                        # show legend\n",
    "    ax.xaxis.grid(gridlines[0])  # x-axis gridlines if requested\n",
    "    ax.yaxis.grid(gridlines[1])  # y-axis gridlines if requested\n",
    "    if log: ax.set_yscale('log')           # set y-axis to logarithmic scale if requested\n",
    "    if y_limit: ax.set_ylim(y_limit)       # set y-axis limits if provided\n",
    "    plt.tight_layout()                  # nicely fit elements\n",
    "    plt.show()                          # display\n",
    "\n",
    "def compute_mse(preds, targets):\n",
    "    preds = einops.rearrange(preds, 't n c -> t (n c)')\n",
    "    targets = einops.rearrange(targets, 't n c -> t (n c)')\n",
    "    mse = torch.mean((preds - targets) ** 2, dim=1).cpu().numpy()\n",
    "    return mse"
   ]
  },
  {
   "cell_type": "code",
   "execution_count": null,
   "id": "64ae6c9c",
   "metadata": {},
   "outputs": [],
   "source": [
    "cfg = OmegaConf.load(\"logs/train/runs/2025-09-02_16-10-21/.hydra/config.yaml\")\n",
    "model = instantiate(cfg.model)\n",
    "net = instantiate(cfg.model.model)\n",
    "loss_function = instantiate(cfg.model.loss_function)\n",
    "model = AutoencoderLitModule.load_from_checkpoint(\n",
    "    checkpoint_path=\"logs/train/runs/2025-09-02_16-10-21/waterdrop/pu1byyxz/checkpoints/epoch=26-step=404595.ckpt\",\n",
    "    model=net,\n",
    "    loss_function=loss_function\n",
    ")\n",
    "model.eval()\n",
    "model.to(\"cuda\")\n",
    "dataset_AE = instantiate(cfg.data)\n",
    "dataset_AE.setup(stage=\"autoencoder\")\n",
    "dataset_AE.shuffle = False\n",
    "dataset_AE.batch_size = 1\n",
    "dataset_AE.num_workers = 0\n",
    "dataset_AE.pin_memory = False\n",
    "dataset_AE.persistent_workers = False\n",
    "dataset_AE.train_dataset.rollout = True\n",
    "dataset_AE.val_dataset.rollout = True"
   ]
  },
  {
   "cell_type": "code",
   "execution_count": null,
   "id": "7ab1819e",
   "metadata": {},
   "outputs": [],
   "source": [
    "cfg          = OmegaConf.load(\n",
    "    \"logs/train/runs/2025-09-04_07-13-04/.hydra/config.yaml\"\n",
    ")\n",
    "\n",
    "# factories\n",
    "latent_model_factory = instantiate(cfg.model.latent_model, _partial_=True)\n",
    "model_factory        = instantiate(cfg.model,            _partial_=True)\n",
    "loss_function        = instantiate(cfg.model.loss_function)\n",
    "\n",
    "lit_model = PhysicsLitModule.load_from_checkpoint(\n",
    "    \"logs/train/runs/2025-09-04_07-13-04/waterdrop_physics/w55pl0j7/checkpoints/epoch=15-step=239520.ckpt\",\n",
    "    latent_model = latent_model_factory,\n",
    "    model        = model_factory,\n",
    "    loss_function= loss_function,\n",
    "    strict       = True,\n",
    "    map_location = \"cuda\"\n",
    ")\n",
    "lit_model.eval()\n",
    "dataset_PH = instantiate(cfg.data)\n",
    "dataset_PH.setup(stage=\"physics\")"
   ]
  },
  {
   "cell_type": "code",
   "execution_count": null,
   "id": "c9130583",
   "metadata": {},
   "outputs": [],
   "source": [
    "TRAJ_IDX = list(range(10))\n",
    "IDX_PH = [[0]]*10\n",
    "IDX_AE = [[0]]*10"
   ]
  },
  {
   "cell_type": "markdown",
   "id": "a9a45e9b",
   "metadata": {},
   "source": [
    "# AE"
   ]
  },
  {
   "cell_type": "code",
   "execution_count": null,
   "id": "455acb05",
   "metadata": {},
   "outputs": [],
   "source": [
    "rollouts, GT_positions, GT_vel_fields_normalized, MSE_Fields_normalized, latents = model.GT_encode_decode(\n",
    "    dataset_AE,\n",
    "    traj_idx=TRAJ_IDX,\n",
    "    idx=IDX_AE,\n",
    "    query_gt_pos=False,\n",
    "    split=\"test\"\n",
    ")"
   ]
  },
  {
   "cell_type": "code",
   "execution_count": null,
   "id": "26d701a4",
   "metadata": {},
   "outputs": [],
   "source": [
    "ani = animate(\n",
    "    rollouts[0],\n",
    "    ground_truth=GT_positions[0],\n",
    "    ref_frame=((0, 1), (0, 1))\n",
    ")"
   ]
  },
  {
   "cell_type": "code",
   "execution_count": null,
   "id": "0848f468",
   "metadata": {},
   "outputs": [],
   "source": [
    "HTML(ani.to_jshtml())"
   ]
  },
  {
   "cell_type": "code",
   "execution_count": null,
   "id": "d10e2ce6",
   "metadata": {},
   "outputs": [],
   "source": [
    "rollouts_AE, GT_positions_AE, GT_vel_fields_normalized_AE, MSE_Fields_normalized_AE, latents_AE = model.GT_encode_decode(\n",
    "    dataset_AE,\n",
    "    traj_idx=TRAJ_IDX,\n",
    "    idx=IDX_AE,\n",
    "    query_gt_pos=True,\n",
    "    split=\"test\"\n",
    ")"
   ]
  },
  {
   "cell_type": "code",
   "execution_count": null,
   "id": "77ac30ee",
   "metadata": {},
   "outputs": [],
   "source": [
    "plot_two_series(\n",
    "    MSE_Fields_normalized[0][:200],\n",
    "    MSE_Fields_normalized_AE[0][:200],\n",
    "    labels=('AE-int', 'AE'),\n",
    "    xlabel='Timestep',\n",
    "    ylabel='MSE on particle positions',\n",
    "    title='Particle position error between AE and AE-int',\n",
    "    log=True,\n",
    "    y_limit=(5*1e-7, 1e0),\n",
    "    figsize=(8, 5),\n",
    "    dpi=200,\n",
    "    gridlines=(True, False)\n",
    ")"
   ]
  },
  {
   "cell_type": "markdown",
   "id": "45440c00",
   "metadata": {},
   "source": [
    "# Physics"
   ]
  },
  {
   "cell_type": "code",
   "execution_count": null,
   "id": "b307eebd",
   "metadata": {},
   "outputs": [],
   "source": [
    "rollout_AE, GT_AE, GT_vel_fields_normalized_AE, MSE_fields_normalized_AE, latents_AE = model.GT_encode_decode(\n",
    "    particle_dm=dataset_AE,\n",
    "    traj_idx=TRAJ_IDX,\n",
    "    idx=IDX_AE,\n",
    "    query_gt_pos=True,\n",
    "    split=\"test\",\n",
    ")"
   ]
  },
  {
   "cell_type": "code",
   "execution_count": null,
   "id": "0ffde27d",
   "metadata": {},
   "outputs": [],
   "source": [
    "rollout_AE_int, GT_AE_int, GT_vel_fields_normalized_AE_int, MSE_fields_normalized_AE_int, latents_AE_int = model.GT_encode_decode(\n",
    "    particle_dm=dataset_AE,\n",
    "    traj_idx=TRAJ_IDX,\n",
    "    idx=IDX_AE,\n",
    "    query_gt_pos=False,\n",
    "    split=\"test\",\n",
    ")"
   ]
  },
  {
   "cell_type": "code",
   "execution_count": null,
   "id": "1d827c52",
   "metadata": {},
   "outputs": [],
   "source": [
    "for (MSE_field_normalized_AE, MSE_field_normalized_physics) in zip(MSE_fields_normalized_AE, MSE_fields_normalized_physics):\n",
    "    plot_two_series(\n",
    "        MSE_field_normalized_AE[1:],\n",
    "        MSE_field_normalized_physics,\n",
    "        labels=('Reconstruction MSE', 'One-step oracle MSE'),\n",
    "        xlabel='Timestep',\n",
    "        ylabel='MSE',\n",
    "        title='MSE Comparison Between AE and Physics Models',\n",
    "        log=True\n",
    "    )\n",
    "    plt.clf()"
   ]
  },
  {
   "cell_type": "markdown",
   "id": "4e60f6e8",
   "metadata": {},
   "source": [
    "## 0st"
   ]
  },
  {
   "cell_type": "code",
   "execution_count": null,
   "id": "31168a88",
   "metadata": {},
   "outputs": [],
   "source": [
    "ani = animate(\n",
    "    rollout=rollout_AE_int[0],\n",
    "    ground_truth=GT_AE_int[0],\n",
    ")\n",
    "HTML(ani.to_jshtml())"
   ]
  },
  {
   "cell_type": "code",
   "execution_count": null,
   "id": "ccbe2a2b",
   "metadata": {},
   "outputs": [],
   "source": [
    "rollout_physics_0_50, GT_physics_0_50, GT_vel_fields_normalized_physics_0_50, MSE_fields_normalized_physics_0_50, MSE_Field_latent_physics_0_50, latents_physics_0_50 = lit_model.rollout_physics(\n",
    "    particle_dm=dataset_PH,\n",
    "    traj_idx=[0],\n",
    "    idx=[[50]],\n",
    "    query_gt_pos=False,\n",
    "    split=\"test\",\n",
    "    use_gt_field=False\n",
    ")"
   ]
  },
  {
   "cell_type": "code",
   "execution_count": null,
   "id": "de3d66b6",
   "metadata": {},
   "outputs": [],
   "source": [
    "ani = animate(\n",
    "    rollout=rollout_physics_0_50,\n",
    "    ground_truth=GT_physics_0_50,\n",
    "    start_idx=50,\n",
    ")\n",
    "HTML(ani.to_jshtml())"
   ]
  },
  {
   "cell_type": "code",
   "execution_count": null,
   "id": "364ffd8c",
   "metadata": {},
   "outputs": [],
   "source": [
    "rollout_physics_0_0, GT_physics_0_0, GT_vel_fields_normalized_physics_0_0, MSE_fields_normalized_physics_0_0, MSE_Field_latent_physics_0_0, latents_physics_0_0 = lit_model.rollout_physics(\n",
    "    particle_dm=dataset_PH,\n",
    "    traj_idx=[0],\n",
    "    idx=[[0]],\n",
    "    query_gt_pos=False,\n",
    "    split=\"test\",\n",
    "    use_gt_field=False\n",
    ")"
   ]
  },
  {
   "cell_type": "code",
   "execution_count": null,
   "id": "7269c8d5",
   "metadata": {},
   "outputs": [],
   "source": [
    "ani = animate(\n",
    "    rollout=rollout_physics_0_0,\n",
    "    ground_truth=GT_physics_0_0,\n",
    "    ref_frame=((0, 1), (0, 0.6))\n",
    ")\n",
    "HTML(ani.to_jshtml())"
   ]
  },
  {
   "cell_type": "markdown",
   "id": "92c6d522",
   "metadata": {},
   "source": [
    "## Trajectories starting at 250"
   ]
  },
  {
   "cell_type": "code",
   "execution_count": null,
   "id": "2e434067",
   "metadata": {},
   "outputs": [],
   "source": [
    "TRAJ_IDX = [0, 1, 2, 3, 4, 5, 6, 7, 8, 9]\n",
    "IDX_PH = [[250]]*10"
   ]
  },
  {
   "cell_type": "code",
   "execution_count": null,
   "id": "f2fc047c",
   "metadata": {},
   "outputs": [],
   "source": [
    "rollout_physics_250, GT_physics_250, GT_vel_fields_normalized_physics_250, MSE_fields_normalized_physics_250, MSE_Field_latent_physics_250, latents_physics_250 = lit_model.rollout_physics(\n",
    "    particle_dm=dataset_PH,\n",
    "    traj_idx=TRAJ_IDX,\n",
    "    idx=IDX_PH,\n",
    "    query_gt_pos=False,\n",
    "    split=\"test\",\n",
    "    use_gt_field=False\n",
    ")"
   ]
  },
  {
   "cell_type": "code",
   "execution_count": null,
   "id": "130c291c",
   "metadata": {},
   "outputs": [],
   "source": [
    "ani = animate(\n",
    "    rollout=rollout_physics_250[1],\n",
    "    ground_truth=GT_physics_250[1],\n",
    "    ref_frame=((0, 1), (0, 1)),\n",
    "    start_idx=250\n",
    ")\n",
    "HTML(ani.to_jshtml())"
   ]
  },
  {
   "cell_type": "code",
   "execution_count": null,
   "id": "bbdab08b",
   "metadata": {},
   "outputs": [],
   "source": [
    "ani = animate(\n",
    "    rollout=rollout_physics_250[6],\n",
    "    ground_truth=GT_physics_250[6],\n",
    "    ref_frame=((0, 1), (0, 1)),\n",
    "    start_idx=250\n",
    ")\n",
    "HTML(ani.to_jshtml())"
   ]
  },
  {
   "cell_type": "code",
   "execution_count": null,
   "id": "cbb9c666",
   "metadata": {},
   "outputs": [],
   "source": [
    "ani = animate(\n",
    "    rollout=rollout_physics_250[8],\n",
    "    ground_truth=GT_physics_250[8],\n",
    "    ref_frame=((0, 1), (0, 1)),\n",
    "    start_idx=250\n",
    ")\n",
    "HTML(ani.to_jshtml())"
   ]
  },
  {
   "cell_type": "code",
   "execution_count": null,
   "id": "70a8533f",
   "metadata": {},
   "outputs": [],
   "source": []
  }
 ],
 "metadata": {
  "kernelspec": {
   "display_name": "UPT",
   "language": "python",
   "name": "python3"
  },
  "language_info": {
   "codemirror_mode": {
    "name": "ipython",
    "version": 3
   },
   "file_extension": ".py",
   "mimetype": "text/x-python",
   "name": "python",
   "nbconvert_exporter": "python",
   "pygments_lexer": "ipython3",
   "version": "3.10.13"
  }
 },
 "nbformat": 4,
 "nbformat_minor": 5
}
